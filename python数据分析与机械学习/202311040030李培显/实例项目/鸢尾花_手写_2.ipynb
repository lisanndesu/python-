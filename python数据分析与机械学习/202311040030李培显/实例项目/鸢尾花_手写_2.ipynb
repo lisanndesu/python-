{
 "cells": [
  {
   "cell_type": "code",
   "execution_count": 2,
   "id": "c0f2b15f-657b-402a-a006-2b38762e5e7d",
   "metadata": {},
   "outputs": [],
   "source": [
    "import numpy as np\n",
    "import math\n",
    "#用pandas读取外部文件\n",
    "import pandas as pd\n",
    "#绘图\n",
    "import matplotlib.pyplot as plt"
   ]
  },
  {
   "cell_type": "code",
   "execution_count": null,
   "id": "dd225efd-41f8-4596-beb3-80e0c4581d13",
   "metadata": {},
   "outputs": [],
   "source": []
  },
  {
   "cell_type": "code",
   "execution_count": null,
   "id": "e7b7f827-8760-4a22-b471-78ecf1793434",
   "metadata": {},
   "outputs": [],
   "source": []
  },
  {
   "cell_type": "code",
   "execution_count": 3,
   "id": "4687b6b9-be2e-4e0c-9e32-ef40d31e8fe2",
   "metadata": {},
   "outputs": [],
   "source": [
    "\n",
    "import numpy as np\n",
    "from pandas.plotting import scatter_matrix\n",
    "#sklearn分类需要的类\n",
    "from sklearn.model_selection import train_test_split\n",
    "from sklearn.model_selection import KFold\n",
    "\n",
    "#打分\n",
    "from sklearn.metrics import accuracy_score\n",
    "\n",
    "\n",
    "#逻辑回归算法\n",
    "from sklearn.linear_model import LogisticRegression\n",
    "#交叉验证\n",
    "from sklearn.model_selection import cross_val_score\n",
    "#决策树\n",
    "from sklearn.tree import DecisionTreeClassifier\n",
    "#K-Means\n",
    "from sklearn.cluster import KMeans\n",
    "#贝叶斯\n",
    "from sklearn.naive_bayes import GaussianNB\n",
    "#支持向量机SVM\n",
    "from sklearn.svm import SVC\n"
   ]
  },
  {
   "cell_type": "code",
   "execution_count": 43,
   "id": "ba3a4731-fa74-4aaa-809b-cff71aeea0d4",
   "metadata": {},
   "outputs": [],
   "source": [
    "names=[\"sepal.Length\", \"sepal.width\", \"petal.lengh\", \"petal.width\", \"label\"]\n",
    "dataset = pd.read_csv(\"iris.csv\", names=names, header=0)\n"
   ]
  },
  {
   "cell_type": "code",
   "execution_count": null,
   "id": "0ab2fcb3-17fe-45c9-8525-de58393a5937",
   "metadata": {},
   "outputs": [],
   "source": []
  },
  {
   "cell_type": "code",
   "execution_count": null,
   "id": "2d87d658-3338-473a-b9ca-0062660339fc",
   "metadata": {},
   "outputs": [],
   "source": []
  },
  {
   "cell_type": "code",
   "execution_count": null,
   "id": "3d501fc5-6391-46c4-99dd-6d5bd0fc8797",
   "metadata": {},
   "outputs": [],
   "source": []
  },
  {
   "cell_type": "code",
   "execution_count": 41,
   "id": "8ebae943-8296-42a3-b882-b69ecc8512e6",
   "metadata": {},
   "outputs": [
    {
     "name": "stdout",
     "output_type": "stream",
     "text": [
      "<class 'pandas.core.series.Series'>\n"
     ]
    }
   ],
   "source": [
    "print(type(dataset))"
   ]
  },
  {
   "cell_type": "code",
   "execution_count": 42,
   "id": "408ec311-4fcb-40ff-8c39-1c9fdf3cd757",
   "metadata": {},
   "outputs": [
    {
     "name": "stdout",
     "output_type": "stream",
     "text": [
      "0      1\n",
      "1      1\n",
      "2      1\n",
      "3      1\n",
      "4      1\n",
      "      ..\n",
      "145    3\n",
      "146    3\n",
      "147    3\n",
      "148    3\n",
      "149    3\n",
      "Name: label, Length: 150, dtype: int64\n"
     ]
    }
   ],
   "source": [
    "print(dataset)"
   ]
  },
  {
   "cell_type": "code",
   "execution_count": null,
   "id": "b703a2eb-b5cf-4826-bab0-0e8d37bef2bf",
   "metadata": {},
   "outputs": [],
   "source": []
  },
  {
   "cell_type": "code",
   "execution_count": 46,
   "id": "a20258d7-76f6-46b2-8d4e-9cbba8e01d5a",
   "metadata": {},
   "outputs": [
    {
     "name": "stdout",
     "output_type": "stream",
     "text": [
      "   sepal.Length  sepal.width  petal.lengh  petal.width  label\n",
      "0           5.1          3.5          1.4          0.2      1\n",
      "1           4.9          3.0          1.4          0.2      1\n",
      "2           4.7          3.2          1.3          0.2      1\n",
      "3           4.6          3.1          1.5          0.2      1\n",
      "4           5.0          3.6          1.4          0.2      1\n",
      "    sepal.Length  sepal.width  petal.lengh  petal.width  label\n",
      "70           5.9          3.2          4.8          1.8      2\n",
      "71           6.1          2.8          4.0          1.3      2\n",
      "     sepal.Length  sepal.width  petal.lengh  petal.width  label\n",
      "145           6.7          3.0          5.2          2.3      3\n",
      "146           6.3          2.5          5.0          1.9      3\n",
      "147           6.5          3.0          5.2          2.0      3\n",
      "148           6.2          3.4          5.4          2.3      3\n",
      "149           5.9          3.0          5.1          1.8      3\n"
     ]
    }
   ],
   "source": [
    "print(dataset.head())\n",
    "print(dataset.iloc[70:72, :])\n",
    "print(dataset.tail())"
   ]
  },
  {
   "cell_type": "code",
   "execution_count": null,
   "id": "8983c305-4b2f-4f8e-b69c-a36f891af97a",
   "metadata": {},
   "outputs": [],
   "source": []
  },
  {
   "cell_type": "code",
   "execution_count": null,
   "id": "8419fa9a-c708-486e-b104-67df0fa707e8",
   "metadata": {},
   "outputs": [],
   "source": []
  },
  {
   "cell_type": "code",
   "execution_count": null,
   "id": "921d1b4a-f314-41c3-8f1e-db8e2c4b5faf",
   "metadata": {},
   "outputs": [],
   "source": []
  },
  {
   "cell_type": "code",
   "execution_count": null,
   "id": "abb81cec-4a47-4f0d-9eab-6fd1b4ca7072",
   "metadata": {},
   "outputs": [],
   "source": []
  },
  {
   "cell_type": "code",
   "execution_count": null,
   "id": "c525c70b-5212-442d-baaa-d315c4171d03",
   "metadata": {},
   "outputs": [],
   "source": []
  },
  {
   "cell_type": "code",
   "execution_count": null,
   "id": "e023957d-f145-49c8-806d-2301cd2c8e78",
   "metadata": {},
   "outputs": [],
   "source": []
  },
  {
   "cell_type": "code",
   "execution_count": null,
   "id": "05a00f38-077c-4377-bb83-4b519a5ed9a0",
   "metadata": {},
   "outputs": [],
   "source": []
  },
  {
   "cell_type": "code",
   "execution_count": null,
   "id": "dc70945e-8a32-420f-a666-7c43437c14f1",
   "metadata": {},
   "outputs": [],
   "source": []
  },
  {
   "cell_type": "code",
   "execution_count": null,
   "id": "cef08af2-0904-4383-93dd-786600c9d16a",
   "metadata": {},
   "outputs": [],
   "source": []
  },
  {
   "cell_type": "code",
   "execution_count": 45,
   "id": "1bb52df5-0b99-44d5-aa44-0627200ad676",
   "metadata": {},
   "outputs": [],
   "source": [
    "#label 特征化\n",
    "label_dict={\"setosa\":1, \"versicolor\":2, \"virginica\":3}\n",
    "dataset[\"label\"] = dataset[\"label\"].map(label_dict)"
   ]
  },
  {
   "cell_type": "code",
   "execution_count": null,
   "id": "c7ffc9b4-f12a-4d29-9db7-a2fd39af37d3",
   "metadata": {},
   "outputs": [],
   "source": []
  },
  {
   "cell_type": "code",
   "execution_count": null,
   "id": "6bafceeb-aee1-4710-b3eb-d6e0d5a8b6d8",
   "metadata": {},
   "outputs": [],
   "source": []
  },
  {
   "cell_type": "code",
   "execution_count": null,
   "id": "f97c6e10-cbef-446a-82ac-f652d79f707d",
   "metadata": {},
   "outputs": [],
   "source": []
  },
  {
   "cell_type": "code",
   "execution_count": 48,
   "id": "38587d61-64c7-4026-9474-b3b73f411a21",
   "metadata": {},
   "outputs": [
    {
     "name": "stdout",
     "output_type": "stream",
     "text": [
      "False\n",
      "False\n"
     ]
    }
   ],
   "source": [
    "### 处理缺失值\n",
    "mean = dataset[names[0]].mean()\n",
    "dataset[names[0]].fillna(mean, inplace=True)\n",
    "print(dataset[names[0]].isnull().any())\n",
    "\n",
    "dataset.fillna(method=\"bfill\", inplace=True)\n",
    "print(dataset.isnull().any().any())"
   ]
  },
  {
   "cell_type": "code",
   "execution_count": null,
   "id": "26a277f6-2151-408b-a026-3f2ae6d78dd1",
   "metadata": {},
   "outputs": [],
   "source": []
  },
  {
   "cell_type": "code",
   "execution_count": null,
   "id": "45714328-7cbf-48d6-850c-f2153dd728fd",
   "metadata": {},
   "outputs": [],
   "source": []
  },
  {
   "cell_type": "code",
   "execution_count": null,
   "id": "3fe6c05e-8a67-4a7f-9d27-8eccca1ac9e0",
   "metadata": {},
   "outputs": [],
   "source": []
  },
  {
   "cell_type": "code",
   "execution_count": 49,
   "id": "f8fe6d42-dc0e-4551-87d6-b0ae35c189be",
   "metadata": {},
   "outputs": [
    {
     "name": "stdout",
     "output_type": "stream",
     "text": [
      "     sepal.Length  sepal.width  petal.lengh  petal.width  label\n",
      "0             5.1          3.5          1.4          0.2      1\n",
      "1             4.9          3.0          1.4          0.2      1\n",
      "2             4.7          3.2          1.3          0.2      1\n",
      "3             4.6          3.1          1.5          0.2      1\n",
      "4             5.0          3.6          1.4          0.2      1\n",
      "..            ...          ...          ...          ...    ...\n",
      "145           6.7          3.0          5.2          2.3      3\n",
      "146           6.3          2.5          5.0          1.9      3\n",
      "147           6.5          3.0          5.2          2.0      3\n",
      "148           6.2          3.4          5.4          2.3      3\n",
      "149           5.9          3.0          5.1          1.8      3\n",
      "\n",
      "[150 rows x 5 columns]\n"
     ]
    }
   ],
   "source": [
    "print(dataset)"
   ]
  },
  {
   "cell_type": "code",
   "execution_count": null,
   "id": "2a4ae5f0-3134-420d-907a-36c0efc1b2a8",
   "metadata": {},
   "outputs": [],
   "source": []
  },
  {
   "cell_type": "code",
   "execution_count": null,
   "id": "8d5a1550-f928-4187-b44d-5962485c6031",
   "metadata": {},
   "outputs": [],
   "source": []
  },
  {
   "cell_type": "code",
   "execution_count": null,
   "id": "5cfcbb92-61c8-4e65-a3dd-13cfd855b272",
   "metadata": {},
   "outputs": [],
   "source": []
  },
  {
   "cell_type": "code",
   "execution_count": null,
   "id": "3c1372aa-d0d9-423a-abf0-4e3785ba86e6",
   "metadata": {},
   "outputs": [],
   "source": []
  },
  {
   "cell_type": "code",
   "execution_count": null,
   "id": "d0341c77-cb64-448a-ad01-ca49aedcff3a",
   "metadata": {},
   "outputs": [],
   "source": []
  },
  {
   "cell_type": "code",
   "execution_count": null,
   "id": "d83bd33d-b49a-443f-931b-ec1c579b042b",
   "metadata": {},
   "outputs": [],
   "source": []
  },
  {
   "cell_type": "code",
   "execution_count": null,
   "id": "a10c5e22-b69a-4ce0-8504-24760949220d",
   "metadata": {},
   "outputs": [],
   "source": []
  },
  {
   "cell_type": "code",
   "execution_count": null,
   "id": "21920e95-aa6f-4b27-81bd-a78ce16d45e6",
   "metadata": {},
   "outputs": [],
   "source": []
  },
  {
   "cell_type": "code",
   "execution_count": null,
   "id": "a8c84db9-94fd-4025-8fa6-6c55e8545d9f",
   "metadata": {},
   "outputs": [],
   "source": []
  },
  {
   "cell_type": "code",
   "execution_count": null,
   "id": "627e9de3-f89a-42a9-99a3-6988d5ab1454",
   "metadata": {},
   "outputs": [],
   "source": []
  },
  {
   "cell_type": "code",
   "execution_count": null,
   "id": "6564d36c-13fe-4488-8681-7d6c24e57952",
   "metadata": {},
   "outputs": [],
   "source": []
  },
  {
   "cell_type": "code",
   "execution_count": 50,
   "id": "3ce3be53-5b77-4ba1-893c-4e2a655f4cd2",
   "metadata": {},
   "outputs": [],
   "source": [
    "## 分离训练集\n",
    "test_size = 0.2\n",
    "random_seed = 7\n",
    "array = dataset.values\n",
    "\n",
    "X = array[:, :4]\n",
    "Y = array[:, 4]"
   ]
  },
  {
   "cell_type": "code",
   "execution_count": null,
   "id": "e71fd08e-fdcc-4c27-9699-0edb40d0c459",
   "metadata": {},
   "outputs": [],
   "source": []
  },
  {
   "cell_type": "code",
   "execution_count": 53,
   "id": "35717c86-fb6c-4c26-b465-097dc72d9a46",
   "metadata": {},
   "outputs": [],
   "source": [
    "X_train, X_test, Y_train, Y_test = train_test_split(X, Y, test_size=test_size, random_state=random_seed)\n"
   ]
  },
  {
   "cell_type": "code",
   "execution_count": null,
   "id": "74518f78-0ab5-47e6-a0f4-3370e86b09d9",
   "metadata": {},
   "outputs": [],
   "source": []
  },
  {
   "cell_type": "code",
   "execution_count": 54,
   "id": "1f45d297-e2dd-4b5f-81f1-e8d1677a5e6f",
   "metadata": {},
   "outputs": [
    {
     "name": "stdout",
     "output_type": "stream",
     "text": [
      "(120, 4)\n",
      "(120,)\n",
      "(30, 4)\n",
      "(30,)\n"
     ]
    }
   ],
   "source": [
    "for i in [X_train, Y_train, X_test, Y_test]:\n",
    "    print(i.shape)"
   ]
  },
  {
   "cell_type": "code",
   "execution_count": null,
   "id": "d66181ae-7012-45d5-a7cd-c1b5bd1b844b",
   "metadata": {},
   "outputs": [],
   "source": []
  },
  {
   "cell_type": "code",
   "execution_count": null,
   "id": "e5c210fe-a007-42b5-b284-827238c62828",
   "metadata": {},
   "outputs": [],
   "source": []
  },
  {
   "cell_type": "code",
   "execution_count": null,
   "id": "03689187-ce1b-41b0-a324-666dbaefc867",
   "metadata": {},
   "outputs": [],
   "source": []
  },
  {
   "cell_type": "code",
   "execution_count": null,
   "id": "75b25c93-d251-4e3b-96ad-90111286e3ad",
   "metadata": {},
   "outputs": [],
   "source": []
  },
  {
   "cell_type": "code",
   "execution_count": 55,
   "id": "90546926-8d56-4a5b-844f-5c09194e9881",
   "metadata": {},
   "outputs": [
    {
     "name": "stderr",
     "output_type": "stream",
     "text": [
      "E:\\pycharm\\pyinterpreter\\lib\\site-packages\\sklearn\\linear_model\\_logistic.py:460: ConvergenceWarning: lbfgs failed to converge (status=1):\n",
      "STOP: TOTAL NO. of ITERATIONS REACHED LIMIT.\n",
      "\n",
      "Increase the number of iterations (max_iter) or scale the data as shown in:\n",
      "    https://scikit-learn.org/stable/modules/preprocessing.html\n",
      "Please also refer to the documentation for alternative solver options:\n",
      "    https://scikit-learn.org/stable/modules/linear_model.html#logistic-regression\n",
      "  n_iter_i = _check_optimize_result(\n",
      "E:\\pycharm\\pyinterpreter\\lib\\site-packages\\sklearn\\linear_model\\_logistic.py:460: ConvergenceWarning: lbfgs failed to converge (status=1):\n",
      "STOP: TOTAL NO. of ITERATIONS REACHED LIMIT.\n",
      "\n",
      "Increase the number of iterations (max_iter) or scale the data as shown in:\n",
      "    https://scikit-learn.org/stable/modules/preprocessing.html\n",
      "Please also refer to the documentation for alternative solver options:\n",
      "    https://scikit-learn.org/stable/modules/linear_model.html#logistic-regression\n",
      "  n_iter_i = _check_optimize_result(\n",
      "E:\\pycharm\\pyinterpreter\\lib\\site-packages\\sklearn\\linear_model\\_logistic.py:460: ConvergenceWarning: lbfgs failed to converge (status=1):\n",
      "STOP: TOTAL NO. of ITERATIONS REACHED LIMIT.\n",
      "\n",
      "Increase the number of iterations (max_iter) or scale the data as shown in:\n",
      "    https://scikit-learn.org/stable/modules/preprocessing.html\n",
      "Please also refer to the documentation for alternative solver options:\n",
      "    https://scikit-learn.org/stable/modules/linear_model.html#logistic-regression\n",
      "  n_iter_i = _check_optimize_result(\n",
      "E:\\pycharm\\pyinterpreter\\lib\\site-packages\\sklearn\\linear_model\\_logistic.py:460: ConvergenceWarning: lbfgs failed to converge (status=1):\n",
      "STOP: TOTAL NO. of ITERATIONS REACHED LIMIT.\n",
      "\n",
      "Increase the number of iterations (max_iter) or scale the data as shown in:\n",
      "    https://scikit-learn.org/stable/modules/preprocessing.html\n",
      "Please also refer to the documentation for alternative solver options:\n",
      "    https://scikit-learn.org/stable/modules/linear_model.html#logistic-regression\n",
      "  n_iter_i = _check_optimize_result(\n",
      "E:\\pycharm\\pyinterpreter\\lib\\site-packages\\sklearn\\linear_model\\_logistic.py:460: ConvergenceWarning: lbfgs failed to converge (status=1):\n",
      "STOP: TOTAL NO. of ITERATIONS REACHED LIMIT.\n",
      "\n",
      "Increase the number of iterations (max_iter) or scale the data as shown in:\n",
      "    https://scikit-learn.org/stable/modules/preprocessing.html\n",
      "Please also refer to the documentation for alternative solver options:\n",
      "    https://scikit-learn.org/stable/modules/linear_model.html#logistic-regression\n",
      "  n_iter_i = _check_optimize_result(\n"
     ]
    }
   ],
   "source": [
    "models = {}\n",
    "\n",
    "models[\"LR\"] = LogisticRegression()\n",
    "models[\"Dtree\"] = DecisionTreeClassifier()\n",
    "models[\"NB\"] = GaussianNB()\n",
    "\n",
    "results = []\n",
    "# random_seed = 7\n",
    "\n",
    "for key in models:\n",
    "    kfold = KFold(n_splits=10, random_state = random_seed, shuffle=True)\n",
    "    cv_result = cross_val_score(models[key], X_train, Y_train, cv=kfold, scoring=\"accuracy\")\n",
    "    results.append(cv_result)\n",
    "\n",
    "\n"
   ]
  },
  {
   "cell_type": "code",
   "execution_count": 56,
   "id": "bc9984da-2a5d-417f-95d2-38a3e51e2df8",
   "metadata": {},
   "outputs": [
    {
     "name": "stdout",
     "output_type": "stream",
     "text": [
      "[1.         1.         1.         1.         1.         0.91666667\n",
      " 0.91666667 1.         1.         1.        ]\n",
      "[1.         1.         0.75       1.         1.         0.91666667\n",
      " 0.91666667 1.         0.91666667 1.        ]\n",
      "[1.         1.         1.         1.         1.         0.91666667\n",
      " 0.91666667 0.91666667 0.91666667 1.        ]\n"
     ]
    }
   ],
   "source": [
    "for i in results:\n",
    "    print(i)"
   ]
  },
  {
   "cell_type": "code",
   "execution_count": 58,
   "id": "70ff5f6d-5a43-4fb9-8367-ed2d1101071c",
   "metadata": {},
   "outputs": [
    {
     "data": {
      "image/png": "[encoded data removed]",
      "text/plain": [
       "<Figure size 640x480 with 1 Axes>"
      ]
     },
     "metadata": {},
     "output_type": "display_data"
    }
   ],
   "source": [
    "#箱线图比较算法\n",
    "fig=plt.figure()\n",
    "fig.suptitle('Algorithm Comparison')\n",
    "ax=fig.add_subplot(1,1,1) # 分为1*1的第1个子图\n",
    "plt.boxplot(results)\n",
    "ax.set_xticklabels(models.keys())  # plt.xticks(range(1, len(models.keys())+1), models.keys())也可\n",
    "plt.show()"
   ]
  },
  {
   "cell_type": "code",
   "execution_count": null,
   "id": "db91043f-9edc-456c-9b57-121ceb4eb8d4",
   "metadata": {},
   "outputs": [],
   "source": []
  },
  {
   "cell_type": "code",
   "execution_count": 57,
   "id": "8e6694fa-9748-4fb8-9007-90b194f29886",
   "metadata": {},
   "outputs": [
    {
     "data": {
      "image/png": "[encoded data removed]",
      "text/plain": [
       "<Figure size 640x480 with 1 Axes>"
      ]
     },
     "metadata": {},
     "output_type": "display_data"
    }
   ],
   "source": [
    "fig = plt.figure()\n",
    "fig.suptitle(\"fig.suptitle\")\n",
    "aplt.boxplot(results)\n",
    "plt.xticks(range(1, len(models.keys())+1), models.keys())\n",
    "plt.show()"
   ]
  },
  {
   "cell_type": "code",
   "execution_count": null,
   "id": "563b084f-3ba6-4ba4-9569-929317c8a205",
   "metadata": {},
   "outputs": [],
   "source": []
  },
  {
   "cell_type": "code",
   "execution_count": null,
   "id": "584d3581-919c-4cb6-8cc5-ccfe133b4652",
   "metadata": {},
   "outputs": [],
   "source": []
  },
  {
   "cell_type": "code",
   "execution_count": null,
   "id": "8b6601cc-59f3-44de-8541-e2b5844d2ba3",
   "metadata": {},
   "outputs": [],
   "source": []
  },
  {
   "cell_type": "code",
   "execution_count": null,
   "id": "006c3eb2-57cd-443e-b3f8-3c825e3eb3e6",
   "metadata": {},
   "outputs": [],
   "source": []
  },
  {
   "cell_type": "code",
   "execution_count": null,
   "id": "f1bfb238-7c81-4bc7-aa18-e469aa1e56d5",
   "metadata": {},
   "outputs": [],
   "source": []
  },
  {
   "cell_type": "code",
   "execution_count": null,
   "id": "6e967030-2672-4084-94b0-ca87be6b8e30",
   "metadata": {},
   "outputs": [],
   "source": []
  },
  {
   "cell_type": "code",
   "execution_count": null,
   "id": "ce31395b-e8d3-4b97-993c-592789053b0c",
   "metadata": {},
   "outputs": [],
   "source": []
  },
  {
   "cell_type": "code",
   "execution_count": null,
   "id": "bb1a9e68-89d0-4354-a886-96a312cfe102",
   "metadata": {},
   "outputs": [],
   "source": []
  }
 ],
 "metadata": {
  "kernelspec": {
   "display_name": "Python 3 (ipykernel)",
   "language": "python",
   "name": "python3"
  },
  "language_info": {
   "codemirror_mode": {
    "name": "ipython",
    "version": 3
   },
   "file_extension": ".py",
   "mimetype": "text/x-python",
   "name": "python",
   "nbconvert_exporter": "python",
   "pygments_lexer": "ipython3",
   "version": "3.8.10"
  }
 },
 "nbformat": 4,
 "nbformat_minor": 5
}
