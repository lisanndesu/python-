{
 "cells": [
  {
   "cell_type": "markdown",
   "metadata": {},
   "source": [
    "## 鸢尾花项目练习\n",
    "\n",
    "![](./image/iris.png)\n",
    "\n",
    "鸢尾花数据集属于有监督数据集，数据包括：花瓣的长度、宽度、花萼的长度、宽度。所有花隶属于setosa、versicolor和virginica三个品种之一。这是一个典型的三分类问题。\n",
    "\n",
    "\n",
    "鸢尾花（iris）数据集是机器学习和统计学中一个经典的数据集。\n",
    "\n",
    "<font color='red'><b>1、导入iris数据集</b></font>"
   ]
  },
  {
   "cell_type": "code",
   "execution_count": 1,
   "metadata": {},
   "outputs": [],
   "source": [
    "import numpy as np\n",
    "import math\n",
    "#用pandas读取外部文件\n",
    "import pandas as pd\n",
    "#绘图\n",
    "import matplotlib.pyplot as plt"
   ]
  },
  {
   "cell_type": "markdown",
   "metadata": {},
   "source": [
    "读取鸢尾花数据集，并给每一列数据重新命名"
   ]
  },
  {
   "cell_type": "code",
   "execution_count": 3,
   "metadata": {},
   "outputs": [],
   "source": [
    "filename = 'data/iris.csv'\n",
    "#names是给每列数据命名\n",
    "col_name = ['separ-length','separ-width','petal-length','petal-width','label']\n"
   ]
  },
  {
   "cell_type": "markdown",
   "metadata": {},
   "source": [
    "使用pandas读入csv文件"
   ]
  },
  {
   "cell_type": "code",
   "execution_count": 4,
   "metadata": {},
   "outputs": [
    {
     "name": "stdout",
     "output_type": "stream",
     "text": [
      "<class 'pandas.core.frame.DataFrame'> \n",
      "    separ-length  separ-width  petal-length  petal-width   label\n",
      "0           5.1          3.5           1.4          0.2  setosa\n",
      "1           4.9          3.0           1.4          0.2  setosa\n",
      "2           4.7          3.2           1.3          0.2  setosa\n",
      "3           4.6          3.1           1.5          0.2  setosa\n",
      "4           5.0          3.6           1.4          0.2  setosa\n",
      "5           5.4          3.9           1.7          0.4  setosa\n",
      "6           4.6          3.4           1.4          0.3  setosa\n",
      "7           5.0          3.4           1.5          0.2  setosa\n",
      "8           4.4          2.9           1.4          0.2  setosa\n",
      "9           4.9          3.1           1.5          0.1  setosa\n"
     ]
    }
   ],
   "source": [
    "dataset = pd.read_csv(filename, names=col_name, header=0)\n",
    "print(type(dataset), '\\n', dataset.head(10))"
   ]
  },
  {
   "cell_type": "markdown",
   "metadata": {},
   "source": [
    "<font color='red'><b>2、探索数据</b></font>\n",
    "\n",
    "数据导入后，我们急需要知道数据的信息。\n",
    "\n",
    "可以从以下几个角度审查数据：\n",
    "\n",
    "（1）查看数据；\n",
    "\n",
    "（2）数据的维度；\n",
    "\n",
    "（3）统计描述所有的数据特征；\n",
    "\n",
    "（4）数据分类的分布情况。\n",
    "\n",
    "\n",
    "<font color='red'><b>2.1 查看数据</b></font>"
   ]
  },
  {
   "cell_type": "code",
   "execution_count": 5,
   "metadata": {},
   "outputs": [
    {
     "name": "stdout",
     "output_type": "stream",
     "text": [
      "   separ-length  separ-width  petal-length  petal-width   label\n",
      "0           5.1          3.5           1.4          0.2  setosa\n",
      "1           4.9          3.0           1.4          0.2  setosa\n",
      "2           4.7          3.2           1.3          0.2  setosa\n",
      "3           4.6          3.1           1.5          0.2  setosa\n",
      "4           5.0          3.6           1.4          0.2  setosa      separ-length  separ-width  petal-length  petal-width      label\n",
      "145           6.7          3.0           5.2          2.3  virginica\n",
      "146           NaN          NaN           NaN          1.9  virginica\n",
      "147           6.5          3.0           5.2          2.0  virginica\n",
      "148           6.2          3.4           5.4          2.3  virginica\n",
      "149           5.9          3.0           5.1          1.8  virginica\n"
     ]
    }
   ],
   "source": [
    "#查看数据前五行\n",
    "h1 = dataset.head()\n",
    "#查看数据后五行\n",
    "t1 = dataset.tail(5)\n",
    "print(h1, t1)"
   ]
  },
  {
   "cell_type": "markdown",
   "metadata": {},
   "source": [
    "将h1和t1按行拼接，并重新设置index"
   ]
  },
  {
   "cell_type": "code",
   "execution_count": 6,
   "metadata": {},
   "outputs": [
    {
     "name": "stdout",
     "output_type": "stream",
     "text": [
      "   separ-length  separ-width  petal-length  petal-width      label\n",
      "0           5.1          3.5           1.4          0.2     setosa\n",
      "1           4.9          3.0           1.4          0.2     setosa\n",
      "2           4.7          3.2           1.3          0.2     setosa\n",
      "3           4.6          3.1           1.5          0.2     setosa\n",
      "4           5.0          3.6           1.4          0.2     setosa\n",
      "5           6.7          3.0           5.2          2.3  virginica\n",
      "6           NaN          NaN           NaN          1.9  virginica\n",
      "7           6.5          3.0           5.2          2.0  virginica\n",
      "8           6.2          3.4           5.4          2.3  virginica\n",
      "9           5.9          3.0           5.1          1.8  virginica <class 'pandas.core.frame.DataFrame'>\n"
     ]
    }
   ],
   "source": [
    "#将h1和t1按行拼接，并重新设置index\n",
    "d1 = pd.concat([h1,t1], ignore_index=True)\n",
    "print(d1, type(d1))"
   ]
  },
  {
   "cell_type": "markdown",
   "metadata": {},
   "source": [
    "<font color='red'><b>2.2 查看数据的维度</b></font>"
   ]
  },
  {
   "cell_type": "code",
   "execution_count": 7,
   "metadata": {},
   "outputs": [
    {
     "name": "stdout",
     "output_type": "stream",
     "text": [
      "数据维度：行 150,列 5\n"
     ]
    }
   ],
   "source": [
    "#查看数据维度\n",
    "print('数据维度：行 %s,列 %s' % dataset.shape)"
   ]
  },
  {
   "cell_type": "markdown",
   "metadata": {},
   "source": [
    "鸢尾花数据集为一个小数据集。只有150条数据，其中4个特征,花瓣的长度、宽度、花萼的长度、宽度。1个标签。\n",
    "![](./image/iris_feature.jpg)\n",
    "\n",
    "<font color='red'><b>2.3 统计描述数据</b></font>\n",
    "\n",
    "数据特征的统计描述信息包括数据的行数、中位数、最大值、最小值、均值、四分位值等统计数据信息。"
   ]
  },
  {
   "cell_type": "code",
   "execution_count": 8,
   "metadata": {
    "scrolled": true
   },
   "outputs": [
    {
     "name": "stdout",
     "output_type": "stream",
     "text": [
      "<class 'pandas.core.frame.DataFrame'>\n",
      "RangeIndex: 150 entries, 0 to 149\n",
      "Data columns (total 5 columns):\n",
      "separ-length    146 non-null float64\n",
      "separ-width     146 non-null float64\n",
      "petal-length    147 non-null float64\n",
      "petal-width     150 non-null float64\n",
      "label           150 non-null object\n",
      "dtypes: float64(4), object(1)\n",
      "memory usage: 5.3+ KB\n",
      "None\n",
      "       separ-length  separ-width  petal-length  petal-width\n",
      "count    146.000000   146.000000    147.000000   150.000000\n",
      "mean       5.845205     3.053425      3.732653     1.199333\n",
      "std        0.835264     0.434410      1.773286     0.762238\n",
      "min        4.300000     2.000000      1.000000     0.100000\n",
      "25%        5.100000     2.800000      1.550000     0.300000\n",
      "50%        5.800000     3.000000      4.300000     1.300000\n",
      "75%        6.400000     3.300000      5.100000     1.800000\n",
      "max        7.900000     4.400000      6.900000     2.500000\n"
     ]
    }
   ],
   "source": [
    "#统计描述数据信息\n",
    "print(dataset.info())\n",
    "print(dataset.describe())\n"
   ]
  },
  {
   "cell_type": "code",
   "execution_count": 9,
   "metadata": {},
   "outputs": [
    {
     "name": "stdout",
     "output_type": "stream",
     "text": [
      "separ-length     True\n",
      "separ-width      True\n",
      "petal-length     True\n",
      "petal-width     False\n",
      "label           False\n",
      "dtype: bool\n"
     ]
    }
   ],
   "source": [
    "dataset['separ-length'].isnull()\n",
    "#Nan值查看\n",
    "print(pd.isnull(dataset).any())"
   ]
  },
  {
   "cell_type": "markdown",
   "metadata": {},
   "source": [
    "\n",
    "<font color='red'><b>2.4 缺失值处理</b></font>"
   ]
  },
  {
   "cell_type": "markdown",
   "metadata": {},
   "source": [
    "第一列特征用该特征平均值填充缺失值"
   ]
  },
  {
   "cell_type": "code",
   "execution_count": 10,
   "metadata": {},
   "outputs": [],
   "source": [
    "\n",
    "#固定值填充\n",
    "dataset['separ-length'].fillna(5.84, inplace=True)"
   ]
  },
  {
   "cell_type": "markdown",
   "metadata": {},
   "source": [
    "其他列特征用前向填充，填充缺失值"
   ]
  },
  {
   "cell_type": "code",
   "execution_count": 11,
   "metadata": {},
   "outputs": [],
   "source": [
    "#前向填充\n",
    "dataset.fillna(method='bfill', inplace=True)"
   ]
  },
  {
   "cell_type": "code",
   "execution_count": 12,
   "metadata": {},
   "outputs": [
    {
     "name": "stdout",
     "output_type": "stream",
     "text": [
      "separ-length    False\n",
      "separ-width     False\n",
      "petal-length    False\n",
      "petal-width     False\n",
      "label           False\n",
      "dtype: bool\n"
     ]
    }
   ],
   "source": [
    "print(pd.isnull(dataset).any())"
   ]
  },
  {
   "cell_type": "markdown",
   "metadata": {},
   "source": [
    "<font color='red'><b>2.5 数据分类分布</b></font>\n",
    "\n",
    "查看label数据的分布情况，得到的是数据的绝对数值，从数据可以看出数据分布是否均衡。"
   ]
  },
  {
   "cell_type": "code",
   "execution_count": 13,
   "metadata": {},
   "outputs": [
    {
     "name": "stdout",
     "output_type": "stream",
     "text": [
      "label\n",
      "setosa        50\n",
      "versicolor    50\n",
      "virginica     50\n",
      "dtype: int64\n"
     ]
    }
   ],
   "source": [
    "#分类分布情况\n",
    "print(dataset.groupby('label').size())\n",
    "# print(dataset['label'].value_counts())"
   ]
  },
  {
   "cell_type": "markdown",
   "metadata": {},
   "source": [
    "鸢尾花数据集分布是很平衡的，不需要特殊处理。如果数据分布不平衡时，需要进行处理，常用的调整数据平衡的方法：\n",
    "\n",
    "* 扩大数据样本；\n",
    "* 数据的重新抽样；\n",
    "* 当数据超过一万条时，可以考虑测试欠采样（删除多数类样本），当数据量比较少时可以考虑过采样（复制少数类样本）；\n",
    "* 尝试生成人工样本；\n",
    "* 异常检测和变化检测。\n",
    "\n",
    "\n",
    "<font color='red'><b>2.6 离散特征数值化</b></font>"
   ]
  },
  {
   "cell_type": "markdown",
   "metadata": {},
   "source": [
    "将样本中的标签，\"label\"转为数值特征"
   ]
  },
  {
   "cell_type": "code",
   "execution_count": 46,
   "metadata": {},
   "outputs": [
    {
     "name": "stdout",
     "output_type": "stream",
     "text": [
      "label\n",
      "setosa        50\n",
      "versicolor    50\n",
      "virginica     50\n",
      "dtype: int64\n"
     ]
    }
   ],
   "source": [
    "grouped = dataset.groupby(\"label\")\n",
    "print(grouped.size())\n",
    "# print(type(group))\n",
    "# help(group)"
   ]
  },
  {
   "cell_type": "code",
   "execution_count": null,
   "metadata": {},
   "outputs": [],
   "source": []
  },
  {
   "cell_type": "code",
   "execution_count": 50,
   "metadata": {
    "collapsed": true,
    "jupyter": {
     "outputs_hidden": true
    }
   },
   "outputs": [
    {
     "name": "stdout",
     "output_type": "stream",
     "text": [
      "setosa\n",
      "    separ-length  separ-width  petal-length  petal-width   label\n",
      "0       5.100000          3.5           1.4          0.2  setosa\n",
      "1       4.900000          3.0           1.4          0.2  setosa\n",
      "2       4.700000          3.2           1.3          0.2  setosa\n",
      "3       4.600000          3.1           1.5          0.2  setosa\n",
      "4       5.000000          3.6           1.4          0.2  setosa\n",
      "5       5.400000          3.9           1.7          0.4  setosa\n",
      "6       4.600000          3.4           1.4          0.3  setosa\n",
      "7       5.000000          3.4           1.5          0.2  setosa\n",
      "8       4.400000          2.9           1.4          0.2  setosa\n",
      "9       4.900000          3.1           1.5          0.1  setosa\n",
      "10      5.400000          3.7           1.5          0.2  setosa\n",
      "11      4.800000          3.4           1.6          0.2  setosa\n",
      "12      4.800000          3.0           1.4          0.1  setosa\n",
      "13      4.300000          3.0           1.1          0.1  setosa\n",
      "14      5.800000          4.0           1.2          0.2  setosa\n",
      "15      5.700000          4.4           1.5          0.4  setosa\n",
      "16      5.400000          3.9           1.3          0.4  setosa\n",
      "17      5.100000          3.5           1.4          0.3  setosa\n",
      "18      5.700000          3.8           1.7          0.3  setosa\n",
      "19      5.100000          3.8           1.5          0.3  setosa\n",
      "20      5.400000          3.4           1.7          0.2  setosa\n",
      "21      5.845205          3.7           1.5          0.4  setosa\n",
      "22      4.600000          3.6           1.0          0.2  setosa\n",
      "23      5.100000          3.3           1.7          0.5  setosa\n",
      "24      4.800000          3.4           1.9          0.2  setosa\n",
      "25      5.000000          3.0           1.6          0.2  setosa\n",
      "26      5.000000          3.4           1.6          0.4  setosa\n",
      "27      5.200000          3.5           1.5          0.2  setosa\n",
      "28      5.200000          3.4           1.4          0.2  setosa\n",
      "29      4.700000          3.2           1.6          0.2  setosa\n",
      "30      4.800000          3.1           1.6          0.2  setosa\n",
      "31      5.400000          3.4           1.5          0.4  setosa\n",
      "32      5.200000          4.1           1.5          0.1  setosa\n",
      "33      5.500000          4.2           1.4          0.2  setosa\n",
      "34      4.900000          3.1           1.5          0.2  setosa\n",
      "35      5.000000          3.5           1.2          0.2  setosa\n",
      "36      5.500000          3.5           1.3          0.2  setosa\n",
      "37      4.900000          3.6           1.4          0.1  setosa\n",
      "38      4.400000          3.0           1.3          0.2  setosa\n",
      "39      5.100000          3.4           1.5          0.2  setosa\n",
      "40      5.000000          3.5           1.3          0.3  setosa\n",
      "41      4.500000          2.3           1.3          0.3  setosa\n",
      "42      4.400000          3.2           1.3          0.2  setosa\n",
      "43      5.000000          3.5           1.6          0.6  setosa\n",
      "44      5.100000          3.8           1.9          0.4  setosa\n",
      "45      4.800000          3.0           1.4          0.3  setosa\n",
      "46      5.100000          3.8           1.6          0.2  setosa\n",
      "47      4.600000          3.2           1.4          0.2  setosa\n",
      "48      5.300000          3.7           1.5          0.2  setosa\n",
      "49      5.000000          3.3           1.4          0.2  setosa\n",
      "\n",
      "versicolor\n",
      "    separ-length  separ-width  petal-length  petal-width       label\n",
      "50      7.000000          3.2           4.7          1.4  versicolor\n",
      "51      6.400000          3.2           4.5          1.5  versicolor\n",
      "52      6.900000          3.1           4.9          1.5  versicolor\n",
      "53      5.845205          2.3           4.0          1.3  versicolor\n",
      "54      6.500000          2.8           4.6          1.5  versicolor\n",
      "55      5.700000          2.8           4.5          1.3  versicolor\n",
      "56      6.300000          3.3           4.7          1.6  versicolor\n",
      "57      4.900000          2.4           3.3          1.0  versicolor\n",
      "58      6.600000          2.9           4.6          1.3  versicolor\n",
      "59      5.200000          2.7           3.9          1.4  versicolor\n",
      "60      5.000000          2.0           3.5          1.0  versicolor\n",
      "61      5.900000          3.0           4.2          1.5  versicolor\n",
      "62      6.000000          2.2           4.0          1.0  versicolor\n",
      "63      6.100000          2.9           4.7          1.4  versicolor\n",
      "64      5.600000          2.9           3.6          1.3  versicolor\n",
      "65      6.700000          3.1           4.4          1.4  versicolor\n",
      "66      5.600000          3.0           4.1          1.5  versicolor\n",
      "67      5.800000          2.7           4.1          1.0  versicolor\n",
      "68      6.200000          2.2           4.5          1.5  versicolor\n",
      "69      5.600000          2.5           3.9          1.1  versicolor\n",
      "70      5.900000          3.2           4.8          1.8  versicolor\n",
      "71      6.100000          2.8           4.0          1.3  versicolor\n",
      "72      6.300000          2.5           4.9          1.5  versicolor\n",
      "73      6.100000          2.8           4.7          1.2  versicolor\n",
      "74      6.400000          2.9           4.3          1.3  versicolor\n",
      "75      6.600000          3.0           4.4          1.4  versicolor\n",
      "76      6.800000          2.8           4.8          1.4  versicolor\n",
      "77      6.700000          3.0           5.0          1.7  versicolor\n",
      "78      6.000000          2.9           4.5          1.5  versicolor\n",
      "79      5.700000          2.6           3.5          1.0  versicolor\n",
      "80      5.500000          2.4           3.8          1.1  versicolor\n",
      "81      5.500000          2.4           3.7          1.0  versicolor\n",
      "82      5.800000          2.7           3.9          1.2  versicolor\n",
      "83      6.000000          2.7           5.1          1.6  versicolor\n",
      "84      5.400000          3.0           4.5          1.5  versicolor\n",
      "85      6.000000          3.4           4.5          1.6  versicolor\n",
      "86      6.700000          3.1           4.7          1.5  versicolor\n",
      "87      6.300000          2.3           4.4          1.3  versicolor\n",
      "88      5.600000          3.0           4.1          1.3  versicolor\n",
      "89      5.500000          2.5           4.0          1.3  versicolor\n",
      "90      5.500000          2.6           4.4          1.2  versicolor\n",
      "91      6.100000          3.0           4.6          1.4  versicolor\n",
      "92      5.800000          2.6           4.0          1.2  versicolor\n",
      "93      5.000000          2.3           3.3          1.0  versicolor\n",
      "94      5.600000          2.7           4.2          1.3  versicolor\n",
      "95      5.700000          3.0           4.2          1.2  versicolor\n",
      "96      5.700000          2.9           4.2          1.3  versicolor\n",
      "97      5.845205          2.9           4.3          1.3  versicolor\n",
      "98      5.100000          2.5           3.0          1.1  versicolor\n",
      "99      5.700000          2.8           4.1          1.3  versicolor\n",
      "\n",
      "virginica\n",
      "     separ-length  separ-width  petal-length  petal-width      label\n",
      "100      6.300000          2.7           6.0          2.5  virginica\n",
      "101      5.800000          2.7           5.1          1.9  virginica\n",
      "102      7.100000          3.0           5.9          2.1  virginica\n",
      "103      6.300000          2.9           5.6          1.8  virginica\n",
      "104      6.500000          3.0           5.8          2.2  virginica\n",
      "105      7.600000          3.0           6.6          2.1  virginica\n",
      "106      4.900000          2.5           4.5          1.7  virginica\n",
      "107      7.300000          2.9           6.3          1.8  virginica\n",
      "108      6.700000          2.5           5.8          1.8  virginica\n",
      "109      7.200000          3.6           6.1          2.5  virginica\n",
      "110      6.500000          3.2           5.1          2.0  virginica\n",
      "111      6.400000          2.7           5.3          1.9  virginica\n",
      "112      6.800000          3.0           5.5          2.1  virginica\n",
      "113      5.700000          2.5           5.0          2.0  virginica\n",
      "114      5.800000          2.8           5.1          2.4  virginica\n",
      "115      6.400000          3.2           5.3          2.3  virginica\n",
      "116      6.500000          3.0           6.7          1.8  virginica\n",
      "117      7.700000          3.8           6.7          2.2  virginica\n",
      "118      7.700000          2.6           6.9          2.3  virginica\n",
      "119      6.000000          2.2           5.0          1.5  virginica\n",
      "120      6.900000          3.2           5.7          2.3  virginica\n",
      "121      5.600000          2.8           4.9          2.0  virginica\n",
      "122      7.700000          2.8           6.7          2.0  virginica\n",
      "123      6.300000          2.7           4.9          1.8  virginica\n",
      "124      6.700000          3.3           5.7          2.1  virginica\n",
      "125      7.200000          3.2           6.0          1.8  virginica\n",
      "126      6.200000          2.8           4.8          1.8  virginica\n",
      "127      6.100000          3.0           4.9          1.8  virginica\n",
      "128      6.400000          2.8           5.6          2.1  virginica\n",
      "129      7.200000          3.0           5.8          1.6  virginica\n",
      "130      7.400000          2.8           6.1          1.9  virginica\n",
      "131      7.900000          2.8           6.4          2.0  virginica\n",
      "132      6.400000          2.8           5.6          2.2  virginica\n",
      "133      6.300000          2.8           5.1          1.5  virginica\n",
      "134      6.100000          2.6           5.6          1.4  virginica\n",
      "135      7.700000          3.0           6.1          2.3  virginica\n",
      "136      6.300000          3.4           5.6          2.4  virginica\n",
      "137      6.400000          3.1           5.5          1.8  virginica\n",
      "138      6.000000          3.0           4.8          1.8  virginica\n",
      "139      6.900000          3.1           5.4          2.1  virginica\n",
      "140      6.700000          3.1           5.6          2.4  virginica\n",
      "141      6.900000          3.1           5.1          2.3  virginica\n",
      "142      5.800000          2.7           5.1          1.9  virginica\n",
      "143      6.800000          3.2           5.9          2.3  virginica\n",
      "144      6.700000          3.3           5.7          2.5  virginica\n",
      "145      6.700000          3.0           5.2          2.3  virginica\n",
      "146      5.845205          3.0           5.2          1.9  virginica\n",
      "147      6.500000          3.0           5.2          2.0  virginica\n",
      "148      6.200000          3.4           5.4          2.3  virginica\n",
      "149      5.900000          3.0           5.1          1.8  virginica\n",
      "\n"
     ]
    }
   ],
   "source": [
    "for label, group in grouped:\n",
    "    print(label)\n",
    "    print(group)\n",
    "    print()"
   ]
  },
  {
   "cell_type": "code",
   "execution_count": null,
   "metadata": {},
   "outputs": [],
   "source": []
  },
  {
   "cell_type": "code",
   "execution_count": null,
   "metadata": {},
   "outputs": [],
   "source": []
  },
  {
   "cell_type": "code",
   "execution_count": null,
   "metadata": {},
   "outputs": [],
   "source": []
  },
  {
   "cell_type": "code",
   "execution_count": null,
   "metadata": {},
   "outputs": [],
   "source": []
  },
  {
   "cell_type": "code",
   "execution_count": null,
   "metadata": {},
   "outputs": [],
   "source": []
  },
  {
   "cell_type": "code",
   "execution_count": null,
   "metadata": {},
   "outputs": [],
   "source": []
  },
  {
   "cell_type": "code",
   "execution_count": null,
   "metadata": {},
   "outputs": [],
   "source": []
  },
  {
   "cell_type": "code",
   "execution_count": 51,
   "metadata": {},
   "outputs": [
    {
     "data": {
      "text/html": [
       "<div>\n",
       "<style scoped>\n",
       "    .dataframe tbody tr th:only-of-type {\n",
       "        vertical-align: middle;\n",
       "    }\n",
       "\n",
       "    .dataframe tbody tr th {\n",
       "        vertical-align: top;\n",
       "    }\n",
       "\n",
       "    .dataframe thead th {\n",
       "        text-align: right;\n",
       "    }\n",
       "</style>\n",
       "<table border=\"1\" class=\"dataframe\">\n",
       "  <thead>\n",
       "    <tr style=\"text-align: right;\">\n",
       "      <th></th>\n",
       "      <th>separ-length</th>\n",
       "      <th>separ-width</th>\n",
       "      <th>petal-length</th>\n",
       "      <th>petal-width</th>\n",
       "      <th>label</th>\n",
       "    </tr>\n",
       "  </thead>\n",
       "  <tbody>\n",
       "    <tr>\n",
       "      <th>0</th>\n",
       "      <td>5.1</td>\n",
       "      <td>3.5</td>\n",
       "      <td>1.4</td>\n",
       "      <td>0.2</td>\n",
       "      <td>0</td>\n",
       "    </tr>\n",
       "    <tr>\n",
       "      <th>1</th>\n",
       "      <td>4.9</td>\n",
       "      <td>3.0</td>\n",
       "      <td>1.4</td>\n",
       "      <td>0.2</td>\n",
       "      <td>0</td>\n",
       "    </tr>\n",
       "    <tr>\n",
       "      <th>2</th>\n",
       "      <td>4.7</td>\n",
       "      <td>3.2</td>\n",
       "      <td>1.3</td>\n",
       "      <td>0.2</td>\n",
       "      <td>0</td>\n",
       "    </tr>\n",
       "    <tr>\n",
       "      <th>3</th>\n",
       "      <td>4.6</td>\n",
       "      <td>3.1</td>\n",
       "      <td>1.5</td>\n",
       "      <td>0.2</td>\n",
       "      <td>0</td>\n",
       "    </tr>\n",
       "    <tr>\n",
       "      <th>4</th>\n",
       "      <td>5.0</td>\n",
       "      <td>3.6</td>\n",
       "      <td>1.4</td>\n",
       "      <td>0.2</td>\n",
       "      <td>0</td>\n",
       "    </tr>\n",
       "  </tbody>\n",
       "</table>\n",
       "</div>"
      ],
      "text/plain": [
       "   separ-length  separ-width  petal-length  petal-width  label\n",
       "0           5.1          3.5           1.4          0.2      0\n",
       "1           4.9          3.0           1.4          0.2      0\n",
       "2           4.7          3.2           1.3          0.2      0\n",
       "3           4.6          3.1           1.5          0.2      0\n",
       "4           5.0          3.6           1.4          0.2      0"
      ]
     },
     "execution_count": 51,
     "metadata": {},
     "output_type": "execute_result"
    }
   ],
   "source": [
    "t_class = {'setosa':0, 'versicolor':1, 'virginica':2}\n",
    "dataset['label'] = dataset['label'].map(t_class)\n",
    "dataset.head(5)\n"
   ]
  },
  {
   "cell_type": "code",
   "execution_count": null,
   "metadata": {},
   "outputs": [],
   "source": []
  },
  {
   "cell_type": "code",
   "execution_count": 54,
   "metadata": {
    "collapsed": true,
    "jupyter": {
     "outputs_hidden": true
    }
   },
   "outputs": [
    {
     "name": "stdout",
     "output_type": "stream",
     "text": [
      "label\n",
      "0    50\n",
      "1    50\n",
      "2    50\n",
      "Name: count, dtype: int64\n",
      "Help on function value_counts in module pandas.core.base:\n",
      "\n",
      "value_counts(self, normalize: 'bool' = False, sort: 'bool' = True, ascending: 'bool' = False, bins=None, dropna: 'bool' = True) -> 'Series'\n",
      "    Return a Series containing counts of unique values.\n",
      "    \n",
      "    The resulting object will be in descending order so that the\n",
      "    first element is the most frequently-occurring element.\n",
      "    Excludes NA values by default.\n",
      "    \n",
      "    Parameters\n",
      "    ----------\n",
      "    normalize : bool, default False\n",
      "        If True then the object returned will contain the relative\n",
      "        frequencies of the unique values.\n",
      "    sort : bool, default True\n",
      "        Sort by frequencies.\n",
      "    ascending : bool, default False\n",
      "        Sort in ascending order.\n",
      "    bins : int, optional\n",
      "        Rather than count values, group them into half-open bins,\n",
      "        a convenience for ``pd.cut``, only works with numeric data.\n",
      "    dropna : bool, default True\n",
      "        Don't include counts of NaN.\n",
      "    \n",
      "    Returns\n",
      "    -------\n",
      "    Series\n",
      "    \n",
      "    See Also\n",
      "    --------\n",
      "    Series.count: Number of non-NA elements in a Series.\n",
      "    DataFrame.count: Number of non-NA elements in a DataFrame.\n",
      "    DataFrame.value_counts: Equivalent method on DataFrames.\n",
      "    \n",
      "    Examples\n",
      "    --------\n",
      "    >>> index = pd.Index([3, 1, 2, 3, 4, np.nan])\n",
      "    >>> index.value_counts()\n",
      "    3.0    2\n",
      "    1.0    1\n",
      "    2.0    1\n",
      "    4.0    1\n",
      "    Name: count, dtype: int64\n",
      "    \n",
      "    With `normalize` set to `True`, returns the relative frequency by\n",
      "    dividing all values by the sum of values.\n",
      "    \n",
      "    >>> s = pd.Series([3, 1, 2, 3, 4, np.nan])\n",
      "    >>> s.value_counts(normalize=True)\n",
      "    3.0    0.4\n",
      "    1.0    0.2\n",
      "    2.0    0.2\n",
      "    4.0    0.2\n",
      "    Name: proportion, dtype: float64\n",
      "    \n",
      "    **bins**\n",
      "    \n",
      "    Bins can be useful for going from a continuous variable to a\n",
      "    categorical variable; instead of counting unique\n",
      "    apparitions of values, divide the index in the specified\n",
      "    number of half-open bins.\n",
      "    \n",
      "    >>> s.value_counts(bins=3)\n",
      "    (0.996, 2.0]    2\n",
      "    (2.0, 3.0]      2\n",
      "    (3.0, 4.0]      1\n",
      "    Name: count, dtype: int64\n",
      "    \n",
      "    **dropna**\n",
      "    \n",
      "    With `dropna` set to `False` we can also see NaN index values.\n",
      "    \n",
      "    >>> s.value_counts(dropna=False)\n",
      "    3.0    2\n",
      "    1.0    1\n",
      "    2.0    1\n",
      "    4.0    1\n",
      "    NaN    1\n",
      "    Name: count, dtype: int64\n",
      "\n"
     ]
    }
   ],
   "source": [
    "print(dataset['label'].value_counts()) # value_count返回val与cut比值\n",
    "# help(pd.Series.value_counts)"
   ]
  },
  {
   "cell_type": "code",
   "execution_count": null,
   "metadata": {},
   "outputs": [],
   "source": []
  },
  {
   "cell_type": "code",
   "execution_count": null,
   "metadata": {},
   "outputs": [],
   "source": []
  },
  {
   "cell_type": "code",
   "execution_count": null,
   "metadata": {},
   "outputs": [],
   "source": []
  },
  {
   "cell_type": "markdown",
   "metadata": {},
   "source": [
    "<font color='red'><b>3、数据可视化</b></font>\n",
    "\n",
    "经过第2步数据审查后，对数据有了一个基本的了解，接下来用更直观的图标来进一步查看数据特征的分布情况。\n",
    "\n",
    "使用单变量图表可以更好地理解每一个特征属性；\n",
    "多变量图表用于理解不同特征属性之间的关系。"
   ]
  },
  {
   "cell_type": "markdown",
   "metadata": {},
   "source": [
    "<font color='red'><b>3.1 单变量图表</b></font>\n",
    "\n",
    "单变量图表可以显示每一个单独的特征属性，由于特征值都是数字，可以使用箱线图来表示属性与中位值的离散速度。"
   ]
  },
  {
   "cell_type": "code",
   "execution_count": 55,
   "metadata": {},
   "outputs": [
    {
     "data": {
      "image/png": "[encoded data removed]",
      "text/plain": [
       "<Figure size 640x480 with 4 Axes>"
      ]
     },
     "metadata": {},
     "output_type": "display_data"
    },
    {
     "data": {
      "image/png": "[encoded data removed]",
      "text/plain": [
       "<Figure size 640x480 with 4 Axes>"
      ]
     },
     "metadata": {},
     "output_type": "display_data"
    }
   ],
   "source": [
    "import numpy as np\n",
    "\n",
    "\n",
    "#箱线图\n",
    "dataset.iloc[:, 0:4].plot(kind='box',subplots=True,layout=(2,2),sharex=False,sharey=False)\n",
    "plt.show()\n",
    "\n",
    "\n",
    "#直方图\n",
    "dataset.iloc[:, 0:4].hist()\n",
    "plt.show()"
   ]
  },
  {
   "cell_type": "code",
   "execution_count": null,
   "metadata": {},
   "outputs": [],
   "source": []
  },
  {
   "cell_type": "markdown",
   "metadata": {},
   "source": [
    "从直方图可以看出，separ-length和separ-width基本符合高斯分布。\n",
    "\n",
    "\n",
    "<font color='red'><b>3.2 多变量图表</b></font>\n",
    "\n",
    "可以通过散点矩阵图来查看每个属性之间的关系。"
   ]
  },
  {
   "cell_type": "code",
   "execution_count": 56,
   "metadata": {},
   "outputs": [
    {
     "data": {
      "image/png": "[encoded data removed]",
      "text/plain": [
       "<Figure size 640x480 with 25 Axes>"
      ]
     },
     "metadata": {},
     "output_type": "display_data"
    }
   ],
   "source": [
    "from pandas.plotting import scatter_matrix\n",
    "#散点矩阵图\n",
    "scatter_matrix(dataset)\n",
    "plt.show()"
   ]
  },
  {
   "cell_type": "code",
   "execution_count": null,
   "metadata": {},
   "outputs": [],
   "source": []
  },
  {
   "cell_type": "markdown",
   "metadata": {},
   "source": [
    "从多变量图大概能看出特征量之间的关系。\n",
    "\n",
    "\n",
    "<font color='red'><b>4、评估算法</b></font>\n",
    "\n",
    "将数据集代入各种算法训练，找出最合适的算法。\n",
    "\n",
    "步骤如下：\n",
    "\n",
    "（1）分离训练集；\n",
    "\n",
    "（2）采用10折交叉验证来评估算法模型；\n",
    "\n",
    "（3）生成6个不同的模型来预测新数据；\n",
    "\n",
    "（4）选择最优模型。\n",
    "\n",
    "\n",
    "<font color='red'><b>4.1 分离训练集</b></font>\n",
    "\n",
    "一般分出数据集的80%作为训练集，剩下的20%用来作为测试集。"
   ]
  },
  {
   "cell_type": "code",
   "execution_count": 62,
   "metadata": {},
   "outputs": [],
   "source": [
    "#sklearn分类需要的类\n",
    "from sklearn.model_selection import train_test_split\n",
    "from sklearn.model_selection import KFold\n",
    "\n",
    "#打分\n",
    "from sklearn.metrics import accuracy_score\n",
    "\n",
    "#分出训练集\n",
    "array=dataset.values\n",
    "validation_size=0.2\n",
    "random_seed=7 #随机种子，保证每次随机结果相同/实验ke'chong"
   ]
  },
  {
   "cell_type": "code",
   "execution_count": 98,
   "metadata": {},
   "outputs": [
    {
     "name": "stdout",
     "output_type": "stream",
     "text": [
      "   separ-length  separ-width  petal-length  petal-width  label\n",
      "0           5.1          3.5           1.4          0.2      0\n",
      "1           4.9          3.0           1.4          0.2      0\n",
      "2           4.7          3.2           1.3          0.2      0\n",
      "3           4.6          3.1           1.5          0.2      0\n",
      "4           5.0          3.6           1.4          0.2      0\n"
     ]
    }
   ],
   "source": [
    "print(dataset.head())"
   ]
  },
  {
   "cell_type": "code",
   "execution_count": null,
   "metadata": {},
   "outputs": [],
   "source": []
  },
  {
   "cell_type": "code",
   "execution_count": null,
   "metadata": {},
   "outputs": [],
   "source": []
  },
  {
   "cell_type": "code",
   "execution_count": null,
   "metadata": {
    "jupyter": {
     "source_hidden": true
    }
   },
   "outputs": [],
   "source": []
  },
  {
   "cell_type": "code",
   "execution_count": null,
   "metadata": {},
   "outputs": [],
   "source": []
  },
  {
   "cell_type": "code",
   "execution_count": null,
   "metadata": {},
   "outputs": [],
   "source": []
  },
  {
   "cell_type": "markdown",
   "metadata": {},
   "source": [
    "划分训练集和测试集"
   ]
  },
  {
   "cell_type": "code",
   "execution_count": 79,
   "metadata": {},
   "outputs": [
    {
     "name": "stdout",
     "output_type": "stream",
     "text": [
      "(120, 4)\n",
      "(30, 4)\n",
      "(120,)\n",
      "(30,)\n",
      "True\n",
      "True\n"
     ]
    }
   ],
   "source": [
    "X = array[:, :4]\n",
    "Y = array[:, 4]\n",
    "X_train, X_test, Y_train, Y_test = train_test_split(X, Y, test_size=test_size, random_state=random_seed)\n",
    "for i in [X_train, X_test, Y_train, Y_test]:\n",
    "    print(i.shape)\n",
    "\n",
    "print(\"X_train\"==\"X_train\")\n",
    "print(\"a\"==\"a\")"
   ]
  },
  {
   "cell_type": "code",
   "execution_count": 97,
   "metadata": {
    "collapsed": true,
    "jupyter": {
     "outputs_hidden": true
    }
   },
   "outputs": [
    {
     "name": "stdout",
     "output_type": "stream",
     "text": [
      "[[5.1        3.5        1.4        0.2        0.        ]\n",
      " [4.9        3.         1.4        0.2        0.        ]\n",
      " [4.7        3.2        1.3        0.2        0.        ]\n",
      " [4.6        3.1        1.5        0.2        0.        ]\n",
      " [5.         3.6        1.4        0.2        0.        ]\n",
      " [5.4        3.9        1.7        0.4        0.        ]\n",
      " [4.6        3.4        1.4        0.3        0.        ]\n",
      " [5.         3.4        1.5        0.2        0.        ]\n",
      " [4.4        2.9        1.4        0.2        0.        ]\n",
      " [4.9        3.1        1.5        0.1        0.        ]\n",
      " [5.4        3.7        1.5        0.2        0.        ]\n",
      " [4.8        3.4        1.6        0.2        0.        ]\n",
      " [4.8        3.         1.4        0.1        0.        ]\n",
      " [4.3        3.         1.1        0.1        0.        ]\n",
      " [5.8        4.         1.2        0.2        0.        ]\n",
      " [5.7        4.4        1.5        0.4        0.        ]\n",
      " [5.4        3.9        1.3        0.4        0.        ]\n",
      " [5.1        3.5        1.4        0.3        0.        ]\n",
      " [5.7        3.8        1.7        0.3        0.        ]\n",
      " [5.1        3.8        1.5        0.3        0.        ]\n",
      " [5.4        3.4        1.7        0.2        0.        ]\n",
      " [5.84520548 3.7        1.5        0.4        0.        ]\n",
      " [4.6        3.6        1.         0.2        0.        ]\n",
      " [5.1        3.3        1.7        0.5        0.        ]\n",
      " [4.8        3.4        1.9        0.2        0.        ]\n",
      " [5.         3.         1.6        0.2        0.        ]\n",
      " [5.         3.4        1.6        0.4        0.        ]\n",
      " [5.2        3.5        1.5        0.2        0.        ]\n",
      " [5.2        3.4        1.4        0.2        0.        ]\n",
      " [4.7        3.2        1.6        0.2        0.        ]\n",
      " [4.8        3.1        1.6        0.2        0.        ]\n",
      " [5.4        3.4        1.5        0.4        0.        ]\n",
      " [5.2        4.1        1.5        0.1        0.        ]\n",
      " [5.5        4.2        1.4        0.2        0.        ]\n",
      " [4.9        3.1        1.5        0.2        0.        ]\n",
      " [5.         3.5        1.2        0.2        0.        ]\n",
      " [5.5        3.5        1.3        0.2        0.        ]\n",
      " [4.9        3.6        1.4        0.1        0.        ]\n",
      " [4.4        3.         1.3        0.2        0.        ]\n",
      " [5.1        3.4        1.5        0.2        0.        ]\n",
      " [5.         3.5        1.3        0.3        0.        ]\n",
      " [4.5        2.3        1.3        0.3        0.        ]\n",
      " [4.4        3.2        1.3        0.2        0.        ]\n",
      " [5.         3.5        1.6        0.6        0.        ]\n",
      " [5.1        3.8        1.9        0.4        0.        ]\n",
      " [4.8        3.         1.4        0.3        0.        ]\n",
      " [5.1        3.8        1.6        0.2        0.        ]\n",
      " [4.6        3.2        1.4        0.2        0.        ]\n",
      " [5.3        3.7        1.5        0.2        0.        ]\n",
      " [5.         3.3        1.4        0.2        0.        ]\n",
      " [7.         3.2        4.7        1.4        1.        ]\n",
      " [6.4        3.2        4.5        1.5        1.        ]\n",
      " [6.9        3.1        4.9        1.5        1.        ]\n",
      " [5.84520548 2.3        4.         1.3        1.        ]\n",
      " [6.5        2.8        4.6        1.5        1.        ]\n",
      " [5.7        2.8        4.5        1.3        1.        ]\n",
      " [6.3        3.3        4.7        1.6        1.        ]\n",
      " [4.9        2.4        3.3        1.         1.        ]\n",
      " [6.6        2.9        4.6        1.3        1.        ]\n",
      " [5.2        2.7        3.9        1.4        1.        ]\n",
      " [5.         2.         3.5        1.         1.        ]\n",
      " [5.9        3.         4.2        1.5        1.        ]\n",
      " [6.         2.2        4.         1.         1.        ]\n",
      " [6.1        2.9        4.7        1.4        1.        ]\n",
      " [5.6        2.9        3.6        1.3        1.        ]\n",
      " [6.7        3.1        4.4        1.4        1.        ]\n",
      " [5.6        3.         4.1        1.5        1.        ]\n",
      " [5.8        2.7        4.1        1.         1.        ]\n",
      " [6.2        2.2        4.5        1.5        1.        ]\n",
      " [5.6        2.5        3.9        1.1        1.        ]\n",
      " [5.9        3.2        4.8        1.8        1.        ]\n",
      " [6.1        2.8        4.         1.3        1.        ]\n",
      " [6.3        2.5        4.9        1.5        1.        ]\n",
      " [6.1        2.8        4.7        1.2        1.        ]\n",
      " [6.4        2.9        4.3        1.3        1.        ]\n",
      " [6.6        3.         4.4        1.4        1.        ]\n",
      " [6.8        2.8        4.8        1.4        1.        ]\n",
      " [6.7        3.         5.         1.7        1.        ]\n",
      " [6.         2.9        4.5        1.5        1.        ]\n",
      " [5.7        2.6        3.5        1.         1.        ]\n",
      " [5.5        2.4        3.8        1.1        1.        ]\n",
      " [5.5        2.4        3.7        1.         1.        ]\n",
      " [5.8        2.7        3.9        1.2        1.        ]\n",
      " [6.         2.7        5.1        1.6        1.        ]\n",
      " [5.4        3.         4.5        1.5        1.        ]\n",
      " [6.         3.4        4.5        1.6        1.        ]\n",
      " [6.7        3.1        4.7        1.5        1.        ]\n",
      " [6.3        2.3        4.4        1.3        1.        ]\n",
      " [5.6        3.         4.1        1.3        1.        ]\n",
      " [5.5        2.5        4.         1.3        1.        ]\n",
      " [5.5        2.6        4.4        1.2        1.        ]\n",
      " [6.1        3.         4.6        1.4        1.        ]\n",
      " [5.8        2.6        4.         1.2        1.        ]\n",
      " [5.         2.3        3.3        1.         1.        ]\n",
      " [5.6        2.7        4.2        1.3        1.        ]\n",
      " [5.7        3.         4.2        1.2        1.        ]\n",
      " [5.7        2.9        4.2        1.3        1.        ]\n",
      " [5.84520548 2.9        4.3        1.3        1.        ]\n",
      " [5.1        2.5        3.         1.1        1.        ]\n",
      " [5.7        2.8        4.1        1.3        1.        ]\n",
      " [6.3        2.7        6.         2.5        2.        ]\n",
      " [5.8        2.7        5.1        1.9        2.        ]\n",
      " [7.1        3.         5.9        2.1        2.        ]\n",
      " [6.3        2.9        5.6        1.8        2.        ]\n",
      " [6.5        3.         5.8        2.2        2.        ]\n",
      " [7.6        3.         6.6        2.1        2.        ]\n",
      " [4.9        2.5        4.5        1.7        2.        ]\n",
      " [7.3        2.9        6.3        1.8        2.        ]\n",
      " [6.7        2.5        5.8        1.8        2.        ]\n",
      " [7.2        3.6        6.1        2.5        2.        ]\n",
      " [6.5        3.2        5.1        2.         2.        ]\n",
      " [6.4        2.7        5.3        1.9        2.        ]\n",
      " [6.8        3.         5.5        2.1        2.        ]\n",
      " [5.7        2.5        5.         2.         2.        ]\n",
      " [5.8        2.8        5.1        2.4        2.        ]\n",
      " [6.4        3.2        5.3        2.3        2.        ]\n",
      " [6.5        3.         6.7        1.8        2.        ]\n",
      " [7.7        3.8        6.7        2.2        2.        ]\n",
      " [7.7        2.6        6.9        2.3        2.        ]\n",
      " [6.         2.2        5.         1.5        2.        ]\n",
      " [6.9        3.2        5.7        2.3        2.        ]\n",
      " [5.6        2.8        4.9        2.         2.        ]\n",
      " [7.7        2.8        6.7        2.         2.        ]\n",
      " [6.3        2.7        4.9        1.8        2.        ]\n",
      " [6.7        3.3        5.7        2.1        2.        ]\n",
      " [7.2        3.2        6.         1.8        2.        ]\n",
      " [6.2        2.8        4.8        1.8        2.        ]\n",
      " [6.1        3.         4.9        1.8        2.        ]\n",
      " [6.4        2.8        5.6        2.1        2.        ]\n",
      " [7.2        3.         5.8        1.6        2.        ]\n",
      " [7.4        2.8        6.1        1.9        2.        ]\n",
      " [7.9        2.8        6.4        2.         2.        ]\n",
      " [6.4        2.8        5.6        2.2        2.        ]\n",
      " [6.3        2.8        5.1        1.5        2.        ]\n",
      " [6.1        2.6        5.6        1.4        2.        ]\n",
      " [7.7        3.         6.1        2.3        2.        ]\n",
      " [6.3        3.4        5.6        2.4        2.        ]\n",
      " [6.4        3.1        5.5        1.8        2.        ]\n",
      " [6.         3.         4.8        1.8        2.        ]\n",
      " [6.9        3.1        5.4        2.1        2.        ]\n",
      " [6.7        3.1        5.6        2.4        2.        ]\n",
      " [6.9        3.1        5.1        2.3        2.        ]\n",
      " [5.8        2.7        5.1        1.9        2.        ]\n",
      " [6.8        3.2        5.9        2.3        2.        ]\n",
      " [6.7        3.3        5.7        2.5        2.        ]\n",
      " [6.7        3.         5.2        2.3        2.        ]\n",
      " [5.84520548 3.         5.2        1.9        2.        ]\n",
      " [6.5        3.         5.2        2.         2.        ]\n",
      " [6.2        3.4        5.4        2.3        2.        ]\n",
      " [5.9        3.         5.1        1.8        2.        ]]\n"
     ]
    }
   ],
   "source": [
    "print(array)"
   ]
  },
  {
   "cell_type": "code",
   "execution_count": null,
   "metadata": {},
   "outputs": [],
   "source": []
  },
  {
   "cell_type": "code",
   "execution_count": 96,
   "metadata": {
    "collapsed": true,
    "jupyter": {
     "outputs_hidden": true
    }
   },
   "outputs": [
    {
     "name": "stdout",
     "output_type": "stream",
     "text": [
      "[[5.1        3.5        1.4        0.2       ]\n",
      " [4.9        3.         1.4        0.2       ]\n",
      " [4.7        3.2        1.3        0.2       ]\n",
      " [4.6        3.1        1.5        0.2       ]\n",
      " [5.         3.6        1.4        0.2       ]\n",
      " [5.4        3.9        1.7        0.4       ]\n",
      " [4.6        3.4        1.4        0.3       ]\n",
      " [5.         3.4        1.5        0.2       ]\n",
      " [4.4        2.9        1.4        0.2       ]\n",
      " [4.9        3.1        1.5        0.1       ]\n",
      " [5.4        3.7        1.5        0.2       ]\n",
      " [4.8        3.4        1.6        0.2       ]\n",
      " [4.8        3.         1.4        0.1       ]\n",
      " [4.3        3.         1.1        0.1       ]\n",
      " [5.8        4.         1.2        0.2       ]\n",
      " [5.7        4.4        1.5        0.4       ]\n",
      " [5.4        3.9        1.3        0.4       ]\n",
      " [5.1        3.5        1.4        0.3       ]\n",
      " [5.7        3.8        1.7        0.3       ]\n",
      " [5.1        3.8        1.5        0.3       ]\n",
      " [5.4        3.4        1.7        0.2       ]\n",
      " [5.84520548 3.7        1.5        0.4       ]\n",
      " [4.6        3.6        1.         0.2       ]\n",
      " [5.1        3.3        1.7        0.5       ]\n",
      " [4.8        3.4        1.9        0.2       ]\n",
      " [5.         3.         1.6        0.2       ]\n",
      " [5.         3.4        1.6        0.4       ]\n",
      " [5.2        3.5        1.5        0.2       ]\n",
      " [5.2        3.4        1.4        0.2       ]\n",
      " [4.7        3.2        1.6        0.2       ]\n",
      " [4.8        3.1        1.6        0.2       ]\n",
      " [5.4        3.4        1.5        0.4       ]\n",
      " [5.2        4.1        1.5        0.1       ]\n",
      " [5.5        4.2        1.4        0.2       ]\n",
      " [4.9        3.1        1.5        0.2       ]\n",
      " [5.         3.5        1.2        0.2       ]\n",
      " [5.5        3.5        1.3        0.2       ]\n",
      " [4.9        3.6        1.4        0.1       ]\n",
      " [4.4        3.         1.3        0.2       ]\n",
      " [5.1        3.4        1.5        0.2       ]\n",
      " [5.         3.5        1.3        0.3       ]\n",
      " [4.5        2.3        1.3        0.3       ]\n",
      " [4.4        3.2        1.3        0.2       ]\n",
      " [5.         3.5        1.6        0.6       ]\n",
      " [5.1        3.8        1.9        0.4       ]\n",
      " [4.8        3.         1.4        0.3       ]\n",
      " [5.1        3.8        1.6        0.2       ]\n",
      " [4.6        3.2        1.4        0.2       ]\n",
      " [5.3        3.7        1.5        0.2       ]\n",
      " [5.         3.3        1.4        0.2       ]\n",
      " [7.         3.2        4.7        1.4       ]\n",
      " [6.4        3.2        4.5        1.5       ]\n",
      " [6.9        3.1        4.9        1.5       ]\n",
      " [5.84520548 2.3        4.         1.3       ]\n",
      " [6.5        2.8        4.6        1.5       ]\n",
      " [5.7        2.8        4.5        1.3       ]\n",
      " [6.3        3.3        4.7        1.6       ]\n",
      " [4.9        2.4        3.3        1.        ]\n",
      " [6.6        2.9        4.6        1.3       ]\n",
      " [5.2        2.7        3.9        1.4       ]\n",
      " [5.         2.         3.5        1.        ]\n",
      " [5.9        3.         4.2        1.5       ]\n",
      " [6.         2.2        4.         1.        ]\n",
      " [6.1        2.9        4.7        1.4       ]\n",
      " [5.6        2.9        3.6        1.3       ]\n",
      " [6.7        3.1        4.4        1.4       ]\n",
      " [5.6        3.         4.1        1.5       ]\n",
      " [5.8        2.7        4.1        1.        ]\n",
      " [6.2        2.2        4.5        1.5       ]\n",
      " [5.6        2.5        3.9        1.1       ]\n",
      " [5.9        3.2        4.8        1.8       ]\n",
      " [6.1        2.8        4.         1.3       ]\n",
      " [6.3        2.5        4.9        1.5       ]\n",
      " [6.1        2.8        4.7        1.2       ]\n",
      " [6.4        2.9        4.3        1.3       ]\n",
      " [6.6        3.         4.4        1.4       ]\n",
      " [6.8        2.8        4.8        1.4       ]\n",
      " [6.7        3.         5.         1.7       ]\n",
      " [6.         2.9        4.5        1.5       ]\n",
      " [5.7        2.6        3.5        1.        ]\n",
      " [5.5        2.4        3.8        1.1       ]\n",
      " [5.5        2.4        3.7        1.        ]\n",
      " [5.8        2.7        3.9        1.2       ]\n",
      " [6.         2.7        5.1        1.6       ]\n",
      " [5.4        3.         4.5        1.5       ]\n",
      " [6.         3.4        4.5        1.6       ]\n",
      " [6.7        3.1        4.7        1.5       ]\n",
      " [6.3        2.3        4.4        1.3       ]\n",
      " [5.6        3.         4.1        1.3       ]\n",
      " [5.5        2.5        4.         1.3       ]\n",
      " [5.5        2.6        4.4        1.2       ]\n",
      " [6.1        3.         4.6        1.4       ]\n",
      " [5.8        2.6        4.         1.2       ]\n",
      " [5.         2.3        3.3        1.        ]\n",
      " [5.6        2.7        4.2        1.3       ]\n",
      " [5.7        3.         4.2        1.2       ]\n",
      " [5.7        2.9        4.2        1.3       ]\n",
      " [5.84520548 2.9        4.3        1.3       ]\n",
      " [5.1        2.5        3.         1.1       ]\n",
      " [5.7        2.8        4.1        1.3       ]\n",
      " [6.3        2.7        6.         2.5       ]\n",
      " [5.8        2.7        5.1        1.9       ]\n",
      " [7.1        3.         5.9        2.1       ]\n",
      " [6.3        2.9        5.6        1.8       ]\n",
      " [6.5        3.         5.8        2.2       ]\n",
      " [7.6        3.         6.6        2.1       ]\n",
      " [4.9        2.5        4.5        1.7       ]\n",
      " [7.3        2.9        6.3        1.8       ]\n",
      " [6.7        2.5        5.8        1.8       ]\n",
      " [7.2        3.6        6.1        2.5       ]\n",
      " [6.5        3.2        5.1        2.        ]\n",
      " [6.4        2.7        5.3        1.9       ]\n",
      " [6.8        3.         5.5        2.1       ]\n",
      " [5.7        2.5        5.         2.        ]\n",
      " [5.8        2.8        5.1        2.4       ]\n",
      " [6.4        3.2        5.3        2.3       ]\n",
      " [6.5        3.         6.7        1.8       ]\n",
      " [7.7        3.8        6.7        2.2       ]\n",
      " [7.7        2.6        6.9        2.3       ]\n",
      " [6.         2.2        5.         1.5       ]\n",
      " [6.9        3.2        5.7        2.3       ]\n",
      " [5.6        2.8        4.9        2.        ]\n",
      " [7.7        2.8        6.7        2.        ]\n",
      " [6.3        2.7        4.9        1.8       ]\n",
      " [6.7        3.3        5.7        2.1       ]\n",
      " [7.2        3.2        6.         1.8       ]\n",
      " [6.2        2.8        4.8        1.8       ]\n",
      " [6.1        3.         4.9        1.8       ]\n",
      " [6.4        2.8        5.6        2.1       ]\n",
      " [7.2        3.         5.8        1.6       ]\n",
      " [7.4        2.8        6.1        1.9       ]\n",
      " [7.9        2.8        6.4        2.        ]\n",
      " [6.4        2.8        5.6        2.2       ]\n",
      " [6.3        2.8        5.1        1.5       ]\n",
      " [6.1        2.6        5.6        1.4       ]\n",
      " [7.7        3.         6.1        2.3       ]\n",
      " [6.3        3.4        5.6        2.4       ]\n",
      " [6.4        3.1        5.5        1.8       ]\n",
      " [6.         3.         4.8        1.8       ]\n",
      " [6.9        3.1        5.4        2.1       ]\n",
      " [6.7        3.1        5.6        2.4       ]\n",
      " [6.9        3.1        5.1        2.3       ]\n",
      " [5.8        2.7        5.1        1.9       ]\n",
      " [6.8        3.2        5.9        2.3       ]\n",
      " [6.7        3.3        5.7        2.5       ]\n",
      " [6.7        3.         5.2        2.3       ]\n",
      " [5.84520548 3.         5.2        1.9       ]\n",
      " [6.5        3.         5.2        2.        ]\n",
      " [6.2        3.4        5.4        2.3       ]\n",
      " [5.9        3.         5.1        1.8       ]]\n"
     ]
    }
   ],
   "source": [
    "print(X)"
   ]
  },
  {
   "cell_type": "code",
   "execution_count": null,
   "metadata": {},
   "outputs": [],
   "source": []
  },
  {
   "cell_type": "code",
   "execution_count": null,
   "metadata": {},
   "outputs": [],
   "source": []
  },
  {
   "cell_type": "code",
   "execution_count": null,
   "metadata": {},
   "outputs": [],
   "source": []
  },
  {
   "cell_type": "code",
   "execution_count": null,
   "metadata": {},
   "outputs": [],
   "source": []
  },
  {
   "cell_type": "code",
   "execution_count": null,
   "metadata": {},
   "outputs": [],
   "source": []
  },
  {
   "cell_type": "code",
   "execution_count": null,
   "metadata": {},
   "outputs": [],
   "source": []
  },
  {
   "cell_type": "code",
   "execution_count": null,
   "metadata": {},
   "outputs": [],
   "source": []
  },
  {
   "cell_type": "code",
   "execution_count": null,
   "metadata": {},
   "outputs": [],
   "source": []
  },
  {
   "cell_type": "code",
   "execution_count": null,
   "metadata": {},
   "outputs": [],
   "source": []
  },
  {
   "cell_type": "code",
   "execution_count": null,
   "metadata": {},
   "outputs": [],
   "source": []
  },
  {
   "cell_type": "code",
   "execution_count": null,
   "metadata": {},
   "outputs": [],
   "source": []
  },
  {
   "cell_type": "code",
   "execution_count": null,
   "metadata": {},
   "outputs": [],
   "source": []
  },
  {
   "cell_type": "code",
   "execution_count": null,
   "metadata": {},
   "outputs": [],
   "source": []
  },
  {
   "cell_type": "markdown",
   "metadata": {},
   "source": [
    "鸢尾花总数150个，训练集120个，测试集30个。分离成功。\n",
    "\n",
    "\n",
    "<font color='red'><b>4.2 评估模型</b></font>\n",
    "\n",
    "用10折交叉验证来分离训练数据集，评估算法的准确度。10折交叉验证是随机地将数据分成10份：9份用来训练模型，1份用来评估算法。\n",
    "\n",
    "\n",
    "<font color='red'><b>4.3 创建模型</b></font>\n",
    "\n",
    "根据散点图可以看出，有些数据符合线性分许，所以可以用线性模型来评估。\n"
   ]
  },
  {
   "cell_type": "code",
   "execution_count": 74,
   "metadata": {},
   "outputs": [],
   "source": [
    "#逻辑回归算法\n",
    "from sklearn.linear_model import LogisticRegression\n",
    "#交叉验证\n",
    "from sklearn.model_selection import cross_val_score\n",
    "#决策树\n",
    "from sklearn.tree import DecisionTreeClassifier\n",
    "#K-Means\n",
    "from sklearn.cluster import KMeans\n",
    "#贝叶斯\n",
    "from sklearn.naive_bayes import GaussianNB\n",
    "#支持向量机SVM\n",
    "from sklearn.svm import SVC\n"
   ]
  },
  {
   "cell_type": "code",
   "execution_count": null,
   "metadata": {},
   "outputs": [],
   "source": []
  },
  {
   "cell_type": "code",
   "execution_count": null,
   "metadata": {},
   "outputs": [],
   "source": []
  },
  {
   "cell_type": "code",
   "execution_count": null,
   "metadata": {},
   "outputs": [],
   "source": []
  },
  {
   "cell_type": "markdown",
   "metadata": {},
   "source": [
    "用以下四种算法构建训练模型，并进行训练：\n",
    "\n",
    "线性回归（LR）；\n",
    "决策树（DTree）；\n",
    "贝叶斯分类器（NB）；\n",
    "支持向量机（SVM）。\n",
    "其中，LR为线性算法，剩下的都为非线性算法。"
   ]
  },
  {
   "cell_type": "code",
   "execution_count": 80,
   "metadata": {},
   "outputs": [
    {
     "data": {
      "text/html": [
       "<style>#sk-container-id-1 {color: black;}#sk-container-id-1 pre{padding: 0;}#sk-container-id-1 div.sk-toggleable {background-color: white;}#sk-container-id-1 label.sk-toggleable__label {cursor: pointer;display: block;width: 100%;margin-bottom: 0;padding: 0.3em;box-sizing: border-box;text-align: center;}#sk-container-id-1 label.sk-toggleable__label-arrow:before {content: \"▸\";float: left;margin-right: 0.25em;color: #696969;}#sk-container-id-1 label.sk-toggleable__label-arrow:hover:before {color: black;}#sk-container-id-1 div.sk-estimator:hover label.sk-toggleable__label-arrow:before {color: black;}#sk-container-id-1 div.sk-toggleable__content {max-height: 0;max-width: 0;overflow: hidden;text-align: left;background-color: #f0f8ff;}#sk-container-id-1 div.sk-toggleable__content pre {margin: 0.2em;color: black;border-radius: 0.25em;background-color: #f0f8ff;}#sk-container-id-1 input.sk-toggleable__control:checked~div.sk-toggleable__content {max-height: 200px;max-width: 100%;overflow: auto;}#sk-container-id-1 input.sk-toggleable__control:checked~label.sk-toggleable__label-arrow:before {content: \"▾\";}#sk-container-id-1 div.sk-estimator input.sk-toggleable__control:checked~label.sk-toggleable__label {background-color: #d4ebff;}#sk-container-id-1 div.sk-label input.sk-toggleable__control:checked~label.sk-toggleable__label {background-color: #d4ebff;}#sk-container-id-1 input.sk-hidden--visually {border: 0;clip: rect(1px 1px 1px 1px);clip: rect(1px, 1px, 1px, 1px);height: 1px;margin: -1px;overflow: hidden;padding: 0;position: absolute;width: 1px;}#sk-container-id-1 div.sk-estimator {font-family: monospace;background-color: #f0f8ff;border: 1px dotted black;border-radius: 0.25em;box-sizing: border-box;margin-bottom: 0.5em;}#sk-container-id-1 div.sk-estimator:hover {background-color: #d4ebff;}#sk-container-id-1 div.sk-parallel-item::after {content: \"\";width: 100%;border-bottom: 1px solid gray;flex-grow: 1;}#sk-container-id-1 div.sk-label:hover label.sk-toggleable__label {background-color: #d4ebff;}#sk-container-id-1 div.sk-serial::before {content: \"\";position: absolute;border-left: 1px solid gray;box-sizing: border-box;top: 0;bottom: 0;left: 50%;z-index: 0;}#sk-container-id-1 div.sk-serial {display: flex;flex-direction: column;align-items: center;background-color: white;padding-right: 0.2em;padding-left: 0.2em;position: relative;}#sk-container-id-1 div.sk-item {position: relative;z-index: 1;}#sk-container-id-1 div.sk-parallel {display: flex;align-items: stretch;justify-content: center;background-color: white;position: relative;}#sk-container-id-1 div.sk-item::before, #sk-container-id-1 div.sk-parallel-item::before {content: \"\";position: absolute;border-left: 1px solid gray;box-sizing: border-box;top: 0;bottom: 0;left: 50%;z-index: -1;}#sk-container-id-1 div.sk-parallel-item {display: flex;flex-direction: column;z-index: 1;position: relative;background-color: white;}#sk-container-id-1 div.sk-parallel-item:first-child::after {align-self: flex-end;width: 50%;}#sk-container-id-1 div.sk-parallel-item:last-child::after {align-self: flex-start;width: 50%;}#sk-container-id-1 div.sk-parallel-item:only-child::after {width: 0;}#sk-container-id-1 div.sk-dashed-wrapped {border: 1px dashed gray;margin: 0 0.4em 0.5em 0.4em;box-sizing: border-box;padding-bottom: 0.4em;background-color: white;}#sk-container-id-1 div.sk-label label {font-family: monospace;font-weight: bold;display: inline-block;line-height: 1.2em;}#sk-container-id-1 div.sk-label-container {text-align: center;}#sk-container-id-1 div.sk-container {/* jupyter's `normalize.less` sets `[hidden] { display: none; }` but bootstrap.min.css set `[hidden] { display: none !important; }` so we also need the `!important` here to be able to override the default hidden behavior on the sphinx rendered scikit-learn.org. See: https://github.com/scikit-learn/scikit-learn/issues/21755 */display: inline-block !important;position: relative;}#sk-container-id-1 div.sk-text-repr-fallback {display: none;}</style><div id=\"sk-container-id-1\" class=\"sk-top-container\"><div class=\"sk-text-repr-fallback\"><pre>DecisionTreeClassifier()</pre><b>In a Jupyter environment, please rerun this cell to show the HTML representation or trust the notebook. <br />On GitHub, the HTML representation is unable to render, please try loading this page with nbviewer.org.</b></div><div class=\"sk-container\" hidden><div class=\"sk-item\"><div class=\"sk-estimator sk-toggleable\"><input class=\"sk-toggleable__control sk-hidden--visually\" id=\"sk-estimator-id-1\" type=\"checkbox\" checked><label for=\"sk-estimator-id-1\" class=\"sk-toggleable__label sk-toggleable__label-arrow\">DecisionTreeClassifier</label><div class=\"sk-toggleable__content\"><pre>DecisionTreeClassifier()</pre></div></div></div></div></div>"
      ],
      "text/plain": [
       "DecisionTreeClassifier()"
      ]
     },
     "execution_count": 80,
     "metadata": {},
     "output_type": "execute_result"
    }
   ],
   "source": [
    "model_svc = SVC()\n",
    "model_svc.fit(X_train, Y_train)\n",
    "\n",
    "model_lr = LogisticRegression()\n",
    "model_lr.fit(X_train, Y_train)\n",
    "\n",
    "model_tree = DecisionTreeClassifier()\n",
    "model_tree.fit(X_train, Y_train)\n"
   ]
  },
  {
   "cell_type": "code",
   "execution_count": 81,
   "metadata": {},
   "outputs": [],
   "source": [
    "pre_svc = model_svc.predict(X_test)"
   ]
  },
  {
   "cell_type": "markdown",
   "metadata": {},
   "source": [
    "交叉验证实现方式"
   ]
  },
  {
   "cell_type": "code",
   "execution_count": 83,
   "metadata": {
    "collapsed": true,
    "jupyter": {
     "outputs_hidden": true
    }
   },
   "outputs": [
    {
     "name": "stderr",
     "output_type": "stream",
     "text": [
      "E:\\pycharm\\pyinterpreter\\lib\\site-packages\\sklearn\\linear_model\\_logistic.py:460: ConvergenceWarning: lbfgs failed to converge (status=1):\n",
      "STOP: TOTAL NO. of ITERATIONS REACHED LIMIT.\n",
      "\n",
      "Increase the number of iterations (max_iter) or scale the data as shown in:\n",
      "    https://scikit-learn.org/stable/modules/preprocessing.html\n",
      "Please also refer to the documentation for alternative solver options:\n",
      "    https://scikit-learn.org/stable/modules/linear_model.html#logistic-regression\n",
      "  n_iter_i = _check_optimize_result(\n",
      "E:\\pycharm\\pyinterpreter\\lib\\site-packages\\sklearn\\linear_model\\_logistic.py:460: ConvergenceWarning: lbfgs failed to converge (status=1):\n",
      "STOP: TOTAL NO. of ITERATIONS REACHED LIMIT.\n",
      "\n",
      "Increase the number of iterations (max_iter) or scale the data as shown in:\n",
      "    https://scikit-learn.org/stable/modules/preprocessing.html\n",
      "Please also refer to the documentation for alternative solver options:\n",
      "    https://scikit-learn.org/stable/modules/linear_model.html#logistic-regression\n",
      "  n_iter_i = _check_optimize_result(\n",
      "E:\\pycharm\\pyinterpreter\\lib\\site-packages\\sklearn\\linear_model\\_logistic.py:460: ConvergenceWarning: lbfgs failed to converge (status=1):\n",
      "STOP: TOTAL NO. of ITERATIONS REACHED LIMIT.\n",
      "\n",
      "Increase the number of iterations (max_iter) or scale the data as shown in:\n",
      "    https://scikit-learn.org/stable/modules/preprocessing.html\n",
      "Please also refer to the documentation for alternative solver options:\n",
      "    https://scikit-learn.org/stable/modules/linear_model.html#logistic-regression\n",
      "  n_iter_i = _check_optimize_result(\n"
     ]
    }
   ],
   "source": [
    "models={}\n",
    "models['LR']=LogisticRegression()\n",
    "models['DTree']=DecisionTreeClassifier()\n",
    "\n",
    "models['NB']=GaussianNB()\n",
    "models['SVM']=SVC()\n",
    "seed = 7\n",
    "#评估算法\n",
    "results=[]\n",
    "for key in models:# 可用key下表访问字典\n",
    "    kfold=KFold(n_splits=10,random_state=seed,shuffle=True)\n",
    "    cv_results=cross_val_score(models[key],X_train,Y_train,cv=kfold,scoring='accuracy')\n",
    "    results.append(cv_results)"
   ]
  },
  {
   "cell_type": "code",
   "execution_count": 89,
   "metadata": {
    "collapsed": true,
    "jupyter": {
     "outputs_hidden": true
    }
   },
   "outputs": [
    {
     "name": "stdout",
     "output_type": "stream",
     "text": [
      "[1.         1.         1.         0.91666667 0.91666667 1.\n",
      " 1.         1.         0.91666667 0.91666667]\n",
      "[0.91666667 1.         1.         0.91666667 0.91666667 1.\n",
      " 1.         1.         0.91666667 1.        ]\n",
      "[1.         0.91666667 1.         1.         0.91666667 1.\n",
      " 1.         1.         0.91666667 0.91666667]\n",
      "[1.         1.         1.         0.91666667 0.91666667 0.91666667\n",
      " 1.         0.91666667 0.91666667 0.91666667]\n"
     ]
    },
    {
     "name": "stderr",
     "output_type": "stream",
     "text": [
      "E:\\pycharm\\pyinterpreter\\lib\\site-packages\\sklearn\\linear_model\\_logistic.py:460: ConvergenceWarning: lbfgs failed to converge (status=1):\n",
      "STOP: TOTAL NO. of ITERATIONS REACHED LIMIT.\n",
      "\n",
      "Increase the number of iterations (max_iter) or scale the data as shown in:\n",
      "    https://scikit-learn.org/stable/modules/preprocessing.html\n",
      "Please also refer to the documentation for alternative solver options:\n",
      "    https://scikit-learn.org/stable/modules/linear_model.html#logistic-regression\n",
      "  n_iter_i = _check_optimize_result(\n",
      "E:\\pycharm\\pyinterpreter\\lib\\site-packages\\sklearn\\linear_model\\_logistic.py:460: ConvergenceWarning: lbfgs failed to converge (status=1):\n",
      "STOP: TOTAL NO. of ITERATIONS REACHED LIMIT.\n",
      "\n",
      "Increase the number of iterations (max_iter) or scale the data as shown in:\n",
      "    https://scikit-learn.org/stable/modules/preprocessing.html\n",
      "Please also refer to the documentation for alternative solver options:\n",
      "    https://scikit-learn.org/stable/modules/linear_model.html#logistic-regression\n",
      "  n_iter_i = _check_optimize_result(\n",
      "E:\\pycharm\\pyinterpreter\\lib\\site-packages\\sklearn\\linear_model\\_logistic.py:460: ConvergenceWarning: lbfgs failed to converge (status=1):\n",
      "STOP: TOTAL NO. of ITERATIONS REACHED LIMIT.\n",
      "\n",
      "Increase the number of iterations (max_iter) or scale the data as shown in:\n",
      "    https://scikit-learn.org/stable/modules/preprocessing.html\n",
      "Please also refer to the documentation for alternative solver options:\n",
      "    https://scikit-learn.org/stable/modules/linear_model.html#logistic-regression\n",
      "  n_iter_i = _check_optimize_result(\n",
      "E:\\pycharm\\pyinterpreter\\lib\\site-packages\\sklearn\\linear_model\\_logistic.py:460: ConvergenceWarning: lbfgs failed to converge (status=1):\n",
      "STOP: TOTAL NO. of ITERATIONS REACHED LIMIT.\n",
      "\n",
      "Increase the number of iterations (max_iter) or scale the data as shown in:\n",
      "    https://scikit-learn.org/stable/modules/preprocessing.html\n",
      "Please also refer to the documentation for alternative solver options:\n",
      "    https://scikit-learn.org/stable/modules/linear_model.html#logistic-regression\n",
      "  n_iter_i = _check_optimize_result(\n",
      "E:\\pycharm\\pyinterpreter\\lib\\site-packages\\sklearn\\linear_model\\_logistic.py:460: ConvergenceWarning: lbfgs failed to converge (status=1):\n",
      "STOP: TOTAL NO. of ITERATIONS REACHED LIMIT.\n",
      "\n",
      "Increase the number of iterations (max_iter) or scale the data as shown in:\n",
      "    https://scikit-learn.org/stable/modules/preprocessing.html\n",
      "Please also refer to the documentation for alternative solver options:\n",
      "    https://scikit-learn.org/stable/modules/linear_model.html#logistic-regression\n",
      "  n_iter_i = _check_optimize_result(\n",
      "E:\\pycharm\\pyinterpreter\\lib\\site-packages\\sklearn\\linear_model\\_logistic.py:460: ConvergenceWarning: lbfgs failed to converge (status=1):\n",
      "STOP: TOTAL NO. of ITERATIONS REACHED LIMIT.\n",
      "\n",
      "Increase the number of iterations (max_iter) or scale the data as shown in:\n",
      "    https://scikit-learn.org/stable/modules/preprocessing.html\n",
      "Please also refer to the documentation for alternative solver options:\n",
      "    https://scikit-learn.org/stable/modules/linear_model.html#logistic-regression\n",
      "  n_iter_i = _check_optimize_result(\n"
     ]
    }
   ],
   "source": [
    "##交叉验证\n",
    "models = {}\n",
    "\n",
    "models[\"LR\"] = LogisticRegression()\n",
    "models[\"SVM\"] = SVC()\n",
    "models[\"Dtree\"] = DecisionTreeClassifier()\n",
    "models[\"GaussianNB\"] = GaussianNB()\n",
    "\n",
    "results = []\n",
    "\n",
    "for key in models:\n",
    "    kfold = KFold(n_splits=10, random_state=random_seed, shuffle=True)\n",
    "    cv_results=cross_val_score(models[key], X_train, Y_train, cv=kfold, scoring=\"accuracy\")\n",
    "    results.append(cv_results)\n",
    "for i in results:\n",
    "    print(i)\n"
   ]
  },
  {
   "cell_type": "code",
   "execution_count": null,
   "metadata": {},
   "outputs": [],
   "source": []
  },
  {
   "cell_type": "code",
   "execution_count": null,
   "metadata": {},
   "outputs": [],
   "source": []
  },
  {
   "cell_type": "code",
   "execution_count": null,
   "metadata": {},
   "outputs": [],
   "source": []
  },
  {
   "cell_type": "code",
   "execution_count": null,
   "metadata": {},
   "outputs": [],
   "source": []
  },
  {
   "cell_type": "markdown",
   "metadata": {},
   "source": [
    "查看交叉验证训练结果"
   ]
  },
  {
   "cell_type": "code",
   "execution_count": 86,
   "metadata": {},
   "outputs": [
    {
     "name": "stdout",
     "output_type": "stream",
     "text": [
      "[1.         1.         1.         1.         1.         0.91666667\n",
      " 1.         0.91666667 0.91666667 1.        ]\n",
      "\n",
      "[0.91666667 1.         0.91666667 1.         1.         0.91666667\n",
      " 1.         0.91666667 0.83333333 1.        ]\n",
      "\n",
      "[0.91666667 1.         0.91666667 1.         1.         0.83333333\n",
      " 1.         0.91666667 0.91666667 1.        ]\n",
      "\n",
      "[1.         1.         0.91666667 1.         1.         0.91666667\n",
      " 1.         0.91666667 0.91666667 1.        ]\n",
      "\n"
     ]
    }
   ],
   "source": [
    "# print(results)\n",
    "for i in results:\n",
    "    print(i)\n",
    "    print()\n",
    "    "
   ]
  },
  {
   "cell_type": "code",
   "execution_count": null,
   "metadata": {},
   "outputs": [],
   "source": []
  },
  {
   "cell_type": "code",
   "execution_count": null,
   "metadata": {},
   "outputs": [],
   "source": []
  },
  {
   "cell_type": "code",
   "execution_count": null,
   "metadata": {},
   "outputs": [],
   "source": []
  },
  {
   "cell_type": "code",
   "execution_count": 92,
   "metadata": {},
   "outputs": [
    {
     "name": "stdout",
     "output_type": "stream",
     "text": [
      "<class 'list'>\n"
     ]
    },
    {
     "ename": "AttributeError",
     "evalue": "'list' object has no attribute 'info'",
     "output_type": "error",
     "traceback": [
      "\u001b[1;31m---------------------------------------------------------------------------\u001b[0m",
      "\u001b[1;31mAttributeError\u001b[0m                            Traceback (most recent call last)",
      "Cell \u001b[1;32mIn[92], line 2\u001b[0m\n\u001b[0;32m      1\u001b[0m \u001b[38;5;28mprint\u001b[39m(\u001b[38;5;28mtype\u001b[39m(results))\n\u001b[1;32m----> 2\u001b[0m \u001b[38;5;28mprint\u001b[39m(\u001b[43mresults\u001b[49m\u001b[38;5;241;43m.\u001b[39;49m\u001b[43minfo\u001b[49m)\n",
      "\u001b[1;31mAttributeError\u001b[0m: 'list' object has no attribute 'info'"
     ]
    }
   ],
   "source": [
    "print(type(results))\n",
    "# print(results.info)"
   ]
  },
  {
   "cell_type": "code",
   "execution_count": null,
   "metadata": {},
   "outputs": [],
   "source": []
  },
  {
   "cell_type": "code",
   "execution_count": null,
   "metadata": {},
   "outputs": [],
   "source": []
  },
  {
   "cell_type": "code",
   "execution_count": null,
   "metadata": {},
   "outputs": [],
   "source": []
  },
  {
   "cell_type": "code",
   "execution_count": 93,
   "metadata": {},
   "outputs": [
    {
     "data": {
      "image/png": "[encoded data removed]",
      "text/plain": [
       "<Figure size 640x480 with 1 Axes>"
      ]
     },
     "metadata": {},
     "output_type": "display_data"
    }
   ],
   "source": [
    "#箱线图比较算法\n",
    "fig=plt.figure()\n",
    "fig.suptitle('Algorithm Comparison')\n",
    "ax=fig.add_subplot(1,1,1) # 分为1*1的第1个子图\n",
    "plt.boxplot(results)\n",
    "ax.set_xticklabels(models.keys())  # plt.xticks(range(1, len(models.keys())+1), models.keys())也可\n",
    "plt.show()"
   ]
  },
  {
   "cell_type": "code",
   "execution_count": null,
   "metadata": {},
   "outputs": [],
   "source": []
  },
  {
   "cell_type": "markdown",
   "metadata": {},
   "source": [
    "\n",
    "<font color='red'><b>5、模型预测</b></font>\n",
    "\n",
    "请给出结论，哪个模型的效果最好"
   ]
  },
  {
   "cell_type": "markdown",
   "metadata": {},
   "source": [
    "print(X_test[:,0],X_test[:,1])"
   ]
  },
  {
   "cell_type": "code",
   "execution_count": 95,
   "metadata": {},
   "outputs": [
    {
     "name": "stdout",
     "output_type": "stream",
     "text": [
      "[5.8        5.1        6.6        5.4        7.9        6.3\n",
      " 6.9        5.1        4.7        6.9        5.6        5.4\n",
      " 7.1        6.4        6.         4.4        5.8        5.6\n",
      " 5.4        5.         5.5        5.4        6.7        5.\n",
      " 7.2        5.7        5.5        5.1        6.1        5.84520548] \n",
      "\n",
      "\n",
      " [4.  2.5 3.  3.9 2.8 3.3 3.1 3.8 3.2 3.2 2.7 3.9 3.  3.2 2.9 3.2 2.6 3.\n",
      " 3.4 3.5 2.6 3.  3.  3.5 3.2 2.8 4.2 3.8 2.8 3. ]\n"
     ]
    }
   ],
   "source": [
    "print(X_test[:,0], \"\\n\\n\\n\", X_test[:,1])"
   ]
  },
  {
   "cell_type": "code",
   "execution_count": null,
   "metadata": {},
   "outputs": [],
   "source": []
  },
  {
   "cell_type": "code",
   "execution_count": null,
   "metadata": {},
   "outputs": [],
   "source": []
  },
  {
   "cell_type": "markdown",
   "metadata": {},
   "source": [
    "选择效果最高的两个模型，并绘制分类效果图（图表类型可自行选择）"
   ]
  },
  {
   "cell_type": "code",
   "execution_count": 104,
   "metadata": {},
   "outputs": [
    {
     "name": "stdout",
     "output_type": "stream",
     "text": [
      "[0. 1. 1. 0. 2. 1. 2. 0. 0. 2. 1. 0. 2. 1. 1. 0. 1. 1. 0. 0. 1. 1. 2. 0.\n",
      " 2. 1. 0. 0. 1. 2.]\n",
      "0.9666666666666667\n"
     ]
    }
   ],
   "source": [
    "svm = SVC()\n",
    "svm.fit(X_train, Y_train)\n",
    "pre_svm = svm.predict(X_test)\n",
    "print(pre_svm)\n",
    "print(accuracy_score(Y_test, pre_svm))"
   ]
  },
  {
   "cell_type": "code",
   "execution_count": 110,
   "metadata": {},
   "outputs": [
    {
     "data": {
      "text/plain": [
       "Text(0.5, 1.0, 'pre_svm')"
      ]
     },
     "execution_count": 110,
     "metadata": {},
     "output_type": "execute_result"
    },
    {
     "data": {
      "image/png": "[encoded data removed]",
      "text/plain": [
       "<Figure size 640x480 with 1 Axes>"
      ]
     },
     "metadata": {},
     "output_type": "display_data"
    },
    {
     "data": {
      "image/png": "[encoded data removed]",
      "text/plain": [
       "<Figure size 640x480 with 1 Axes>"
      ]
     },
     "metadata": {},
     "output_type": "display_data"
    }
   ],
   "source": [
    "\n",
    "plt.figure(1)\n",
    "plt.scatter(X_test[:, 0], X_test[:, 1], c=Y_test)\n",
    "plt.xticks(())\n",
    "plt.yticks(())\n",
    "plt.title(\"Y_test\")\n",
    "\n",
    "plt.figure(2)\n",
    "plt.scatter(X_test[:, 0], X_test[:, 1], c=pre_svm)\n",
    "plt.xticks(())\n",
    "plt.yticks(())\n",
    "plt.title(\"pre_svm\")\n",
    "\n"
   ]
  },
  {
   "cell_type": "code",
   "execution_count": null,
   "metadata": {},
   "outputs": [],
   "source": []
  },
  {
   "cell_type": "code",
   "execution_count": null,
   "metadata": {},
   "outputs": [],
   "source": []
  },
  {
   "cell_type": "code",
   "execution_count": null,
   "metadata": {},
   "outputs": [],
   "source": []
  },
  {
   "cell_type": "code",
   "execution_count": null,
   "metadata": {},
   "outputs": [],
   "source": []
  },
  {
   "cell_type": "code",
   "execution_count": null,
   "metadata": {},
   "outputs": [],
   "source": []
  },
  {
   "cell_type": "code",
   "execution_count": 105,
   "metadata": {},
   "outputs": [
    {
     "name": "stdout",
     "output_type": "stream",
     "text": [
      "[[5.8        4.         1.2        0.2       ]\n",
      " [5.1        2.5        3.         1.1       ]\n",
      " [6.6        3.         4.4        1.4       ]\n",
      " [5.4        3.9        1.3        0.4       ]\n",
      " [7.9        2.8        6.4        2.        ]\n",
      " [6.3        3.3        4.7        1.6       ]\n",
      " [6.9        3.1        5.1        2.3       ]\n",
      " [5.1        3.8        1.9        0.4       ]\n",
      " [4.7        3.2        1.6        0.2       ]\n",
      " [6.9        3.2        5.7        2.3       ]\n",
      " [5.6        2.7        4.2        1.3       ]\n",
      " [5.4        3.9        1.7        0.4       ]\n",
      " [7.1        3.         5.9        2.1       ]\n",
      " [6.4        3.2        4.5        1.5       ]\n",
      " [6.         2.9        4.5        1.5       ]\n",
      " [4.4        3.2        1.3        0.2       ]\n",
      " [5.8        2.6        4.         1.2       ]\n",
      " [5.6        3.         4.1        1.5       ]\n",
      " [5.4        3.4        1.5        0.4       ]\n",
      " [5.         3.5        1.2        0.2       ]\n",
      " [5.5        2.6        4.4        1.2       ]\n",
      " [5.4        3.         4.5        1.5       ]\n",
      " [6.7        3.         5.         1.7       ]\n",
      " [5.         3.5        1.3        0.3       ]\n",
      " [7.2        3.2        6.         1.8       ]\n",
      " [5.7        2.8        4.1        1.3       ]\n",
      " [5.5        4.2        1.4        0.2       ]\n",
      " [5.1        3.8        1.5        0.3       ]\n",
      " [6.1        2.8        4.7        1.2       ]\n",
      " [5.84520548 3.         5.2        1.9       ]]\n"
     ]
    }
   ],
   "source": [
    "print(X_test)"
   ]
  },
  {
   "cell_type": "code",
   "execution_count": null,
   "metadata": {},
   "outputs": [],
   "source": []
  },
  {
   "cell_type": "code",
   "execution_count": 108,
   "metadata": {},
   "outputs": [
    {
     "name": "stdout",
     "output_type": "stream",
     "text": [
      "0.9666666666666667\n"
     ]
    },
    {
     "data": {
      "text/plain": [
       "([], [])"
      ]
     },
     "execution_count": 108,
     "metadata": {},
     "output_type": "execute_result"
    },
    {
     "data": {
      "image/png": "[encoded data removed]",
      "text/plain": [
       "<Figure size 640x480 with 1 Axes>"
      ]
     },
     "metadata": {},
     "output_type": "display_data"
    },
    {
     "data": {
      "image/png": "[encoded data removed]",
      "text/plain": [
       "<Figure size 640x480 with 1 Axes>"
      ]
     },
     "metadata": {},
     "output_type": "display_data"
    }
   ],
   "source": [
    "#使用评估数据集评估算法\n",
    "\n",
    "svm=SVC()\n",
    "svm.fit(X=X_train,y=Y_train)\n",
    "pre_svm=svm.predict(X_test)\n",
    "print(accuracy_score(Y_test,pre_svm))\n",
    "\n",
    "plt.figure(1)\n",
    "plt.scatter(X_test[:,0],X_test[:,1],c=Y_test)# c会给不同值分配颜色\n",
    "plt.xticks(())  \n",
    "plt.yticks(())  # 取消刻度\n",
    "plt.figure(2)\n",
    "plt.scatter(X_test[:, 0],X_test[:,1],c=pre_svm)\n",
    "plt.xticks(())  \n",
    "plt.yticks(())"
   ]
  },
  {
   "cell_type": "code",
   "execution_count": null,
   "metadata": {},
   "outputs": [],
   "source": []
  },
  {
   "cell_type": "code",
   "execution_count": null,
   "metadata": {},
   "outputs": [],
   "source": []
  },
  {
   "cell_type": "code",
   "execution_count": null,
   "metadata": {},
   "outputs": [],
   "source": []
  },
  {
   "cell_type": "code",
   "execution_count": 111,
   "metadata": {},
   "outputs": [
    {
     "name": "stdout",
     "output_type": "stream",
     "text": [
      "0.9666666666666667\n"
     ]
    },
    {
     "data": {
      "text/plain": [
       "([], [])"
      ]
     },
     "execution_count": 111,
     "metadata": {},
     "output_type": "execute_result"
    },
    {
     "data": {
      "image/png": "[encoded data removed]",
      "text/plain": [
       "<Figure size 640x480 with 1 Axes>"
      ]
     },
     "metadata": {},
     "output_type": "display_data"
    },
    {
     "data": {
      "image/png": "[encoded data removed]",
      "text/plain": [
       "<Figure size 640x480 with 1 Axes>"
      ]
     },
     "metadata": {},
     "output_type": "display_data"
    }
   ],
   "source": [
    "lr=LogisticRegression()\n",
    "lr.fit(X=X_train,y=Y_train)\n",
    "pre_lr=lr.predict(X_test)\n",
    "print(accuracy_score(Y_test,pre_lr))\n",
    "\n",
    "plt.figure(1)\n",
    "plt.scatter(X_test[:,0],X_test[:,1],c=Y_test)\n",
    "plt.xticks(())  \n",
    "plt.yticks(())  #取消刻度\n",
    "plt.figure(2)\n",
    "plt.scatter(X_test[:, 0],X_test[:,1],c=pre_lr)\n",
    "plt.xticks(())  \n",
    "plt.yticks(())  "
   ]
  },
  {
   "cell_type": "code",
   "execution_count": null,
   "metadata": {},
   "outputs": [],
   "source": []
  },
  {
   "cell_type": "code",
   "execution_count": null,
   "metadata": {},
   "outputs": [],
   "source": []
  }
 ],
 "metadata": {
  "kernelspec": {
   "display_name": "Python 3 (ipykernel)",
   "language": "python",
   "name": "python3"
  },
  "language_info": {
   "codemirror_mode": {
    "name": "ipython",
    "version": 3
   },
   "file_extension": ".py",
   "mimetype": "text/x-python",
   "name": "python",
   "nbconvert_exporter": "python",
   "pygments_lexer": "ipython3",
   "version": "3.8.10"
  }
 },
 "nbformat": 4,
 "nbformat_minor": 4
}
