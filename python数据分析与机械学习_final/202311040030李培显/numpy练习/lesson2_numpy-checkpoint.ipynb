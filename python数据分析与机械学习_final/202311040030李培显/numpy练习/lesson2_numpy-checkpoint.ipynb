{
 "cells": [
  {
   "cell_type": "markdown",
   "id": "4c98d3e5-5c63-413d-a72a-ce43104081ed",
   "metadata": {},
   "source": [
    "## 属性"
   ]
  },
  {
   "cell_type": "code",
   "execution_count": null,
   "id": "57410757-5fc6-44a2-8d32-5fa540c4cf39",
   "metadata": {},
   "outputs": [],
   "source": []
  },
  {
   "cell_type": "code",
   "execution_count": 1,
   "id": "7a95e528-72c4-4138-adea-037c81e1f661",
   "metadata": {},
   "outputs": [
    {
     "name": "stdout",
     "output_type": "stream",
     "text": [
      "[[1 2 3]\n",
      " [4 5 6]]\n",
      "2\n",
      "(2, 3)\n",
      "6\n"
     ]
    }
   ],
   "source": [
    "import numpy as np\n",
    "\n",
    "array = np.array([[1,2,3],[4,5,6]])\n",
    "\n",
    "print(array)\n",
    "print(array.ndim) #维度dimenion：几维 2\n",
    "print(array.shape) #形状：行数和列数 （2，3）\n",
    "print(array.size) #元素个数 612345678"
   ]
  },
  {
   "cell_type": "markdown",
   "id": "6d1bd7d1-4df2-4a05-a54b-36811c885502",
   "metadata": {},
   "source": [
    "### 创建array"
   ]
  },
  {
   "cell_type": "markdown",
   "id": "e3b38bda-b162-4d49-87c2-c810485f519c",
   "metadata": {},
   "source": [
    "#### arange & linespace"
   ]
  },
  {
   "cell_type": "code",
   "execution_count": null,
   "id": "1fecd0ad-f1cc-47d6-9ae5-0071ae11c84b",
   "metadata": {},
   "outputs": [],
   "source": []
  },
  {
   "cell_type": "code",
   "execution_count": 8,
   "id": "ead203a7-cf95-4acb-b876-7d97189ce2c7",
   "metadata": {},
   "outputs": [
    {
     "name": "stdout",
     "output_type": "stream",
     "text": [
      "[[1 2 3]\n",
      " [4 5 6]]\n",
      "int32\n",
      "[[0. 0. 0. 0.]\n",
      " [0. 0. 0. 0.]\n",
      " [0. 0. 0. 0.]]\n",
      "[[1. 1. 1. 1.]\n",
      " [1. 1. 1. 1.]\n",
      " [1. 1. 1. 1.]]\n",
      "float64\n",
      "[[1. 1. 1. 1.]\n",
      " [1. 1. 1. 1.]\n",
      " [1. 1. 1. 1.]]\n",
      "[10 12 14 16 18]\n",
      "[10.  12.5 15.  17.5 20. ]\n",
      "[10.         10.20408163 10.40816327 10.6122449  10.81632653 11.02040816\n",
      " 11.2244898  11.42857143 11.63265306 11.83673469 12.04081633 12.24489796\n",
      " 12.44897959 12.65306122 12.85714286 13.06122449 13.26530612 13.46938776\n",
      " 13.67346939 13.87755102 14.08163265 14.28571429 14.48979592 14.69387755\n",
      " 14.89795918 15.10204082 15.30612245 15.51020408 15.71428571 15.91836735\n",
      " 16.12244898 16.32653061 16.53061224 16.73469388 16.93877551 17.14285714\n",
      " 17.34693878 17.55102041 17.75510204 17.95918367 18.16326531 18.36734694\n",
      " 18.57142857 18.7755102  18.97959184 19.18367347 19.3877551  19.59183673\n",
      " 19.79591837 20.        ]\n",
      "[[ 1.          1.47368421  1.94736842  2.42105263]\n",
      " [ 2.89473684  3.36842105  3.84210526  4.31578947]\n",
      " [ 4.78947368  5.26315789  5.73684211  6.21052632]\n",
      " [ 6.68421053  7.15789474  7.63157895  8.10526316]\n",
      " [ 8.57894737  9.05263158  9.52631579 10.        ]]\n"
     ]
    }
   ],
   "source": [
    "a = np.array([[1,2,3],\n",
    "             [4,5,6]])\n",
    "print(a)\n",
    "\n",
    "a = np.array([[1,2,3],[4,5,6]]) #制定数据的类型 对于array，是dtype，而numpy的常用数据类型有两种：int和float，一般有int16 int32 int64,float同样，数值越大占用内存越大，精度也就越高，但是单位内存下存储的东西也就越少\n",
    "print(a.dtype) #python3.5及以下版本默认类型为64，python3.6默认为32\n",
    "\n",
    "a = np.zeros((3,4)) #生成3行4列元素全为0的矩阵\n",
    "print(a) \n",
    "\n",
    "a = np.ones((3,4)) #生成3行4列元素全为1的矩阵，并规定数据类型为float32\n",
    "print(a)\n",
    "print(a.dtype)\n",
    "\n",
    "a = np.empty((3,4)) #生成3行4列且每个元素都接近0的矩阵，据说在python3.6中和zeros是一样的了，未查证\n",
    "print(a)\n",
    "\n",
    "#生成等差数列的两个方法：\n",
    "a = np.arange(10,20,2) #生成连续的数组，从10到20（不包括20），**步长为2**\n",
    "print(a)\n",
    "a = np.linspace(10,20,5) #创建线段型数据 从10到20（包括20），**元素个数为5** \n",
    "print(a)\n",
    "a = np.linspace(10,20,num=50, endpoint=True, retstep=False, dtype=None) \n",
    "print(a)\n",
    "\n",
    "a = np.linspace(1,10,20).reshape((5,4)) #改变矩阵的形状，变为5行4列的矩阵\n",
    "print(a)"
   ]
  },
  {
   "cell_type": "code",
   "execution_count": null,
   "id": "702de84b-3ce3-4a12-822f-1d1b88d21c70",
   "metadata": {},
   "outputs": [],
   "source": []
  },
  {
   "cell_type": "code",
   "execution_count": null,
   "id": "d5f136c9-e455-43ed-b768-c2db4732906e",
   "metadata": {},
   "outputs": [],
   "source": []
  },
  {
   "cell_type": "code",
   "execution_count": null,
   "id": "e550fc54-1cf7-4151-b89a-b7450061fa5c",
   "metadata": {},
   "outputs": [],
   "source": []
  },
  {
   "cell_type": "markdown",
   "id": "3a3093cf-9d4d-4bdc-b7d7-fd681fe1063d",
   "metadata": {},
   "source": [
    "### array运算"
   ]
  },
  {
   "cell_type": "code",
   "execution_count": null,
   "id": "5176d127-aa5a-415a-bd3e-f6168513c3f6",
   "metadata": {},
   "outputs": [],
   "source": []
  },
  {
   "cell_type": "code",
   "execution_count": 3,
   "id": "b7ed3902-783d-44bc-bb27-33ee53246416",
   "metadata": {},
   "outputs": [
    {
     "name": "stdout",
     "output_type": "stream",
     "text": [
      "[ True  True  True  True]\n",
      "[False  True False False]\n",
      "[[0.86139639 0.95621246 0.63821701 0.16048824]\n",
      " [0.80629509 0.90847163 0.96819331 0.27234793]]\n"
     ]
    },
    {
     "data": {
      "text/plain": [
       "array([0.95621246, 0.96819331])"
      ]
     },
     "execution_count": 3,
     "metadata": {},
     "output_type": "execute_result"
    }
   ],
   "source": [
    "a = np.array([5,2,4,6])\n",
    "b = np.arange(4) # = np.array([0,1,2,3])\n",
    "\n",
    "#常规运算 /对每个元素运算\n",
    "c = a - b #[5,1,2,3]\n",
    "c = a + b\n",
    "c = a * b #[0,2,8,18] 对应位置上的元素相乘，并非矩阵乘法\n",
    "c = a ** 2 #a^2 [25,4,16,36]\n",
    "c = np.sin(a) #对每个元素求sin\n",
    "c = 10*np.sin(a)\n",
    "\n",
    "#逻辑判断，返回一个bool类型的矩阵\n",
    "print(b<4) #[True,True,True,True]\n",
    "print(a==2) #[False,True,False,False]\n",
    "#----------------------------------------------------------------\n",
    "\n",
    "#上面的运算都是基于一维矩阵/向量/一维数组，现在要对多维矩阵进行运算\n",
    "a = np.array([[1,1],\n",
    "              [0,1]]) #2行2列的矩阵\n",
    "b = np.arange(4).reshape((2,2))\n",
    "\n",
    "c_dot = np.dot(a,b) #矩阵相乘\n",
    "c_dot_2 = a.dot(b) #两种方法等价\n",
    "#-------------------------------------------------------------\n",
    "a = np.random.random((2,4)) #生成一个所有元素都是0到1的2行4列的随机数矩阵\n",
    "print(a)\n",
    "# array([[ 0.94692159,  0.20821798,  0.35339414,  0.2805278 ],\n",
    "#       [ 0.04836775,  0.04023552,  0.44091941,  0.21665268]])\n",
    "\n",
    "np.sum(a) #矩阵中所有元素求和\n",
    "np.min(a) #矩阵中最小值\n",
    "np.max(a) #矩阵中最大值\n",
    "\n",
    "#分别计算每一行或者每一列的运算，用到axis=1,0；其中0表示按列，1表示按行\n",
    "np.sum(a,axis=1)\n",
    "# sum = [ 1.96877324  2.43558896]\n",
    "np.min(a,axis=0)\n",
    "# min = [ 0.23651224  0.41900661  0.36603285  0.46456022]\n",
    "np.max(a,axis=1)\n",
    "# max = [ 0.84869417  0.9043845 ]1234567891011121314151617181920212223242526272829303132333435363738394041"
   ]
  },
  {
   "cell_type": "code",
   "execution_count": null,
   "id": "e5de5a6f-32fd-4aac-8983-7b1ef722b79a",
   "metadata": {},
   "outputs": [],
   "source": []
  },
  {
   "cell_type": "code",
   "execution_count": 10,
   "id": "552caab6-2830-40e8-96b5-ff32ef37eb47",
   "metadata": {},
   "outputs": [
    {
     "name": "stdout",
     "output_type": "stream",
     "text": [
      "0\n",
      "11\n",
      "7.5\n",
      "7.5\n",
      "7.5\n",
      "7.5\n",
      "[ 2  5  9 14 20 27 35 44 54 65 77 90]\n",
      "[[1 1 1]\n",
      " [1 1 1]\n",
      " [1 1 1]]\n",
      "(array([0, 0, 0, 0, 1, 1, 1, 1, 2, 2, 2, 2], dtype=int64), array([0, 1, 2, 3, 0, 1, 2, 3, 0, 1, 2, 3], dtype=int64))\n",
      "(array([0, 0, 1, 1, 2, 2], dtype=int64), array([1, 2, 0, 2, 0, 1], dtype=int64))\n",
      "[[11 12 13 14]\n",
      " [ 7  8  9 10]\n",
      " [ 3  4  5  6]]\n",
      "[[14 10  6]\n",
      " [13  9  5]\n",
      " [12  8  4]\n",
      " [11  7  3]]\n",
      "[[14 10  6]\n",
      " [13  9  5]\n",
      " [12  8  4]\n",
      " [11  7  3]]\n",
      "[[14 13 12 11]\n",
      " [10  9  8  7]\n",
      " [ 6  5  4  3]]\n",
      "[[9 9 9 9]\n",
      " [9 9 8 7]\n",
      " [6 5 5 5]]\n"
     ]
    }
   ],
   "source": [
    "A = np.arange(2,14).reshape((3,4))\n",
    "# array([[ 2, 3, 4, 5]\n",
    "#        [ 6, 7, 8, 9]\n",
    "#        [10,11,12,13]])\n",
    "\n",
    "print(np.argmin(A)) #求矩阵中最小元素的索引，第一个元素记为位置0，最后一个元素对应位置为11   \n",
    "# 0\n",
    "print(np.argmax(A))    \n",
    "# 11\n",
    "\n",
    "#求平均值 下面四种方法等价：\n",
    "print(np.mean(A))\n",
    "print(A.mean())\n",
    "print(np.median(A))\n",
    "print(np.average(A))\n",
    "#7.5\n",
    "\n",
    "print(np.cumsum(A)) #累加函数，生成的每一项矩阵元素均是从原矩阵首项累加到对应项的元素之和，得到1*12的矩阵\n",
    "# [2 5 9 14 20 27 35 44 54 6b5 77 90]\n",
    "print(np.diff(A)) #累差函数，后一项与此项的差作为这一项的元素，得到3*3的矩阵\n",
    "# [[1 1 1]\n",
    "#  [1 1 1]\n",
    "#  [1 1 1]]\n",
    "\n",
    "print(np.nonzero(A)) #查找哪些位置上的元素非0，结果显示成行与列，一一对应   \n",
    "#(array([0,0,0,0,1,1,1,1,2,2,2,2]),array([0,1,2,3,0,1,2,3,0,1,2,3]))\n",
    "A = np.array([[0,1,2],[6,0,8],[9,5,0]])\n",
    "print(np.nonzero(A))\n",
    "#(array([0,0,1,1,2,2]),array([1,2,0,2,0,1])) 见下图\n",
    "\n",
    "A = np.arange(14,2, -1).reshape((3,4)) \n",
    "# array([[14, 13, 12, 11],\n",
    "#       [10,  9,  8,  7],\n",
    "#       [ 6,  5,  4,  3]])\n",
    "\n",
    "print(np.sort(A)) #行排序，从小到大   \n",
    "# array([[11,12,13,14]\n",
    "#        [ 7, 8, 9,10]\n",
    "#        [ 3, 4, 5, 6]])\n",
    "\n",
    "#转置，两种方法等价（A必须是矩阵/一维向量，不能是数组/序列）\n",
    "print(np.transpose(A))    \n",
    "print(A.T)\n",
    "# array([[14,10, 6]\n",
    "#        [13, 9, 5]\n",
    "#        [12, 8, 4]\n",
    "#        [11, 7, 3]])\n",
    "# array([[14,10, 6]\n",
    "#        [13, 9, 5]\n",
    "#        [12, 8, 4]\n",
    "#        [11, 7, 3]])\n",
    "\n",
    "#clip(array,a,b)函数,其中规定a<b,使矩阵中<a的元素全部变为a，>b的元素全部变为b\n",
    "print(A)\n",
    "# array([[14,13,12,11]\n",
    "#        [10, 9, 8, 7]\n",
    "#        [ 6, 5, 4, 3]])\n",
    "print(np.clip(A,5,9))    \n",
    "# array([[ 9, 9, 9, 9]\n",
    "#        [ 9, 9, 8, 7]\n",
    "#        [ 6, 5, 5, 5]])"
   ]
  },
  {
   "cell_type": "code",
   "execution_count": null,
   "id": "f4ae9f5b-66d0-4095-9380-e1c80cd7274f",
   "metadata": {},
   "outputs": [],
   "source": []
  },
  {
   "cell_type": "code",
   "execution_count": 17,
   "id": "410d5dc3-28d0-47b0-83a4-3846852db0c2",
   "metadata": {},
   "outputs": [
    {
     "name": "stdout",
     "output_type": "stream",
     "text": [
      "8.5\n",
      "[[ 0  1  2  3]\n",
      " [ 4  5  6  7]\n",
      " [ 8  9 10 11]]\n",
      "[[ 0  1  2  3]\n",
      " [ 4  5  6  7]\n",
      " [ 8  9 10 11]]\n",
      "5.5\n",
      "11\n",
      "0\n"
     ]
    }
   ],
   "source": [
    "print(np.average(A))\n",
    "B = np.arange(12).reshape((3, 4))\n",
    "print(B)\n",
    "B.sort()\n",
    "print(B)\n",
    "print(np.average(B))\n",
    "print(B.argmax())\n",
    "print(B.argmin())\n",
    "# print(B[B]) "
   ]
  },
  {
   "cell_type": "code",
   "execution_count": null,
   "id": "5f4ede94-04fc-4e57-a4c0-260cb36f62ee",
   "metadata": {},
   "outputs": [],
   "source": []
  },
  {
   "cell_type": "code",
   "execution_count": null,
   "id": "2306c01a-9d70-4678-8be9-bd35be7ed5b9",
   "metadata": {},
   "outputs": [],
   "source": []
  },
  {
   "cell_type": "markdown",
   "id": "4067dad9-cbae-4f0b-ac5c-e18bf65b5956",
   "metadata": {},
   "source": [
    "## numpy索引"
   ]
  },
  {
   "cell_type": "code",
   "execution_count": 19,
   "id": "5251ac60-dff6-488a-b8df-f82df74ae87a",
   "metadata": {},
   "outputs": [
    {
     "name": "stdout",
     "output_type": "stream",
     "text": [
      "6\n",
      "[3 4 5 6]\n"
     ]
    }
   ],
   "source": [
    "A = np.arange(3, 15)\n",
    "print(A[3])\n",
    "A = A.reshape((3, 4))\n",
    "print(A[0])"
   ]
  },
  {
   "cell_type": "code",
   "execution_count": 20,
   "id": "a6397679-7868-4eab-b6cb-f4118d5c8c6c",
   "metadata": {},
   "outputs": [
    {
     "name": "stdout",
     "output_type": "stream",
     "text": [
      "[[ 3  4  5  6]\n",
      " [ 7  8  9 10]\n",
      " [11 12 13 14]]\n",
      "[3 4 5 6]\n",
      "[ 7  8  9 10]\n",
      "[11 12 13 14]\n",
      "A.T\n",
      "[[ 3  7 11]\n",
      " [ 4  8 12]\n",
      " [ 5  9 13]\n",
      " [ 6 10 14]]\n",
      "[ 3  7 11]\n",
      "[ 4  8 12]\n",
      "[ 5  9 13]\n",
      "[ 6 10 14]\n"
     ]
    }
   ],
   "source": [
    "A = np.arange(3, 15).reshape((3, 4))\n",
    "print(A)\n",
    "for row in A:\n",
    "    print(row)\n",
    "print(\"A.T\")\n",
    "print(A.T)\n",
    "for col in A.T:\n",
    "    print(col)\n"
   ]
  },
  {
   "cell_type": "markdown",
   "id": "737912a7-117f-4c03-ac68-b09f191c2b6e",
   "metadata": {},
   "source": [
    "### 迭代输出"
   ]
  },
  {
   "cell_type": "code",
   "execution_count": 25,
   "id": "1f8cdfb5-f44b-4efb-8937-d97dc884e10d",
   "metadata": {},
   "outputs": [
    {
     "name": "stdout",
     "output_type": "stream",
     "text": [
      "[[ 3  4  5  6]\n",
      " [ 7  8  9 10]\n",
      " [11 12 13 14]]\n",
      "A.flatten():\n",
      "[ 3  4  5  6  7  8  9 10 11 12 13 14]\n",
      "3 4 5 6 7 8 9 10 11 12 13 14 "
     ]
    }
   ],
   "source": [
    "A = np.arange(3, 15).reshape((3, 4))\n",
    "print(A)\n",
    "print(\"A.flatten():\")\n",
    "print(A.flatten())\n",
    "for item in A.flat: #flat为迭代器， 本身是object属性\n",
    "    print(item, end=\" \")\n",
    "    "
   ]
  },
  {
   "cell_type": "markdown",
   "id": "72933c23-125e-490d-a5e3-fbc893a3478b",
   "metadata": {},
   "source": [
    "## numpy array合并"
   ]
  },
  {
   "cell_type": "code",
   "execution_count": null,
   "id": "63f021c9-9552-4396-92e2-0b17abe9ec5d",
   "metadata": {},
   "outputs": [],
   "source": [
    "# np.vstack      \n",
    "# np.hstack\n",
    "# np.newaxis\n",
    "# np.concatenate多矩阵合并"
   ]
  },
  {
   "cell_type": "code",
   "execution_count": 26,
   "id": "780704e4-283a-4987-bbbc-054cf4656652",
   "metadata": {},
   "outputs": [
    {
     "name": "stdout",
     "output_type": "stream",
     "text": [
      "[[1 1 1]\n",
      " [2 2 2]]\n"
     ]
    }
   ],
   "source": [
    "A = np.array([1, 1, 1])\n",
    "B = np.array([2, 2, 2])\n",
    "print(np.vstack((A, B)))  #vertiacl"
   ]
  },
  {
   "cell_type": "code",
   "execution_count": 30,
   "id": "01a72219-86c3-49a4-9e95-e585eceea1da",
   "metadata": {},
   "outputs": [
    {
     "name": "stdout",
     "output_type": "stream",
     "text": [
      "[1 1 1 2 2 2]\n"
     ]
    }
   ],
   "source": [
    "print(np.hstack((A, B)))"
   ]
  },
  {
   "cell_type": "code",
   "execution_count": 32,
   "id": "19a0391f-3f31-4613-948d-cc7207b30584",
   "metadata": {},
   "outputs": [
    {
     "name": "stdout",
     "output_type": "stream",
     "text": [
      "[[1]\n",
      " [1]\n",
      " [1]]\n"
     ]
    }
   ],
   "source": [
    "print(A[:, np.newaxis])# np.newaxis作用    占位"
   ]
  },
  {
   "cell_type": "code",
   "execution_count": 34,
   "id": "5891af4d-d04c-4966-b851-85ac3090a1a5",
   "metadata": {},
   "outputs": [
    {
     "name": "stdout",
     "output_type": "stream",
     "text": [
      "[[1]\n",
      " [1]\n",
      " [1]\n",
      " [1]] [[2]\n",
      " [2]\n",
      " [2]\n",
      " [2]]\n",
      "np.concatenate(A, B, B, A)\n",
      "[[1]\n",
      " [1]\n",
      " [1]\n",
      " [1]\n",
      " [2]\n",
      " [2]\n",
      " [2]\n",
      " [2]\n",
      " [2]\n",
      " [2]\n",
      " [2]\n",
      " [2]\n",
      " [1]\n",
      " [1]\n",
      " [1]\n",
      " [1]]\n",
      "[[1 2 2 1]\n",
      " [1 2 2 1]\n",
      " [1 2 2 1]\n",
      " [1 2 2 1]]\n"
     ]
    }
   ],
   "source": [
    "A = np.array([1, 1, 1, 1])[:, np.newaxis]\n",
    "B = np.array([2, 2, 2, 2])[:, np.newaxis]\n",
    "print(A, B)\n",
    "print(\"np.concatenate(A, B, B, A)\")\n",
    "print(np.concatenate((A, B, B, A), axis=0))\n",
    "print(np.concatenate((A, B, B, A), axis=1))\n"
   ]
  },
  {
   "cell_type": "code",
   "execution_count": null,
   "id": "2d73733b-2157-4281-8c5f-f94c0dc4fa6b",
   "metadata": {},
   "outputs": [],
   "source": []
  },
  {
   "cell_type": "code",
   "execution_count": null,
   "id": "3ca990d6-7ade-4b7a-a68a-0068fee38fcc",
   "metadata": {},
   "outputs": [],
   "source": [
    "a = np.arange(4)\n",
    "# array([0, 1, 2, 3])\n",
    "\n",
    "b = a\n",
    "c = a\n",
    "d = b\n",
    "\n",
    "a[0] = 11 #改变a\n",
    "print(a)\n",
    "# array([11,  1,  2,  3])\n",
    "\n",
    "b is a  # True #b c d也会改变\n",
    "c is a  # True\n",
    "d is a  # True\n",
    "\n",
    "d[1:3] = [22, 33]   # array([11, 22, 33,  3])\n",
    "print(a)            # array([11, 22, 33,  3])\n",
    "print(b)            # array([11, 22, 33,  3])\n",
    "print(c)            # array([11, 22, 33,  3])123456789101112131415161718192021\n",
    "copy() 的赋值方式没有关联性\n",
    "b = a.copy()    # deep copy\n",
    "print(b)        # array([11, 22, 33,  3])\n",
    "a[3] = 44\n",
    "print(a)        # array([11, 22, 33, 44])\n",
    "print(b)        # array([11, 22, 33,  3]) #b不会随着a的改变而改变\n"
   ]
  }
 ],
 "metadata": {
  "kernelspec": {
   "display_name": "Python 3 (ipykernel)",
   "language": "python",
   "name": "python3"
  },
  "language_info": {
   "codemirror_mode": {
    "name": "ipython",
    "version": 3
   },
   "file_extension": ".py",
   "mimetype": "text/x-python",
   "name": "python",
   "nbconvert_exporter": "python",
   "pygments_lexer": "ipython3",
   "version": "3.8.10"
  }
 },
 "nbformat": 4,
 "nbformat_minor": 5
}
