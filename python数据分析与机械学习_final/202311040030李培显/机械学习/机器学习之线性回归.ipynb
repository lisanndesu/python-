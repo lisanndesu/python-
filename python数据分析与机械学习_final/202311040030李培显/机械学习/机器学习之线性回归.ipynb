{
 "cells": [
  {
   "cell_type": "markdown",
   "id": "1dde19fa-74a9-4c09-9dfb-6365737c0351",
   "metadata": {},
   "source": [
    "## 机器学习之线性回归"
   ]
  },
  {
   "cell_type": "markdown",
   "id": "d9ef8aa2-187f-4f7f-8705-6a6c6822bd2e",
   "metadata": {},
   "source": [
    "### 有监督学习"
   ]
  },
  {
   "cell_type": "code",
   "execution_count": null,
   "id": "4d19fc69-dd2f-4d92-8cad-85630b0ff444",
   "metadata": {},
   "outputs": [],
   "source": [
    "对数据的特征和标签(类型)之间的关联进行建模，用到新观测数据 #有无label\n",
    "如：分类/线性回归"
   ]
  },
  {
   "cell_type": "code",
   "execution_count": null,
   "id": "10c74a15-87b6-4f0f-8326-c23013c862d9",
   "metadata": {},
   "outputs": [],
   "source": [
    "准确率：分类正确样本 / 所有样本\n",
    "召回率：分类正确的正样本 / 所有正样本\n",
    "\n",
    "例子：\n",
    "预测地震希望召回率高（尽量有的都预测到\n",
    "嫌疑人定罪可召回率低（不可错判"
   ]
  },
  {
   "cell_type": "markdown",
   "id": "71541be8-5ce0-46bf-8570-a38da740f9db",
   "metadata": {},
   "source": [
    "### 机器学习过程"
   ]
  },
  {
   "cell_type": "code",
   "execution_count": null,
   "id": "f7f04beb-7e4d-4a79-9375-6bae4f3b23ee",
   "metadata": {},
   "outputs": [],
   "source": [
    "数据预处理    读文件，拼接数据，去空值\n",
    "特征工程      如 特征化0/1\n",
    "数据建模       lr/NB/Dtree\n",
    "结果评估       accuracy_score"
   ]
  }
 ],
 "metadata": {
  "kernelspec": {
   "display_name": "Python 3 (ipykernel)",
   "language": "python",
   "name": "python3"
  },
  "language_info": {
   "codemirror_mode": {
    "name": "ipython",
    "version": 3
   },
   "file_extension": ".py",
   "mimetype": "text/x-python",
   "name": "python",
   "nbconvert_exporter": "python",
   "pygments_lexer": "ipython3",
   "version": "3.8.10"
  }
 },
 "nbformat": 4,
 "nbformat_minor": 5
}
