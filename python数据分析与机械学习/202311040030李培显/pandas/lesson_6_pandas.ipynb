{
 "cells": [
  {
   "cell_type": "markdown",
   "id": "179ae25e-f794-48d8-805e-598906719242",
   "metadata": {},
   "source": [
    "### series"
   ]
  },
  {
   "cell_type": "code",
   "execution_count": 2,
   "id": "1e2a3692-ce88-4a5a-af23-50c9eb078614",
   "metadata": {},
   "outputs": [],
   "source": [
    "import numpy as np\n",
    "import pandas as pd\n",
    "import matplotlib.pyplot as plt"
   ]
  },
  {
   "cell_type": "code",
   "execution_count": 3,
   "id": "c246bd25-2498-496c-be8d-947ad71a966e",
   "metadata": {},
   "outputs": [
    {
     "name": "stdout",
     "output_type": "stream",
     "text": [
      "0    0.25\n",
      "1    0.50\n",
      "2    0.75\n",
      "3    1.00\n",
      "dtype: float64\n",
      "[0.25 0.5  0.75 1.  ] <class 'numpy.ndarray'>\n",
      "RangeIndex(start=0, stop=4, step=1) <class 'pandas.core.indexes.range.RangeIndex'>\n"
     ]
    }
   ],
   "source": [
    "data = pd.Series([0.25, 0.5, 0.75, 1.0])\n",
    "print(data)\n",
    "\n",
    "print(data.values, type(data.values))\n",
    "print(data.index, type(data.index))\n"
   ]
  },
  {
   "cell_type": "markdown",
   "id": "c0237fbb-226f-459c-bc37-905c0db15d4c",
   "metadata": {},
   "source": [
    "### series索引"
   ]
  },
  {
   "cell_type": "code",
   "execution_count": null,
   "id": "3a3e4770-dfbb-4c55-9abe-3235b14b0a2c",
   "metadata": {},
   "outputs": [],
   "source": [
    "# series 索引类似字典，index相当于key"
   ]
  },
  {
   "cell_type": "code",
   "execution_count": 5,
   "id": "d7104f0e-5c9b-41db-9470-3004c5332c6f",
   "metadata": {},
   "outputs": [
    {
     "name": "stdout",
     "output_type": "stream",
     "text": [
      "a    1\n",
      "b    2\n",
      "c    3\n",
      "d    4\n",
      "dtype: int64\n",
      "0    0.041483\n",
      "1    0.477991\n",
      "2    0.253460\n",
      "3    0.524919\n",
      "4    0.008085\n",
      "dtype: float64\n",
      "a    1\n",
      "b    2\n",
      "c    3\n",
      "dtype: int64\n",
      "a    1\n",
      "b    2\n",
      "dtype: int64\n"
     ]
    }
   ],
   "source": [
    "data = pd.Series([1, 2, 3, 4], index = ['a', 'b', 'c', 'd'])\n",
    "print(data)\n",
    "data2 = pd.Series(np.random.rand(5), index = np.arange(5))\n",
    "print(data2)\n",
    "\n",
    "print(data['a':'c']) #data['a':'c']会包含索引为'a'到'c'的所有元素，包括'c'\n",
    "print(data[0:2])"
   ]
  },
  {
   "cell_type": "code",
   "execution_count": null,
   "id": "1a45fa93-7d24-42b2-9487-4310dddcc5d4",
   "metadata": {},
   "outputs": [],
   "source": [
    "# 基于标签的索引（比如Pandas中的DataFrame或Series对象）会包含左右边界的元素"
   ]
  },
  {
   "cell_type": "markdown",
   "id": "58680140-c82b-4f20-b093-7e4783183bcc",
   "metadata": {},
   "source": [
    "## DataFrame"
   ]
  },
  {
   "cell_type": "code",
   "execution_count": 7,
   "id": "3c1c1e73-dc5f-48ef-98ee-7b6d0172e7be",
   "metadata": {},
   "outputs": [
    {
     "name": "stdout",
     "output_type": "stream",
     "text": [
      "california     cf\n",
      "Texas          TX\n",
      "Newyork        ny\n",
      "florida       frd\n",
      "ollinois      oll\n",
      "dtype: object\n",
      "            population area\n",
      "Newyork            3.0   ny\n",
      "Texas              2.0   TX\n",
      "california         1.0   cf\n",
      "florida            4.0  frd\n",
      "ollinois           NaN  oll\n",
      "Index(['Newyork', 'Texas', 'california', 'florida', 'ollinois'], dtype='object')\n",
      "Index(['population', 'area'], dtype='object')\n"
     ]
    }
   ],
   "source": [
    "area_dict = {\"california\":\"cf\", \"Texas\":\"TX\", \"Newyork\":\"ny\", \"florida\":\"frd\", \"ollinois\":\"oll\"}\n",
    "area = pd.Series(area_dict)\n",
    "print(area)\n",
    "\n",
    "population = pd.Series({\"california\":1, \"Texas\":2, \"Newyork\":3, \"florida\":4})\n",
    "state = pd.DataFrame({\"population\":population, \"area\":area}) # 以Series作为新字典的value，得到DataFrame\n",
    "\n",
    "print(state)\n",
    "print(state.index)\n",
    "print(state.columns)"
   ]
  },
  {
   "cell_type": "markdown",
   "id": "984f3c8b-082a-4b65-abe0-381206e46e60",
   "metadata": {},
   "source": [
    "### series DataFrame选择/索引"
   ]
  },
  {
   "cell_type": "code",
   "execution_count": null,
   "id": "38674814-2667-4a44-b2f8-69a986653b33",
   "metadata": {},
   "outputs": [],
   "source": []
  },
  {
   "cell_type": "code",
   "execution_count": 13,
   "id": "838cc9e8-2818-4826-867c-9505decd98b7",
   "metadata": {},
   "outputs": [
    {
     "name": "stdout",
     "output_type": "stream",
     "text": [
      "a    1\n",
      "b    2\n",
      "c    3\n",
      "d    4\n",
      "dtype: int64\n",
      "a    1\n",
      "b    2\n",
      "dtype: int64\n",
      "a    1\n",
      "b    2\n",
      "c    3\n",
      "dtype: int64\n",
      "a    1\n",
      "c    3\n",
      "dtype: int64\n"
     ]
    }
   ],
   "source": [
    "test = pd.Series({\"a\":1, \"b\":2, \"c\":3, \"d\":4})\n",
    "print(test)\n",
    "print(test[0:2]) # 显示索引，左闭右开\n",
    "print(test[\"a\":\"c\"]) # 隐式索引, 左右闭合\n",
    "print(test[[\"a\", \"c\"]]) #花式索引  记得连个[]\n"
   ]
  },
  {
   "cell_type": "markdown",
   "id": "65bfea6f-d786-461a-bd44-09fb7557841d",
   "metadata": {},
   "source": [
    "#### Series的字典性质"
   ]
  },
  {
   "cell_type": "code",
   "execution_count": 18,
   "id": "cd1b3e01-bdb0-432b-91c6-a33accd42440",
   "metadata": {},
   "outputs": [
    {
     "name": "stdout",
     "output_type": "stream",
     "text": [
      "Index(['a', 'b', 'c', 'd'], dtype='object')\n",
      "<zip object at 0x000002D3663CA2C0>\n",
      "[1 2 3 4]\n",
      "Index(['a', 'b', 'c', 'd'], dtype='object')\n"
     ]
    }
   ],
   "source": [
    "print(test.keys())\n",
    "print(test.items())\n",
    "print(test.values)\n",
    "print(test.index)\n"
   ]
  },
  {
   "cell_type": "markdown",
   "id": "455710b7-e385-430e-a51b-b531b21a562b",
   "metadata": {},
   "source": [
    "#### dataframe"
   ]
  },
  {
   "cell_type": "markdown",
   "id": "b943fc16-fa69-483a-907a-5e60f60c7ecb",
   "metadata": {},
   "source": [
    "##### 字典性质"
   ]
  },
  {
   "cell_type": "code",
   "execution_count": null,
   "id": "00b01cda-f593-4c63-82d8-ef468d3e904a",
   "metadata": {},
   "outputs": [],
   "source": []
  },
  {
   "cell_type": "code",
   "execution_count": 27,
   "id": "34b4076c-22d8-4a86-8781-7236e0d84993",
   "metadata": {},
   "outputs": [
    {
     "name": "stdout",
     "output_type": "stream",
     "text": [
      "            population area\n",
      "Newyork            3.0   ny\n",
      "Texas              2.0   TX\n",
      "california         1.0   cf\n",
      "florida            4.0  frd\n",
      "ollinois           NaN  oll\n",
      "state.values\n",
      " [[3.0 'ny']\n",
      " [2.0 'TX']\n",
      " [1.0 'cf']\n",
      " [4.0 'frd']\n",
      " [nan 'oll']]\n",
      "Index(['Newyork', 'Texas', 'california', 'florida', 'ollinois'], dtype='object')\n",
      "2\n",
      "True\n",
      "state[\"area\"]\n",
      " Newyork        ny\n",
      "Texas          TX\n",
      "california     cf\n",
      "florida       frd\n",
      "ollinois      oll\n",
      "Name: area, dtype: object\n",
      "series.values\n",
      " ['ny' 'TX' 'cf' 'frd' 'oll']\n",
      "series.index\n",
      " Index(['Newyork', 'Texas', 'california', 'florida', 'ollinois'], dtype='object')\n",
      "1\n"
     ]
    }
   ],
   "source": [
    "# print(data[\"area\"])\n",
    "# print(data)\n",
    "print(state)\n",
    "print(\"state.values\\n\", state.values) # 返回二维数组\n",
    "print(state.index)\n",
    "print(state.ndim)\n",
    "\n",
    "series = state[\"area\"]\n",
    "print(series is state[\"area\"]) # 同一空间\n",
    "print(\"state[\\\"area\\\"]\\n\", state[\"area\"])\n",
    "print(\"series.values\\n\", series.values)\n",
    "print(\"series.index\\n\", series.index)\n",
    "print(series.ndim)\n"
   ]
  },
  {
   "cell_type": "markdown",
   "id": "954b7b85-6594-4930-8462-bdeee8a76c6b",
   "metadata": {},
   "source": [
    "##### 二维数组性质"
   ]
  },
  {
   "cell_type": "code",
   "execution_count": 33,
   "id": "16a6d16b-614f-4b0c-baab-94c9d93f9239",
   "metadata": {},
   "outputs": [
    {
     "name": "stdout",
     "output_type": "stream",
     "text": [
      "            population area\n",
      "Newyork            3.0   ny\n",
      "Texas              2.0   TX\n",
      "california         1.0   cf\n",
      "florida            4.0  frd\n",
      "ollinois           NaN  oll\n",
      "            population area\n",
      "Newyork            3.0   ny\n",
      "Texas              2.0   TX\n",
      "california         1.0   cf\n",
      "         population\n",
      "Newyork         3.0\n",
      "Texas           2.0\n",
      "         population area\n",
      "Newyork         3.0   ny\n",
      "Texas           2.0   TX\n",
      "           Newyork Texas california florida ollinois\n",
      "population     3.0   2.0        1.0     4.0      NaN\n",
      "area            ny    TX         cf     frd      oll\n"
     ]
    }
   ],
   "source": [
    "print(state)\n",
    "print(state.iloc[:3, :2])\n",
    "print(state.loc[:\"Texas\", :\"florida\"]) # 本质时loc可以接收两个列表 \n",
    "# 两个列表可以是花式（指定的keys），条件判断（条件表达式）  区间（:）\n",
    "print(state[:\"Texas\"][:\"florida\"]) #注意，有无loc时 索引方式不同\n",
    "print(state.T)\n"
   ]
  },
  {
   "cell_type": "code",
   "execution_count": null,
   "id": "f91b4a85-effa-42fc-8961-3529ddb6edc8",
   "metadata": {},
   "outputs": [],
   "source": []
  },
  {
   "cell_type": "markdown",
   "id": "5918a933-2c85-4314-ac45-2a310d4a41ce",
   "metadata": {},
   "source": [
    "## 检测与处理重复 缺失值"
   ]
  },
  {
   "cell_type": "markdown",
   "id": "29f99600-806c-467a-8bc1-8d298e163456",
   "metadata": {},
   "source": [
    "### 删除缺失值"
   ]
  },
  {
   "cell_type": "code",
   "execution_count": 37,
   "id": "6d9fd64c-1b3b-40ef-88af-d627e8198f5f",
   "metadata": {},
   "outputs": [
    {
     "name": "stdout",
     "output_type": "stream",
     "text": [
      "     0    1  2\n",
      "0    a  NaN  2\n",
      "1    2  3.0  5\n",
      "2  NaN  4.0  6\n",
      "     0    1  2\n",
      "0    a  NaN  2\n",
      "1    2  3.0  5\n",
      "2  NaN  4.0  6\n",
      "     0    1  2   3\n",
      "0    a  NaN  2 NaN\n",
      "1    2  3.0  5 NaN\n",
      "2  NaN  4.0  6 NaN\n",
      "     0    1  2\n",
      "0    a  NaN  2\n",
      "1    2  3.0  5\n",
      "2  NaN  4.0  6\n"
     ]
    }
   ],
   "source": [
    "df = pd.DataFrame([[\"a\", np.nan, 2],\n",
    "                  [2, 3, 5],\n",
    "                  [np.nan, 4, 6]])\n",
    "print(df)\n",
    "df.dropna()   # 默认axis = 0 how = any,   对象为所有行  有np.nan就删除\n",
    "print(df)\n",
    "\n",
    "df[3] = np.nan\n",
    "print(df)\n",
    "df = df.dropna(axis = 1, how = \"all\") # 不会改变原始值，而是返回新值\n",
    "print(df)"
   ]
  },
  {
   "cell_type": "markdown",
   "id": "ebe01c74-4e47-4236-8bec-2bdbfec891bd",
   "metadata": {},
   "source": [
    "### 填充缺失值"
   ]
  },
  {
   "cell_type": "code",
   "execution_count": 39,
   "id": "12f53786-517b-46e0-bd74-016a154d1a9a",
   "metadata": {},
   "outputs": [
    {
     "name": "stdout",
     "output_type": "stream",
     "text": [
      "a    1.0\n",
      "b    NaN\n",
      "c    NaN\n",
      "d    2.0\n",
      "e    3.0\n",
      "dtype: float64\n",
      "a    1.0\n",
      "b    1.0\n",
      "c    1.0\n",
      "d    2.0\n",
      "e    3.0\n",
      "dtype: float64\n"
     ]
    }
   ],
   "source": [
    "data = pd.Series([1, np.nan, None, 2, 3], index = list(\"abcde\"))\n",
    "print(data)\n",
    "data.fillna(0)  # 不会改变原有值，只会返回新值\n",
    "data = data.fillna(method = \"ffill\") # 用前值填充\n",
    "print(data)"
   ]
  },
  {
   "cell_type": "markdown",
   "id": "73be7192-69a1-40de-a353-0c7d1c0e332d",
   "metadata": {},
   "source": [
    "### pd.merge() 合并函数"
   ]
  },
  {
   "cell_type": "code",
   "execution_count": null,
   "id": "8b20f3e0-922c-426c-a22f-4b69aa483ea9",
   "metadata": {},
   "outputs": [],
   "source": []
  },
  {
   "cell_type": "code",
   "execution_count": null,
   "id": "4852f98f-6720-46f3-aa83-44e435979db3",
   "metadata": {},
   "outputs": [],
   "source": []
  },
  {
   "cell_type": "code",
   "execution_count": null,
   "id": "1380e2d3-3062-41f5-9218-c14cb4e0eff1",
   "metadata": {},
   "outputs": [],
   "source": []
  },
  {
   "cell_type": "code",
   "execution_count": 10,
   "id": "3f2eeab0-30ff-4338-b4f4-d52a7baabbc0",
   "metadata": {},
   "outputs": [
    {
     "ename": "KeyError",
     "evalue": "'Newyork'",
     "output_type": "error",
     "traceback": [
      "\u001b[1;31m---------------------------------------------------------------------------\u001b[0m",
      "\u001b[1;31mKeyError\u001b[0m                                  Traceback (most recent call last)",
      "File \u001b[1;32mE:\\pycharm\\pyinterpreter\\lib\\site-packages\\pandas\\core\\indexes\\base.py:3653\u001b[0m, in \u001b[0;36mIndex.get_loc\u001b[1;34m(self, key)\u001b[0m\n\u001b[0;32m   3652\u001b[0m \u001b[38;5;28;01mtry\u001b[39;00m:\n\u001b[1;32m-> 3653\u001b[0m     \u001b[38;5;28;01mreturn\u001b[39;00m \u001b[38;5;28;43mself\u001b[39;49m\u001b[38;5;241;43m.\u001b[39;49m\u001b[43m_engine\u001b[49m\u001b[38;5;241;43m.\u001b[39;49m\u001b[43mget_loc\u001b[49m\u001b[43m(\u001b[49m\u001b[43mcasted_key\u001b[49m\u001b[43m)\u001b[49m\n\u001b[0;32m   3654\u001b[0m \u001b[38;5;28;01mexcept\u001b[39;00m \u001b[38;5;167;01mKeyError\u001b[39;00m \u001b[38;5;28;01mas\u001b[39;00m err:\n",
      "File \u001b[1;32mE:\\pycharm\\pyinterpreter\\lib\\site-packages\\pandas\\_libs\\index.pyx:147\u001b[0m, in \u001b[0;36mpandas._libs.index.IndexEngine.get_loc\u001b[1;34m()\u001b[0m\n",
      "File \u001b[1;32mE:\\pycharm\\pyinterpreter\\lib\\site-packages\\pandas\\_libs\\index.pyx:176\u001b[0m, in \u001b[0;36mpandas._libs.index.IndexEngine.get_loc\u001b[1;34m()\u001b[0m\n",
      "File \u001b[1;32mpandas\\_libs\\hashtable_class_helper.pxi:7080\u001b[0m, in \u001b[0;36mpandas._libs.hashtable.PyObjectHashTable.get_item\u001b[1;34m()\u001b[0m\n",
      "File \u001b[1;32mpandas\\_libs\\hashtable_class_helper.pxi:7088\u001b[0m, in \u001b[0;36mpandas._libs.hashtable.PyObjectHashTable.get_item\u001b[1;34m()\u001b[0m\n",
      "\u001b[1;31mKeyError\u001b[0m: 'Newyork'",
      "\nThe above exception was the direct cause of the following exception:\n",
      "\u001b[1;31mKeyError\u001b[0m                                  Traceback (most recent call last)",
      "Cell \u001b[1;32mIn[10], line 2\u001b[0m\n\u001b[0;32m      1\u001b[0m \u001b[38;5;66;03m# print(state[])\u001b[39;00m\n\u001b[1;32m----> 2\u001b[0m \u001b[38;5;28mprint\u001b[39m(\u001b[43mstate\u001b[49m\u001b[43m[\u001b[49m\u001b[38;5;124;43m\"\u001b[39;49m\u001b[38;5;124;43mNewyork\u001b[39;49m\u001b[38;5;124;43m\"\u001b[39;49m\u001b[43m]\u001b[49m)\n\u001b[0;32m      3\u001b[0m \u001b[38;5;66;03m# print(state[\u001b[39;00m\n",
      "File \u001b[1;32mE:\\pycharm\\pyinterpreter\\lib\\site-packages\\pandas\\core\\frame.py:3761\u001b[0m, in \u001b[0;36mDataFrame.__getitem__\u001b[1;34m(self, key)\u001b[0m\n\u001b[0;32m   3759\u001b[0m \u001b[38;5;28;01mif\u001b[39;00m \u001b[38;5;28mself\u001b[39m\u001b[38;5;241m.\u001b[39mcolumns\u001b[38;5;241m.\u001b[39mnlevels \u001b[38;5;241m>\u001b[39m \u001b[38;5;241m1\u001b[39m:\n\u001b[0;32m   3760\u001b[0m     \u001b[38;5;28;01mreturn\u001b[39;00m \u001b[38;5;28mself\u001b[39m\u001b[38;5;241m.\u001b[39m_getitem_multilevel(key)\n\u001b[1;32m-> 3761\u001b[0m indexer \u001b[38;5;241m=\u001b[39m \u001b[38;5;28;43mself\u001b[39;49m\u001b[38;5;241;43m.\u001b[39;49m\u001b[43mcolumns\u001b[49m\u001b[38;5;241;43m.\u001b[39;49m\u001b[43mget_loc\u001b[49m\u001b[43m(\u001b[49m\u001b[43mkey\u001b[49m\u001b[43m)\u001b[49m\n\u001b[0;32m   3762\u001b[0m \u001b[38;5;28;01mif\u001b[39;00m is_integer(indexer):\n\u001b[0;32m   3763\u001b[0m     indexer \u001b[38;5;241m=\u001b[39m [indexer]\n",
      "File \u001b[1;32mE:\\pycharm\\pyinterpreter\\lib\\site-packages\\pandas\\core\\indexes\\base.py:3655\u001b[0m, in \u001b[0;36mIndex.get_loc\u001b[1;34m(self, key)\u001b[0m\n\u001b[0;32m   3653\u001b[0m     \u001b[38;5;28;01mreturn\u001b[39;00m \u001b[38;5;28mself\u001b[39m\u001b[38;5;241m.\u001b[39m_engine\u001b[38;5;241m.\u001b[39mget_loc(casted_key)\n\u001b[0;32m   3654\u001b[0m \u001b[38;5;28;01mexcept\u001b[39;00m \u001b[38;5;167;01mKeyError\u001b[39;00m \u001b[38;5;28;01mas\u001b[39;00m err:\n\u001b[1;32m-> 3655\u001b[0m     \u001b[38;5;28;01mraise\u001b[39;00m \u001b[38;5;167;01mKeyError\u001b[39;00m(key) \u001b[38;5;28;01mfrom\u001b[39;00m \u001b[38;5;21;01merr\u001b[39;00m\n\u001b[0;32m   3656\u001b[0m \u001b[38;5;28;01mexcept\u001b[39;00m \u001b[38;5;167;01mTypeError\u001b[39;00m:\n\u001b[0;32m   3657\u001b[0m     \u001b[38;5;66;03m# If we have a listlike key, _check_indexing_error will raise\u001b[39;00m\n\u001b[0;32m   3658\u001b[0m     \u001b[38;5;66;03m#  InvalidIndexError. Otherwise we fall through and re-raise\u001b[39;00m\n\u001b[0;32m   3659\u001b[0m     \u001b[38;5;66;03m#  the TypeError.\u001b[39;00m\n\u001b[0;32m   3660\u001b[0m     \u001b[38;5;28mself\u001b[39m\u001b[38;5;241m.\u001b[39m_check_indexing_error(key)\n",
      "\u001b[1;31mKeyError\u001b[0m: 'Newyork'"
     ]
    }
   ],
   "source": [
    "# print(state[])\n",
    "print(state[\"Newyork\"])\n",
    "# print(state["
   ]
  },
  {
   "cell_type": "code",
   "execution_count": null,
   "id": "4f6d8b43-b746-41f7-b28f-d1e9a441a506",
   "metadata": {},
   "outputs": [],
   "source": []
  },
  {
   "cell_type": "code",
   "execution_count": null,
   "id": "a5d5ec73-bb1b-484e-bb8e-ac4c0a68620e",
   "metadata": {},
   "outputs": [],
   "source": []
  },
  {
   "cell_type": "code",
   "execution_count": null,
   "id": "1400a013-3130-4fef-86ce-ffb33326db56",
   "metadata": {},
   "outputs": [],
   "source": []
  },
  {
   "cell_type": "code",
   "execution_count": null,
   "id": "a86a257b-3cd5-48cf-a132-4ea54a5ee41e",
   "metadata": {},
   "outputs": [],
   "source": []
  }
 ],
 "metadata": {
  "kernelspec": {
   "display_name": "Python 3 (ipykernel)",
   "language": "python",
   "name": "python3"
  },
  "language_info": {
   "codemirror_mode": {
    "name": "ipython",
    "version": 3
   },
   "file_extension": ".py",
   "mimetype": "text/x-python",
   "name": "python",
   "nbconvert_exporter": "python",
   "pygments_lexer": "ipython3",
   "version": "3.8.10"
  }
 },
 "nbformat": 4,
 "nbformat_minor": 5
}
