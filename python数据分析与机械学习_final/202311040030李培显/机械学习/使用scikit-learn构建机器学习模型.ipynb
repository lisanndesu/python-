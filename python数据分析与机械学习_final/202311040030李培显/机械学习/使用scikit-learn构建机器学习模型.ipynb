{
 "cells": [
  {
   "cell_type": "code",
   "execution_count": null,
   "id": "1bbb74ee-3ea2-47f4-9bd0-85ec63f0299c",
   "metadata": {},
   "outputs": [],
   "source": [
    "## 使用scikit-learn构建机器学习模型"
   ]
  },
  {
   "cell_type": "code",
   "execution_count": null,
   "id": "eaa15d82-22d9-415e-9871-42887c8d3b85",
   "metadata": {},
   "outputs": [],
   "source": [
    "朴素贝叶斯模型是一组快速简单的分类算法，适用于维度高的数据集，速度快、适合快速粗糙方案"
   ]
  },
  {
   "cell_type": "code",
   "execution_count": null,
   "id": "d98653ed-de21-49bf-8037-09a912a6af44",
   "metadata": {},
   "outputs": [],
   "source": [
    "决策数有两大优点：1）决策树模型可以读性好，具有描述性，有助于人工分析；\n",
    "2）效率高，决策树只需要一次构建，反复使用，每一次预测的最大计算次数不超过决策树的深度。"
   ]
  },
  {
   "cell_type": "code",
   "execution_count": null,
   "id": "7f085ffc-ffa1-46d3-9b7a-ca549c7cdd64",
   "metadata": {},
   "outputs": [],
   "source": [
    "支持向量机（Support Vector Machine ,SVM）是一种有监督学习方法，主要思想是建立一个最优决策超平面，\n",
    "使得该平面两侧距离该平面最近的两类样本之间的距离最大化，从而对分类问题提供良好的泛化能力"
   ]
  },
  {
   "cell_type": "code",
   "execution_count": null,
   "id": "b091f281-5e96-462e-a491-29c3aad6250c",
   "metadata": {},
   "outputs": [],
   "source": [
    "聚类问题是无监督学习的问题，算法的思想就是“物以类聚，人以群分”。聚类算法感知样本间的相似度，\n",
    "进行类别归纳，对新的输入进行输出预测，输出变量取有限个离散值。\n",
    "kmeans"
   ]
  }
 ],
 "metadata": {
  "kernelspec": {
   "display_name": "Python 3 (ipykernel)",
   "language": "python",
   "name": "python3"
  },
  "language_info": {
   "codemirror_mode": {
    "name": "ipython",
    "version": 3
   },
   "file_extension": ".py",
   "mimetype": "text/x-python",
   "name": "python",
   "nbconvert_exporter": "python",
   "pygments_lexer": "ipython3",
   "version": "3.8.10"
  }
 },
 "nbformat": 4,
 "nbformat_minor": 5
}
