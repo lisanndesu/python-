{
 "cells": [
  {
   "cell_type": "markdown",
   "metadata": {},
   "source": [
    "## 鸢尾花项目练习\n",
    "\n",
    "![](./image/iris.png)\n",
    "\n",
    "鸢尾花数据集属于有监督数据集，数据包括：花瓣的长度、宽度、花萼的长度、宽度。所有花隶属于setosa、versicolor和virginica三个品种之一。这是一个典型的三分类问题。\n",
    "\n",
    "\n",
    "鸢尾花（iris）数据集是机器学习和统计学中一个经典的数据集。\n",
    "\n",
    "<font color='red'><b>1、导入iris数据集</b></font>"
   ]
  },
  {
   "cell_type": "code",
   "execution_count": null,
   "metadata": {},
   "outputs": [],
   "source": [
    "import numpy as np\n",
    "import math\n",
    "#用pandas读取外部文件\n",
    "import pandas as pd\n",
    "#绘图\n",
    "import matplotlib.pyplot as plt"
   ]
  },
  {
   "cell_type": "markdown",
   "metadata": {},
   "source": [
    "读取鸢尾花数据集，并给每一列数据重新命名"
   ]
  },
  {
   "cell_type": "code",
   "execution_count": null,
   "metadata": {},
   "outputs": [],
   "source": [
    "filename = 'data/iris.csv'\n",
    "#names是给每列数据命名\n",
    "names = ['separ-length','separ-width','petal-length','petal-width','label']\n"
   ]
  },
  {
   "cell_type": "markdown",
   "metadata": {},
   "source": [
    "使用pandas读入csv文件"
   ]
  },
  {
   "cell_type": "code",
   "execution_count": null,
   "metadata": {},
   "outputs": [],
   "source": []
  },
  {
   "cell_type": "markdown",
   "metadata": {},
   "source": [
    "<font color='red'><b>2、探索数据</b></font>\n",
    "\n",
    "数据导入后，我们急需要知道数据的信息。\n",
    "\n",
    "可以从以下几个角度审查数据：\n",
    "\n",
    "（1）查看数据；\n",
    "\n",
    "（2）数据的维度；\n",
    "\n",
    "（3）统计描述所有的数据特征；\n",
    "\n",
    "（4）数据分类的分布情况。\n",
    "\n",
    "\n",
    "<font color='red'><b>2.1 查看数据</b></font>"
   ]
  },
  {
   "cell_type": "code",
   "execution_count": null,
   "metadata": {},
   "outputs": [],
   "source": [
    "#查看数据前五行\n",
    "h1 = dataset.head()\n",
    "#查看数据后五行\n",
    "t1 = dataset.tail(5)"
   ]
  },
  {
   "cell_type": "markdown",
   "metadata": {},
   "source": [
    "将h1和t1按行拼接，并重新设置index"
   ]
  },
  {
   "cell_type": "code",
   "execution_count": null,
   "metadata": {},
   "outputs": [],
   "source": [
    "#将h1和t1按行拼接为变量d1，并重新设置index\n",
    "\n",
    "print(d1, type(d1))"
   ]
  },
  {
   "cell_type": "markdown",
   "metadata": {},
   "source": [
    "<font color='red'><b>2.2 查看数据的维度</b></font>"
   ]
  },
  {
   "cell_type": "code",
   "execution_count": null,
   "metadata": {},
   "outputs": [],
   "source": [
    "#查看数据维度\n",
    "print('数据维度：行 %s,列 %s' % dataset.shape)"
   ]
  },
  {
   "cell_type": "markdown",
   "metadata": {},
   "source": [
    "鸢尾花数据集为一个小数据集。只有150条数据，其中4个特征,花瓣的长度、宽度、花萼的长度、宽度。1个标签。\n",
    "![](./image/iris_feature.jpg)\n",
    "\n",
    "<font color='red'><b>2.3 统计描述数据</b></font>\n",
    "\n",
    "数据特征的统计描述信息包括数据的行数、中位数、最大值、最小值、均值、四分位值等统计数据信息。"
   ]
  },
  {
   "cell_type": "code",
   "execution_count": null,
   "metadata": {},
   "outputs": [],
   "source": [
    "#统计描述数据信息\n",
    "print(dataset.info())\n",
    "print(dataset.describe())"
   ]
  },
  {
   "cell_type": "markdown",
   "metadata": {},
   "source": [
    "查看样本中缺失值"
   ]
  },
  {
   "cell_type": "code",
   "execution_count": null,
   "metadata": {},
   "outputs": [],
   "source": []
  },
  {
   "cell_type": "markdown",
   "metadata": {},
   "source": [
    "\n",
    "<font color='red'><b>2.4 缺失值处理</b></font>"
   ]
  },
  {
   "cell_type": "markdown",
   "metadata": {},
   "source": [
    "第一列特征用该特征平均值填充缺失值"
   ]
  },
  {
   "cell_type": "code",
   "execution_count": null,
   "metadata": {},
   "outputs": [],
   "source": []
  },
  {
   "cell_type": "markdown",
   "metadata": {},
   "source": [
    "其他列特征用前向填充，填充缺失值"
   ]
  },
  {
   "cell_type": "code",
   "execution_count": null,
   "metadata": {},
   "outputs": [],
   "source": []
  },
  {
   "cell_type": "markdown",
   "metadata": {},
   "source": [
    "<font color='red'><b>2.5 数据分类分布</b></font>\n",
    "\n",
    "查看label数据的分布情况，得到的是数据的绝对数值，从数据可以看出数据分布是否均衡。"
   ]
  },
  {
   "cell_type": "code",
   "execution_count": null,
   "metadata": {},
   "outputs": [],
   "source": [
    "#分类分布情况\n",
    "print(dataset.groupby('label').size())\n",
    "# print(dataset['label'].value_counts())"
   ]
  },
  {
   "cell_type": "markdown",
   "metadata": {},
   "source": [
    "鸢尾花数据集分布是很平衡的，不需要特殊处理。如果数据分布不平衡时，需要进行处理，常用的调整数据平衡的方法：\n",
    "\n",
    "* 扩大数据样本；\n",
    "* 数据的重新抽样；\n",
    "* 当数据超过一万条时，可以考虑测试欠采样（删除多数类样本），当数据量比较少时可以考虑过采样（复制少数类样本）；\n",
    "* 尝试生成人工样本；\n",
    "* 异常检测和变化检测。\n",
    "\n",
    "\n",
    "<font color='red'><b>2.6 离散特征数值化</b></font>"
   ]
  },
  {
   "cell_type": "markdown",
   "metadata": {},
   "source": [
    "将样本中的标签，\"label\"转为数值特征"
   ]
  },
  {
   "cell_type": "code",
   "execution_count": null,
   "metadata": {},
   "outputs": [],
   "source": []
  },
  {
   "cell_type": "code",
   "execution_count": null,
   "metadata": {},
   "outputs": [],
   "source": [
    "#查看转换后的类别分布\n",
    "print(dataset['label'].value_counts())"
   ]
  },
  {
   "cell_type": "markdown",
   "metadata": {},
   "source": [
    "<font color='red'><b>3、数据可视化</b></font>\n",
    "\n",
    "经过第2步数据审查后，对数据有了一个基本的了解，接下来用更直观的图标来进一步查看数据特征的分布情况。\n",
    "\n",
    "使用单变量图表可以更好地理解每一个特征属性；\n",
    "多变量图表用于理解不同特征属性之间的关系。"
   ]
  },
  {
   "cell_type": "markdown",
   "metadata": {},
   "source": [
    "<font color='red'><b>3.1 单变量图表</b></font>\n",
    "\n",
    "单变量图表可以显示每一个单独的特征属性，由于特征值都是数字，可以使用箱线图来表示属性与中位值的离散速度。"
   ]
  },
  {
   "cell_type": "code",
   "execution_count": null,
   "metadata": {},
   "outputs": [],
   "source": [
    "import numpy as np\n",
    "\n",
    "\n",
    "#箱线图\n",
    "dataset.iloc[:, 0:4].plot(kind='box',subplots=True,layout=(2,2),sharex=False,sharey=False)\n",
    "plt.show()\n",
    "\n",
    "\n",
    "#直方图\n",
    "dataset.iloc[:, 0:4].hist()\n",
    "plt.show()"
   ]
  },
  {
   "cell_type": "markdown",
   "metadata": {},
   "source": [
    "从直方图可以看出，separ-length和separ-width基本符合高斯分布。\n",
    "\n",
    "\n",
    "<font color='red'><b>3.2 多变量图表</b></font>\n",
    "\n",
    "可以通过散点矩阵图来查看每个属性之间的关系。"
   ]
  },
  {
   "cell_type": "code",
   "execution_count": null,
   "metadata": {},
   "outputs": [],
   "source": [
    "from pandas.plotting import scatter_matrix\n",
    "#散点矩阵图\n",
    "scatter_matrix(dataset)\n",
    "plt.show()"
   ]
  },
  {
   "cell_type": "markdown",
   "metadata": {},
   "source": [
    "从多变量图大概能看出特征量之间的关系。\n",
    "\n",
    "\n",
    "<font color='red'><b>4、评估算法</b></font>\n",
    "\n",
    "将数据集代入各种算法训练，找出最合适的算法。\n",
    "\n",
    "步骤如下：\n",
    "\n",
    "（1）分离训练集；\n",
    "\n",
    "（2）采用10折交叉验证来评估算法模型；\n",
    "\n",
    "（3）生成6个不同的模型来预测新数据；\n",
    "\n",
    "（4）选择最优模型。\n",
    "\n",
    "\n",
    "<font color='red'><b>4.1 分离训练集</b></font>\n",
    "\n",
    "一般分出数据集的80%作为训练集，剩下的20%用来作为测试集。"
   ]
  },
  {
   "cell_type": "code",
   "execution_count": null,
   "metadata": {},
   "outputs": [],
   "source": [
    "#sklearn分类需要的类\n",
    "from sklearn.model_selection import train_test_split\n",
    "from sklearn.model_selection import KFold\n",
    "\n",
    "#打分\n",
    "from sklearn.metrics import accuracy_score\n",
    "\n",
    "#分出训练集\n",
    "array=dataset.values\n",
    "validation_size=0.2\n",
    "random_seed=7"
   ]
  },
  {
   "cell_type": "markdown",
   "metadata": {},
   "source": [
    "划分训练集和测试集"
   ]
  },
  {
   "cell_type": "code",
   "execution_count": null,
   "metadata": {},
   "outputs": [],
   "source": []
  },
  {
   "cell_type": "markdown",
   "metadata": {},
   "source": [
    "鸢尾花总数150个，训练集120个，测试集30个。分离成功。\n",
    "\n",
    "\n",
    "<font color='red'><b>4.2 评估模型</b></font>\n",
    "\n",
    "用10折交叉验证来分离训练数据集，评估算法的准确度。10折交叉验证是随机地将数据分成10份：9份用来训练模型，1份用来评估算法。\n",
    "\n",
    "\n",
    "<font color='red'><b>4.3 创建模型</b></font>\n",
    "\n",
    "根据散点图可以看出，有些数据符合线性分许，所以可以用线性模型来评估。\n"
   ]
  },
  {
   "cell_type": "code",
   "execution_count": null,
   "metadata": {},
   "outputs": [],
   "source": [
    "#逻辑回归算法\n",
    "from sklearn.linear_model import LogisticRegression\n",
    "#交叉验证\n",
    "from sklearn.model_selection import cross_val_score\n",
    "#决策树\n",
    "from sklearn.tree import DecisionTreeClassifier\n",
    "#K近邻算法\n",
    "from sklearn.neighbors import KNeighborsClassifier\n",
    "#K-Means\n",
    "from sklearn.cluster import KMeans\n",
    "#贝叶斯\n",
    "from sklearn.naive_bayes import GaussianNB\n",
    "#支持向量机SVM\n",
    "from sklearn.svm import SVC\n"
   ]
  },
  {
   "cell_type": "markdown",
   "metadata": {},
   "source": [
    "用以下四种算法构建训练模型，并进行训练：\n",
    "\n",
    "线性回归（LR）；\n",
    "决策树（DTree）；\n",
    "贝叶斯分类器（NB）；\n",
    "支持向量机（SVM）。\n",
    "其中，LR为线性算法，剩下的都为非线性算法。"
   ]
  },
  {
   "cell_type": "code",
   "execution_count": null,
   "metadata": {},
   "outputs": [],
   "source": []
  },
  {
   "cell_type": "markdown",
   "metadata": {},
   "source": [
    "\n",
    "<font color='red'><b>5、模型预测</b></font>\n",
    "\n",
    "请给出结论，哪个模型的效果最好"
   ]
  },
  {
   "cell_type": "markdown",
   "metadata": {},
   "source": []
  },
  {
   "cell_type": "markdown",
   "metadata": {},
   "source": [
    "选择效果最高的两个模型，并绘制分类效果图（图表类型可自行选择）\n",
    "> 模型1"
   ]
  },
  {
   "cell_type": "code",
   "execution_count": null,
   "metadata": {},
   "outputs": [],
   "source": []
  },
  {
   "cell_type": "markdown",
   "metadata": {},
   "source": [
    "> 模型2"
   ]
  },
  {
   "cell_type": "code",
   "execution_count": null,
   "metadata": {},
   "outputs": [],
   "source": []
  }
 ],
 "metadata": {
  "kernelspec": {
   "display_name": "Python 3 (ipykernel)",
   "language": "python",
   "name": "python3"
  },
  "language_info": {
   "codemirror_mode": {
    "name": "ipython",
    "version": 3
   },
   "file_extension": ".py",
   "mimetype": "text/x-python",
   "name": "python",
   "nbconvert_exporter": "python",
   "pygments_lexer": "ipython3",
   "version": "3.8.10"
  }
 },
 "nbformat": 4,
 "nbformat_minor": 4
}
