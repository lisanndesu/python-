{
 "cells": [
  {
   "cell_type": "code",
   "execution_count": null,
   "metadata": {},
   "outputs": [],
   "source": [
    "pd 多维数据表 = np 多维数组 + 描述\n",
    "\n",
    "其中\n",
    "\n",
    "Series = 1darray + index\n",
    "DataFrame = 2darray + index + columns"
   ]
  },
  {
   "cell_type": "code",
   "execution_count": 3,
   "metadata": {},
   "outputs": [],
   "source": [
    "import pandas as pd\n",
    "import numpy as np"
   ]
  },
  {
   "cell_type": "code",
   "execution_count": null,
   "metadata": {},
   "outputs": [],
   "source": [
    "DataFrame 可理解成是 Series 的容器，每一列都是一个 Series，或者 Series 是只有一列的 DataFrame。"
   ]
  },
  {
   "cell_type": "markdown",
   "metadata": {},
   "source": [
    "### seris创建"
   ]
  },
  {
   "cell_type": "code",
   "execution_count": 4,
   "metadata": {},
   "outputs": [
    {
     "name": "stdout",
     "output_type": "stream",
     "text": [
      "100    a\n",
      "101    b\n",
      "102    c\n",
      "103    d\n",
      "dtype: object\n"
     ]
    }
   ],
   "source": [
    "data = np.array(['a','b','c','d'])\n",
    "#自定义索引标签（即显示索引）\n",
    "s = pd.Series(data,index=[100,101,102,103])\n",
    "print(s)"
   ]
  },
  {
   "cell_type": "markdown",
   "metadata": {},
   "source": [
    "### 1.2 创建二维数据表结构DataFrame"
   ]
  },
  {
   "cell_type": "code",
   "execution_count": 5,
   "metadata": {},
   "outputs": [
    {
     "name": "stdout",
     "output_type": "stream",
     "text": [
      "   0\n",
      "0  1\n",
      "1  2\n",
      "2  3\n",
      "3  4\n",
      "4  5\n"
     ]
    }
   ],
   "source": [
    "data = [1,2,3,4,5]\n",
    "df = pd.DataFrame(data)\n",
    "print(df)"
   ]
  },
  {
   "cell_type": "code",
   "execution_count": 6,
   "metadata": {},
   "outputs": [
    {
     "name": "stdout",
     "output_type": "stream",
     "text": [
      "     Name  Age\n",
      "0    Alex   10\n",
      "1     Bob   12\n",
      "2  Clarke   13\n"
     ]
    }
   ],
   "source": [
    "data = [['Alex',10],['Bob',12],['Clarke',13]]\n",
    "df = pd.DataFrame(data,columns=['Name','Age'])\n",
    "print(df)"
   ]
  },
  {
   "cell_type": "code",
   "execution_count": 7,
   "metadata": {},
   "outputs": [
    {
     "name": "stdout",
     "output_type": "stream",
     "text": [
      "    Name  Age\n",
      "0    Tom   28\n",
      "1   Jack   34\n",
      "2  Steve   29\n",
      "3  Ricky   42\n"
     ]
    }
   ],
   "source": [
    "data = {'Name':['Tom', 'Jack', 'Steve', 'Ricky'],'Age':[28,34,29,42]}\n",
    "df = pd.DataFrame(data)\n",
    "print(df)"
   ]
  },
  {
   "cell_type": "code",
   "execution_count": 8,
   "metadata": {},
   "outputs": [
    {
     "name": "stdout",
     "output_type": "stream",
     "text": [
      "        Name  Age\n",
      "rank1    Tom   28\n",
      "rank2   Jack   34\n",
      "rank3  Steve   29\n",
      "rank4  Ricky   42\n"
     ]
    }
   ],
   "source": [
    "data = {'Name':['Tom', 'Jack', 'Steve', 'Ricky'],'Age':[28,34,29,42]}\n",
    "df = pd.DataFrame(data, index=['rank1','rank2','rank3','rank4'])\n",
    "print(df)"
   ]
  },
  {
   "cell_type": "code",
   "execution_count": 9,
   "metadata": {},
   "outputs": [
    {
     "name": "stdout",
     "output_type": "stream",
     "text": [
      "   a   b     c\n",
      "0  1   2   NaN\n",
      "1  5  10  20.0\n"
     ]
    }
   ],
   "source": [
    "data = [{'a': 1, 'b': 2},{'a': 5, 'b': 10, 'c': 20}]\n",
    "df = pd.DataFrame(data)\n",
    "print(df)"
   ]
  },
  {
   "cell_type": "code",
   "execution_count": 10,
   "metadata": {},
   "outputs": [
    {
     "name": "stdout",
     "output_type": "stream",
     "text": [
      "        a   b\n",
      "first   1   2\n",
      "second  5  10\n",
      "        a  b1\n",
      "first   1 NaN\n",
      "second  5 NaN\n"
     ]
    }
   ],
   "source": [
    "data = [{'a': 1, 'b': 2},{'a': 5, 'b': 10, 'c': 20}]\n",
    "df1 = pd.DataFrame(data, index=['first', 'second'], columns=['a', 'b'])\n",
    "df2 = pd.DataFrame(data, index=['first', 'second'], columns=['a', 'b1'])\n",
    "print(df1)\n",
    "print(df2)"
   ]
  },
  {
   "cell_type": "code",
   "execution_count": 11,
   "metadata": {},
   "outputs": [
    {
     "name": "stdout",
     "output_type": "stream",
     "text": [
      "   one  two\n",
      "a  1.0    1\n",
      "b  2.0    2\n",
      "c  3.0    3\n",
      "d  NaN    4\n"
     ]
    }
   ],
   "source": [
    "d = {'one' : pd.Series([1, 2, 3], index=['a', 'b', 'c']),\n",
    "   'two' : pd.Series([1, 2, 3, 4], index=['a', 'b', 'c', 'd'])}\n",
    "df = pd.DataFrame(d)\n",
    "print(df)"
   ]
  },
  {
   "cell_type": "code",
   "execution_count": 14,
   "metadata": {},
   "outputs": [],
   "source": [
    "data = {'Name': ['Jack', 'Lida', 'John', 'Helen'], 'Age': [28, 32, 43, 38], 'City': ['Beijing', 'Shanghai', 'Shenzhen', 'Hengshui'],\n",
    "        'Salary': [22000, 19000, 12000, 3500]} \n",
    "df = pd.DataFrame(data)\n",
    "df.index.names = ['ID']\n",
    "df.to_csv('./data/person.csv', index=True)"
   ]
  },
  {
   "cell_type": "code",
   "execution_count": 15,
   "metadata": {},
   "outputs": [
    {
     "name": "stdout",
     "output_type": "stream",
     "text": [
      "ID         int64\n",
      "Name      object\n",
      "Age        int64\n",
      "City      object\n",
      "Salary     int64\n",
      "dtype: object\n",
      "   ID   Name  Age      City  Salary\n",
      "0   0   Jack   28   Beijing   22000\n",
      "1   1   Lida   32  Shanghai   19000\n",
      "2   2   John   43  Shenzhen   12000\n",
      "3   3  Helen   38  Hengshui    3500\n"
     ]
    }
   ],
   "source": [
    "df=pd.read_csv(\"./data/person.csv\")\n",
    "print(df.dtypes)\n",
    "print (df)"
   ]
  },
  {
   "cell_type": "markdown",
   "metadata": {},
   "source": [
    "### 操作整个数组"
   ]
  },
  {
   "cell_type": "code",
   "execution_count": 16,
   "metadata": {},
   "outputs": [
    {
     "name": "stdout",
     "output_type": "stream",
     "text": [
      "         c1        c2        c3\n",
      "0  0.504342 -2.443310 -1.720794\n",
      "1 -0.744577 -0.821318 -0.458652\n",
      "2  0.557769  0.820833  0.029194\n",
      "3 -0.609370 -0.519713  0.584975\n",
      "         c1        c2        c3\n",
      "0  3.504342  0.556690  1.279206\n",
      "1  2.255423  2.178682  2.541348\n",
      "2  3.557769  3.820833  3.029194\n",
      "3  2.390630  2.480287  3.584975\n"
     ]
    }
   ],
   "source": [
    "import pandas as pd\n",
    "import numpy as np\n",
    "#自定义函数\n",
    "def adder(ele1,ele2):\n",
    "   return ele1+ele2\n",
    "#操作DataFrame\n",
    "df = pd.DataFrame(np.random.randn(4,3),columns=['c1','c2','c3'])\n",
    "#相加前\n",
    "print(df)\n",
    "#相加后\n",
    "print(df.pipe(adder,3))"
   ]
  },
  {
   "cell_type": "code",
   "execution_count": 17,
   "metadata": {},
   "outputs": [
    {
     "name": "stdout",
     "output_type": "stream",
     "text": [
      "col1   -0.017633\n",
      "col2    0.353416\n",
      "col3    0.290062\n",
      "dtype: float64\n",
      "0   -0.406629\n",
      "1    1.106629\n",
      "2    0.014299\n",
      "3   -0.079313\n",
      "4    0.408090\n",
      "dtype: float64\n",
      "col1    0.986418\n",
      "col2    3.200248\n",
      "col3    3.179408\n",
      "dtype: float64\n"
     ]
    }
   ],
   "source": [
    "df = pd.DataFrame(np.random.randn(5,3),columns=['col1','col2','col3'])\n",
    "df.apply(np.mean)\n",
    "# 默认按列操作，计算每一列均值\n",
    "print(df.apply(np.mean))\n",
    "# 传递轴参 axis=1， 表示逐行进行操作，示例如下：\n",
    "print (df.apply(np.mean,axis=1))\n",
    "# 求每一列中，最大值与最小值之差。示例如下：\n",
    "print(df.apply(lambda x: x.max() - x.min()))"
   ]
  },
  {
   "cell_type": "code",
   "execution_count": 18,
   "metadata": {},
   "outputs": [
    {
     "name": "stdout",
     "output_type": "stream",
     "text": [
      "0   -148.486560\n",
      "1   -127.579825\n",
      "2      4.500568\n",
      "3    -76.659328\n",
      "4    -12.616733\n",
      "Name: col1, dtype: float64\n"
     ]
    }
   ],
   "source": [
    "df = pd.DataFrame(np.random.randn(5,3),columns=['col1','col2','col3'])\n",
    "#自定义函数lambda函数\n",
    "print(df['col1'].map(lambda x:x*100))"
   ]
  },
  {
   "cell_type": "markdown",
   "metadata": {},
   "source": [
    "## 5. 数据表的遍历与排序"
   ]
  },
  {
   "cell_type": "code",
   "execution_count": 19,
   "metadata": {},
   "outputs": [
    {
     "name": "stdout",
     "output_type": "stream",
     "text": [
      "            A     x         y       C           D\n",
      "0  2016-01-01   0.0  0.991648  Medium   96.214069\n",
      "1  2016-01-02   1.0  0.402222  Medium   88.166062\n",
      "2  2016-01-03   2.0  0.521628  Medium  100.585595\n",
      "3  2016-01-04   3.0  0.793782  Medium   95.902297\n",
      "4  2016-01-05   4.0  0.202134  Medium  112.048606\n",
      "5  2016-01-06   5.0  0.998944    High   96.312252\n",
      "6  2016-01-07   6.0  0.555722  Medium  106.874340\n",
      "7  2016-01-08   7.0  0.621604    High  125.620048\n",
      "8  2016-01-09   8.0  0.292432     Low  107.523976\n",
      "9  2016-01-10   9.0  0.641441     Low  113.738827\n",
      "10 2016-01-11  10.0  0.939479     Low  114.670259\n",
      "11 2016-01-12  11.0  0.434525     Low   93.126967\n",
      "12 2016-01-13  12.0  0.979398  Medium  100.308679\n",
      "13 2016-01-14  13.0  0.845465  Medium   94.795358\n",
      "14 2016-01-15  14.0  0.920763  Medium   89.827510\n",
      "15 2016-01-16  15.0  0.647385  Medium   97.926192\n",
      "16 2016-01-17  16.0  0.752215  Medium   89.778852\n",
      "17 2016-01-18  17.0  0.818407     Low  113.920861\n",
      "18 2016-01-19  18.0  0.131485    High   96.731964\n",
      "19 2016-01-20  19.0  0.803927     Low   94.300348\n",
      "A\n",
      "x\n",
      "y\n",
      "C\n",
      "D\n"
     ]
    }
   ],
   "source": [
    "import pandas as pd\n",
    "import numpy as np\n",
    "N=20\n",
    "df = pd.DataFrame({\n",
    "   'A': pd.date_range(start='2016-01-01',periods=N,freq='D'),\n",
    "   'x': np.linspace(0,stop=N-1,num=N),\n",
    "   'y': np.random.rand(N),\n",
    "   'C': np.random.choice(['Low','Medium','High'],N).tolist(),\n",
    "   'D': np.random.normal(100, 10, size=(N)).tolist()\n",
    "   })\n",
    "print(df)\n",
    "for col in df:# 只能拿到cols\n",
    "   print (col)"
   ]
  },
  {
   "cell_type": "markdown",
   "metadata": {},
   "source": [
    "### items默认按列便利"
   ]
  },
  {
   "cell_type": "code",
   "execution_count": 20,
   "metadata": {},
   "outputs": [
    {
     "name": "stdout",
     "output_type": "stream",
     "text": [
      "       col1      col2      col3\n",
      "0 -0.157844  0.790661 -0.026089\n",
      "1 -0.528686  1.251396 -1.504709\n",
      "2  0.825822  1.477662  1.398360\n",
      "3 -0.371103 -0.063517 -0.125706\n",
      "col1 0   -0.157844\n",
      "1   -0.528686\n",
      "2    0.825822\n",
      "3   -0.371103\n",
      "Name: col1, dtype: float64\n",
      "col2 0    0.790661\n",
      "1    1.251396\n",
      "2    1.477662\n",
      "3   -0.063517\n",
      "Name: col2, dtype: float64\n",
      "col3 0   -0.026089\n",
      "1   -1.504709\n",
      "2    1.398360\n",
      "3   -0.125706\n",
      "Name: col3, dtype: float64\n"
     ]
    }
   ],
   "source": [
    "df = pd.DataFrame(np.random.randn(4,3),columns=['col1','col2','col3'])\n",
    "print(df)\n",
    "for key,value in df.items():\n",
    "   print (key,value)"
   ]
  },
  {
   "cell_type": "markdown",
   "metadata": {},
   "source": [
    "### iterrowa按行便利"
   ]
  },
  {
   "cell_type": "code",
   "execution_count": 21,
   "metadata": {},
   "outputs": [
    {
     "name": "stdout",
     "output_type": "stream",
     "text": [
      "       col1      col2      col3\n",
      "0 -1.808912  0.984883 -0.735242\n",
      "1 -0.921144 -0.562938 -0.665658\n",
      "2  0.647128 -0.469045  0.252708\n",
      "0 col1   -1.808912\n",
      "col2    0.984883\n",
      "col3   -0.735242\n",
      "Name: 0, dtype: float64\n",
      "1 col1   -0.921144\n",
      "col2   -0.562938\n",
      "col3   -0.665658\n",
      "Name: 1, dtype: float64\n",
      "2 col1    0.647128\n",
      "col2   -0.469045\n",
      "col3    0.252708\n",
      "Name: 2, dtype: float64\n"
     ]
    }
   ],
   "source": [
    "df = pd.DataFrame(np.random.randn(3,3),columns = ['col1','col2','col3'])\n",
    "print(df)\n",
    "for row_index,row in df.iterrows():\n",
    "    print (row_index,row)"
   ]
  },
  {
   "cell_type": "markdown",
   "metadata": {},
   "source": [
    "### 5.2 DataFrame的排序"
   ]
  },
  {
   "cell_type": "code",
   "execution_count": 26,
   "metadata": {},
   "outputs": [
    {
     "name": "stdout",
     "output_type": "stream",
     "text": [
      "       col2      col1\n",
      "1 -1.568348  0.119104\n",
      "6 -1.620628 -1.105766\n",
      "4 -0.557338 -0.981230\n",
      "2  1.216544 -0.629836\n",
      "3 -0.951659  0.809899\n",
      "5 -0.875236 -0.930715\n",
      "9 -0.006118  0.888033\n",
      "8  0.482597 -0.991638\n",
      "0  0.355964  0.586834\n",
      "7 -0.206282  1.511877\n"
     ]
    }
   ],
   "source": [
    "import pandas as pd\n",
    "import numpy as np\n",
    "#行标签乱序排列，列标签乱序排列\n",
    "unsorted_df=pd.DataFrame(np.random.randn(10,2),index=[1,6,4,2,3,5,9,8,0,7],columns=['col2','col1'])\n",
    "print(unsorted_df)\n"
   ]
  },
  {
   "cell_type": "code",
   "execution_count": 27,
   "metadata": {},
   "outputs": [
    {
     "name": "stdout",
     "output_type": "stream",
     "text": [
      "       col2      col1\n",
      "0  0.355964  0.586834\n",
      "1 -1.568348  0.119104\n",
      "2  1.216544 -0.629836\n",
      "3 -0.951659  0.809899\n",
      "4 -0.557338 -0.981230\n",
      "5 -0.875236 -0.930715\n",
      "6 -1.620628 -1.105766\n",
      "7 -0.206282  1.511877\n",
      "8  0.482597 -0.991638\n",
      "9 -0.006118  0.888033\n"
     ]
    }
   ],
   "source": [
    "sorted_df=unsorted_df.sort_index()\n",
    "print(sorted_df)"
   ]
  },
  {
   "cell_type": "markdown",
   "metadata": {},
   "source": [
    "### 按照值排序"
   ]
  },
  {
   "cell_type": "code",
   "execution_count": 28,
   "metadata": {},
   "outputs": [
    {
     "name": "stdout",
     "output_type": "stream",
     "text": [
      "   col1  col2\n",
      "1     1     3\n",
      "2     1     2\n",
      "3     1     4\n",
      "0     2     1\n"
     ]
    }
   ],
   "source": [
    "unsorted_df = pd.DataFrame({'col1':[2,1,1,1],'col2':[1,3,2,4]})\n",
    "sorted_df = unsorted_df.sort_values(by='col1')\n",
    "print (sorted_df)"
   ]
  },
  {
   "cell_type": "markdown",
   "metadata": {},
   "source": [
    "## 6. 缺失值处理及去重"
   ]
  },
  {
   "cell_type": "code",
   "execution_count": 29,
   "metadata": {},
   "outputs": [
    {
     "name": "stdout",
     "output_type": "stream",
     "text": [
      "        one       two     three\n",
      "a -1.117065  0.160309 -0.099218\n",
      "b       NaN       NaN       NaN\n",
      "c  1.646441  0.578028  0.040770\n",
      "d       NaN       NaN       NaN\n",
      "e -0.958161 -2.354585 -0.289931\n",
      "f  0.069457 -1.371819  1.268439\n",
      "g       NaN       NaN       NaN\n",
      "h -0.206200  0.999831  0.957831\n"
     ]
    }
   ],
   "source": [
    "import pandas as pd\n",
    "import numpy as np\n",
    "df = pd.DataFrame(np.random.randn(5, 3), index=['a', 'c', 'e', 'f','h'], columns=['one', 'two', 'three'])\n",
    "df = df.reindex(['a', 'b', 'c', 'd', 'e', 'f', 'g', 'h'])\n",
    "print(df)"
   ]
  },
  {
   "cell_type": "markdown",
   "metadata": {},
   "source": [
    "### 检测缺失值"
   ]
  },
  {
   "cell_type": "code",
   "execution_count": 31,
   "metadata": {},
   "outputs": [
    {
     "name": "stdout",
     "output_type": "stream",
     "text": [
      "a     True\n",
      "b    False\n",
      "c     True\n",
      "d    False\n",
      "e     True\n",
      "f     True\n",
      "g    False\n",
      "h     True\n",
      "Name: one, dtype: bool\n"
     ]
    }
   ],
   "source": [
    "print(df['one'].notnull())"
   ]
  },
  {
   "cell_type": "markdown",
   "metadata": {},
   "source": [
    "### 向前填充&向后填充、"
   ]
  },
  {
   "cell_type": "code",
   "execution_count": 32,
   "metadata": {},
   "outputs": [
    {
     "name": "stdout",
     "output_type": "stream",
     "text": [
      "        one       two     three\n",
      "a -0.862096 -0.925845  0.140661\n",
      "b       NaN       NaN       NaN\n",
      "c -1.113496 -0.541945  0.173065\n",
      "d       NaN       NaN       NaN\n",
      "e -0.465042  0.161883  1.234518\n",
      "f  1.018986 -0.422773 -0.747841\n",
      "g       NaN       NaN       NaN\n",
      "h  0.320255 -0.539217  0.108263\n",
      "        one       two     three\n",
      "a -0.862096 -0.925845  0.140661\n",
      "b -1.113496 -0.541945  0.173065\n",
      "c -1.113496 -0.541945  0.173065\n",
      "d -0.465042  0.161883  1.234518\n",
      "e -0.465042  0.161883  1.234518\n",
      "f  1.018986 -0.422773 -0.747841\n",
      "g  0.320255 -0.539217  0.108263\n",
      "h  0.320255 -0.539217  0.108263\n"
     ]
    }
   ],
   "source": [
    "df = pd.DataFrame(np.random.randn(5, 3), index=['a', 'c', 'e', 'f','h'],columns=['one', 'two', 'three'])\n",
    "df = df.reindex(['a', 'b', 'c', 'd', 'e', 'f', 'g', 'h'])\n",
    "print(df)\n",
    "print(df.fillna(method='bfill'))"
   ]
  },
  {
   "cell_type": "markdown",
   "metadata": {},
   "source": [
    "### replace"
   ]
  },
  {
   "cell_type": "code",
   "execution_count": 33,
   "metadata": {},
   "outputs": [
    {
     "name": "stdout",
     "output_type": "stream",
     "text": [
      "   one  two\n",
      "0   10   10\n",
      "1   20   20\n",
      "2   30   30\n",
      "3   40   40\n",
      "4   50   50\n",
      "5   60   60\n"
     ]
    }
   ],
   "source": [
    "df = pd.DataFrame({'one':[10,20,30,40,50,666], 'two':[99,0,30,40,50,60]})\n",
    "#使用replace()方法\n",
    "print (df.replace({99:10,666:60,0:20}))"
   ]
  },
  {
   "cell_type": "code",
   "execution_count": 34,
   "metadata": {},
   "outputs": [
    {
     "name": "stdout",
     "output_type": "stream",
     "text": [
      "        one       two     three\n",
      "a -0.506914  0.101204 -0.829288\n",
      "b       NaN       NaN       NaN\n",
      "c -0.033912  1.645729  0.190106\n",
      "d       NaN       NaN       NaN\n",
      "e  0.864203  1.496110  0.058129\n",
      "f -0.893304 -1.214676 -0.637988\n",
      "g       NaN       NaN       NaN\n",
      "h -0.413379  1.159656  0.155591\n",
      "        one       two     three\n",
      "a -0.506914  0.101204 -0.829288\n",
      "c -0.033912  1.645729  0.190106\n",
      "e  0.864203  1.496110  0.058129\n",
      "f -0.893304 -1.214676 -0.637988\n",
      "h -0.413379  1.159656  0.155591\n"
     ]
    }
   ],
   "source": [
    "df = pd.DataFrame(np.random.randn(5, 3), index=['a', 'c', 'e', 'f','h'],columns=['one', 'two', 'three'])\n",
    "df = df.reindex(['a', 'b', 'c', 'd', 'e', 'f', 'g', 'h'])\n",
    "print(df)\n",
    "#删除缺失值\n",
    "print (df.dropna(axis = 0))"
   ]
  },
  {
   "cell_type": "markdown",
   "metadata": {},
   "source": [
    "## 7. 数据表的合并与连接"
   ]
  },
  {
   "cell_type": "code",
   "execution_count": 35,
   "metadata": {},
   "outputs": [
    {
     "name": "stdout",
     "output_type": "stream",
     "text": [
      "   id    Name subject_id\n",
      "0   1   Smith       sub1\n",
      "1   2   Maiki       sub2\n",
      "2   3  Hunter       sub4\n",
      "3   4   Hilen       sub6\n",
      "   id     Name subject_id\n",
      "0   1  William       sub2\n",
      "1   2   Albert       sub4\n",
      "2   3     Tony       sub3\n",
      "3   4    Allen       sub6\n"
     ]
    }
   ],
   "source": [
    "import pandas as pd \n",
    "left = pd.DataFrame({ \n",
    "   'id':[1,2,3,4], \n",
    "   'Name': ['Smith', 'Maiki', 'Hunter', 'Hilen'], \n",
    "   'subject_id':['sub1','sub2','sub4','sub6']}) \n",
    "right = pd.DataFrame({ \n",
    "    'id':[1,2,3,4], \n",
    "   'Name': ['William', 'Albert', 'Tony', 'Allen'], \n",
    "   'subject_id':['sub2','sub4','sub3','sub6']}) \n",
    "print (left) \n",
    "print (right)  "
   ]
  },
  {
   "cell_type": "code",
   "execution_count": 36,
   "metadata": {},
   "outputs": [
    {
     "name": "stdout",
     "output_type": "stream",
     "text": [
      "   id    Name subject_id\n",
      "0   1   Smith       sub1\n",
      "1   2   Maiki       sub2\n",
      "2   3  Hunter       sub4\n",
      "3   4   Hilen       sub6\n",
      "   id  Name subject_id\n",
      "0   1  Bill       sub2\n",
      "1   2  Lucy       sub4\n",
      "2   3  Jack       sub3\n",
      "3   4  Mike       sub6\n",
      "   id_x  Name_x subject_id  id_y Name_y\n",
      "0     1   Smith       sub1   NaN    NaN\n",
      "1     2   Maiki       sub2   1.0   Bill\n",
      "2     3  Hunter       sub4   2.0   Lucy\n",
      "3     4   Hilen       sub6   4.0   Mike\n"
     ]
    }
   ],
   "source": [
    "left = pd.DataFrame({ \n",
    "   'id':[1,2,3,4], \n",
    "   'Name': ['Smith', 'Maiki', 'Hunter', 'Hilen'], \n",
    "   'subject_id':['sub1','sub2','sub4','sub6']}) \n",
    "right = pd.DataFrame({ \n",
    "    'id':[1,2,3,4], \n",
    "   'Name': ['Bill', 'Lucy', 'Jack', 'Mike'], \n",
    "   'subject_id':['sub2','sub4','sub3','sub6']}) \n",
    "print(left)\n",
    "print(right)\n",
    "#以left侧的subject_id为键\n",
    "print(pd.merge(left,right,on='subject_id',how=\"left\"))"
   ]
  },
  {
   "cell_type": "markdown",
   "metadata": {},
   "source": [
    "### 7.2 连接"
   ]
  },
  {
   "cell_type": "code",
   "execution_count": 38,
   "metadata": {},
   "outputs": [
    {
     "name": "stdout",
     "output_type": "stream",
     "text": [
      "    A   B   C   D\n",
      "0  A0  B0  C0  D0\n",
      "1  A1  B1  C1  D1\n",
      "2  A2  B2  C2  D2\n",
      "3  A3  B3  C3  D3\n",
      "0  A4  B4  C4  D4\n",
      "1  A5  B5  C5  D5\n",
      "2  A6  B6  C6  D6\n",
      "3  A7  B7  C7  D7\n"
     ]
    }
   ],
   "source": [
    "import pandas as pd\n",
    "a= pd.DataFrame({'A': ['A0', 'A1', 'A2', 'A3'],\n",
    "                    'B': ['B0', 'B1', 'B2', 'B3'],\n",
    "                    'C': ['C0', 'C1', 'C2', 'C3'],\n",
    "                    'D': ['D0', 'D1', 'D2', 'D3']},\n",
    "                    index=[0, 1, 2, 3])\n",
    "b= pd.DataFrame({'A': ['A4', 'A5', 'A6', 'A7'],\n",
    "                    'B': ['B4', 'B5', 'B6', 'B7'],\n",
    "                    'C': ['C4', 'C5', 'C6', 'C7'],\n",
    "                    'D': ['D4', 'D5', 'D6', 'D7']},\n",
    "               )\n",
    "#连接a与b\n",
    "print(pd.concat([a,b]))"
   ]
  },
  {
   "cell_type": "code",
   "execution_count": 39,
   "metadata": {},
   "outputs": [
    {
     "name": "stdout",
     "output_type": "stream",
     "text": [
      "    A   B   C   D\n",
      "0  A0  B0  C0  D0\n",
      "1  A1  B1  C1  D1\n",
      "2  A2  B2  C2  D2\n",
      "3  A3  B3  C3  D3\n",
      "4  A4  B4  C4  D1\n",
      "5  A5  B5  C5  D2\n",
      "6  A6  B6  C6  D5\n",
      "7  A7  B7  C7  D6\n"
     ]
    }
   ],
   "source": [
    "a= pd.DataFrame({'A': ['A0', 'A1', 'A2', 'A3'],\n",
    "                    'B': ['B0', 'B1', 'B2', 'B3'],\n",
    "                    'C': ['C0', 'C1', 'C2', 'C3'],\n",
    "                    'D': ['D0', 'D1', 'D2', 'D3']},\n",
    "                    index=[0, 1, 2, 3])\n",
    "b= pd.DataFrame({'A': ['A4', 'A5', 'A6', 'A7'],\n",
    "                    'B': ['B4', 'B5', 'B6', 'B7'],\n",
    "                    'C': ['C4', 'C5', 'C6', 'C7'],\n",
    "                    'D': ['D1', 'D2', 'D5', 'D6']},\n",
    "                     index=[4,5,6,7])\n",
    "#沿着 axis=0，使用 apppend()方法连接a与b\n",
    "print(a.append(b))"
   ]
  },
  {
   "cell_type": "markdown",
   "metadata": {},
   "source": [
    "## 8. Pandas的分组与聚合"
   ]
  },
  {
   "cell_type": "code",
   "execution_count": 41,
   "metadata": {},
   "outputs": [
    {
     "name": "stdout",
     "output_type": "stream",
     "text": [
      "label is 82\n",
      "option_course is \n",
      "   Name  score option_course\n",
      "0  John     82            C#\n",
      "label is 87\n",
      "option_course is \n",
      "   Name  score option_course\n",
      "3  Ella     87             C\n",
      "label is 91\n",
      "option_course is \n",
      "   Name  score option_course\n",
      "2  Sona     91          Java\n",
      "label is 98\n",
      "option_course is \n",
      "    Name  score option_course\n",
      "1  Helen     98        Python\n"
     ]
    }
   ],
   "source": [
    "data = {'Name': ['John', 'Helen', 'Sona', 'Ella'],\n",
    "   'score': [82, 98, 91, 87],\n",
    "   'option_course': ['C#','Python','Java','C']}\n",
    "df = pd.DataFrame(data)\n",
    "#查看分组\n",
    "grouped=df.groupby('score')\n",
    "for label, option_course in grouped:\n",
    "#其中key代表分组后字典的键，也就是score\n",
    "    print(\"label is {}\".format(label))\n",
    "#字典对应的值选修的科目\n",
    "    print(\"option_course is \\n{}\".format(option_course))"
   ]
  },
  {
   "cell_type": "code",
   "execution_count": 42,
   "metadata": {},
   "outputs": [
    {
     "name": "stdout",
     "output_type": "stream",
     "text": [
      "{('Ella', 87): Int64Index([3], dtype='int64'), ('Helen', 98): Int64Index([1], dtype='int64'), ('John', 82): Int64Index([0], dtype='int64'), ('Sona', 91): Int64Index([2], dtype='int64')}\n"
     ]
    }
   ],
   "source": [
    "print(df.groupby(['Name','score']).groups)"
   ]
  }
 ],
 "metadata": {
  "kernelspec": {
   "display_name": "Python 3",
   "language": "python",
   "name": "python3"
  },
  "language_info": {
   "codemirror_mode": {
    "name": "ipython",
    "version": 3
   },
   "file_extension": ".py",
   "mimetype": "text/x-python",
   "name": "python",
   "nbconvert_exporter": "python",
   "pygments_lexer": "ipython3",
   "version": "3.6.5"
  }
 },
 "nbformat": 4,
 "nbformat_minor": 2
}
